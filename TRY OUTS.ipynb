{
 "cells": [
  {
   "cell_type": "code",
   "execution_count": 2,
   "id": "03c95014",
   "metadata": {},
   "outputs": [],
   "source": [
    "import pandas as pd"
   ]
  },
  {
   "cell_type": "code",
   "execution_count": 5,
   "id": "d34d58f4",
   "metadata": {},
   "outputs": [],
   "source": [
    "data_job = pd.read_csv('linkedin-jobs-africa.csv')"
   ]
  },
  {
   "cell_type": "code",
   "execution_count": 6,
   "id": "bd7eea8a",
   "metadata": {},
   "outputs": [
    {
     "data": {
      "text/plain": [
       "pandas.core.frame.DataFrame"
      ]
     },
     "execution_count": 6,
     "metadata": {},
     "output_type": "execute_result"
    }
   ],
   "source": [
    "type (data_job)"
   ]
  },
  {
   "cell_type": "code",
   "execution_count": 7,
   "id": "7c0b4a45",
   "metadata": {},
   "outputs": [
    {
     "data": {
      "text/html": [
       "<div>\n",
       "<style scoped>\n",
       "    .dataframe tbody tr th:only-of-type {\n",
       "        vertical-align: middle;\n",
       "    }\n",
       "\n",
       "    .dataframe tbody tr th {\n",
       "        vertical-align: top;\n",
       "    }\n",
       "\n",
       "    .dataframe thead th {\n",
       "        text-align: right;\n",
       "    }\n",
       "</style>\n",
       "<table border=\"1\" class=\"dataframe\">\n",
       "  <thead>\n",
       "    <tr style=\"text-align: right;\">\n",
       "      <th></th>\n",
       "      <th>title</th>\n",
       "      <th>company</th>\n",
       "      <th>description</th>\n",
       "      <th>onsite_remote</th>\n",
       "      <th>salary</th>\n",
       "      <th>location</th>\n",
       "      <th>criteria</th>\n",
       "      <th>posted_date</th>\n",
       "      <th>link</th>\n",
       "    </tr>\n",
       "  </thead>\n",
       "  <tbody>\n",
       "    <tr>\n",
       "      <th>0</th>\n",
       "      <td>Data Analyst</td>\n",
       "      <td>NNC</td>\n",
       "      <td>We are looking for a passionate certified Data...</td>\n",
       "      <td>onsite</td>\n",
       "      <td>NaN</td>\n",
       "      <td>Cairo, Cairo, Egypt</td>\n",
       "      <td>[{'مستوى الأقدمية': 'غير مطبق'}, {'نوع التوظيف...</td>\n",
       "      <td>2022-11-18</td>\n",
       "      <td>https://eg.linkedin.com/jobs/view/data-analyst...</td>\n",
       "    </tr>\n",
       "    <tr>\n",
       "      <th>1</th>\n",
       "      <td>Data Analyst</td>\n",
       "      <td>Watu Credit</td>\n",
       "      <td>WATU is a focus-driven, customer-centric compa...</td>\n",
       "      <td>onsite</td>\n",
       "      <td>NaN</td>\n",
       "      <td>Nairobi County, Kenya</td>\n",
       "      <td>[{'Seniority level': 'Associate'}, {'Employmen...</td>\n",
       "      <td>2022-11-01</td>\n",
       "      <td>https://ke.linkedin.com/jobs/view/data-analyst...</td>\n",
       "    </tr>\n",
       "    <tr>\n",
       "      <th>2</th>\n",
       "      <td>Data Analyst (Credit Risk)</td>\n",
       "      <td>Kuda</td>\n",
       "      <td>Kuda is a fintech on a mission to make financi...</td>\n",
       "      <td>onsite</td>\n",
       "      <td>NaN</td>\n",
       "      <td>Cape Town, Western Cape, South Africa</td>\n",
       "      <td>[{'Seniority level': 'Not Applicable'}, {'Empl...</td>\n",
       "      <td>2022-11-21</td>\n",
       "      <td>https://za.linkedin.com/jobs/view/data-analyst...</td>\n",
       "    </tr>\n",
       "    <tr>\n",
       "      <th>3</th>\n",
       "      <td>Data Analyst</td>\n",
       "      <td>Watu Credit</td>\n",
       "      <td>Role: Data AnalystReporting to: Data Analytics...</td>\n",
       "      <td>onsite</td>\n",
       "      <td>NaN</td>\n",
       "      <td>Nairobi, Nairobi County, Kenya</td>\n",
       "      <td>[{'Seniority level': 'Mid-Senior level'}, {'Em...</td>\n",
       "      <td>2022-11-01</td>\n",
       "      <td>https://ke.linkedin.com/jobs/view/data-analyst...</td>\n",
       "    </tr>\n",
       "    <tr>\n",
       "      <th>4</th>\n",
       "      <td>Data Analyst</td>\n",
       "      <td>Tata Consultancy Services</td>\n",
       "      <td>About Tata Consultancy ServicesTata Consultanc...</td>\n",
       "      <td>onsite</td>\n",
       "      <td>NaN</td>\n",
       "      <td>City of Johannesburg, Gauteng, South Africa</td>\n",
       "      <td>[{'Seniority level': 'Mid-Senior level'}, {'Em...</td>\n",
       "      <td>2022-10-27</td>\n",
       "      <td>https://za.linkedin.com/jobs/view/data-analyst...</td>\n",
       "    </tr>\n",
       "  </tbody>\n",
       "</table>\n",
       "</div>"
      ],
      "text/plain": [
       "                        title                    company  \\\n",
       "0                Data Analyst                        NNC   \n",
       "1                Data Analyst                Watu Credit   \n",
       "2  Data Analyst (Credit Risk)                       Kuda   \n",
       "3                Data Analyst                Watu Credit   \n",
       "4                Data Analyst  Tata Consultancy Services   \n",
       "\n",
       "                                         description onsite_remote  salary  \\\n",
       "0  We are looking for a passionate certified Data...        onsite     NaN   \n",
       "1  WATU is a focus-driven, customer-centric compa...        onsite     NaN   \n",
       "2  Kuda is a fintech on a mission to make financi...        onsite     NaN   \n",
       "3  Role: Data AnalystReporting to: Data Analytics...        onsite     NaN   \n",
       "4  About Tata Consultancy ServicesTata Consultanc...        onsite     NaN   \n",
       "\n",
       "                                      location  \\\n",
       "0                          Cairo, Cairo, Egypt   \n",
       "1                        Nairobi County, Kenya   \n",
       "2        Cape Town, Western Cape, South Africa   \n",
       "3               Nairobi, Nairobi County, Kenya   \n",
       "4  City of Johannesburg, Gauteng, South Africa   \n",
       "\n",
       "                                            criteria posted_date  \\\n",
       "0  [{'مستوى الأقدمية': 'غير مطبق'}, {'نوع التوظيف...  2022-11-18   \n",
       "1  [{'Seniority level': 'Associate'}, {'Employmen...  2022-11-01   \n",
       "2  [{'Seniority level': 'Not Applicable'}, {'Empl...  2022-11-21   \n",
       "3  [{'Seniority level': 'Mid-Senior level'}, {'Em...  2022-11-01   \n",
       "4  [{'Seniority level': 'Mid-Senior level'}, {'Em...  2022-10-27   \n",
       "\n",
       "                                                link  \n",
       "0  https://eg.linkedin.com/jobs/view/data-analyst...  \n",
       "1  https://ke.linkedin.com/jobs/view/data-analyst...  \n",
       "2  https://za.linkedin.com/jobs/view/data-analyst...  \n",
       "3  https://ke.linkedin.com/jobs/view/data-analyst...  \n",
       "4  https://za.linkedin.com/jobs/view/data-analyst...  "
      ]
     },
     "execution_count": 7,
     "metadata": {},
     "output_type": "execute_result"
    }
   ],
   "source": [
    "data_job.head ()"
   ]
  },
  {
   "cell_type": "code",
   "execution_count": 1,
   "id": "0944de52",
   "metadata": {},
   "outputs": [],
   "source": [
    "#obtaining data from scratch\n",
    "import pandas as pd"
   ]
  },
  {
   "cell_type": "code",
   "execution_count": 11,
   "id": "5022a323",
   "metadata": {},
   "outputs": [],
   "source": [
    "url_link = \"https://en.wikipedia.org/wiki/List_of_highest-grossing_Nigerian_films\""
   ]
  },
  {
   "cell_type": "code",
   "execution_count": 12,
   "id": "e6caac72",
   "metadata": {},
   "outputs": [],
   "source": [
    "movie_data = pd.read_html(url_link)"
   ]
  },
  {
   "cell_type": "code",
   "execution_count": 13,
   "id": "e70e0767",
   "metadata": {},
   "outputs": [
    {
     "data": {
      "text/plain": [
       "list"
      ]
     },
     "execution_count": 13,
     "metadata": {},
     "output_type": "execute_result"
    }
   ],
   "source": [
    "type (movie_data)"
   ]
  },
  {
   "cell_type": "code",
   "execution_count": 14,
   "id": "08c49a06",
   "metadata": {},
   "outputs": [
    {
     "data": {
      "text/plain": [
       "8"
      ]
     },
     "execution_count": 14,
     "metadata": {},
     "output_type": "execute_result"
    }
   ],
   "source": [
    "len(movie_data)"
   ]
  },
  {
   "cell_type": "code",
   "execution_count": 15,
   "id": "db489e9d",
   "metadata": {},
   "outputs": [
    {
     "data": {
      "text/html": [
       "<div>\n",
       "<style scoped>\n",
       "    .dataframe tbody tr th:only-of-type {\n",
       "        vertical-align: middle;\n",
       "    }\n",
       "\n",
       "    .dataframe tbody tr th {\n",
       "        vertical-align: top;\n",
       "    }\n",
       "\n",
       "    .dataframe thead th {\n",
       "        text-align: right;\n",
       "    }\n",
       "</style>\n",
       "<table border=\"1\" class=\"dataframe\">\n",
       "  <thead>\n",
       "    <tr style=\"text-align: right;\">\n",
       "      <th></th>\n",
       "      <th>Rank</th>\n",
       "      <th>Title</th>\n",
       "      <th>Year</th>\n",
       "      <th>Domestic Gross</th>\n",
       "      <th>Studio(s)</th>\n",
       "      <th>Director(s)</th>\n",
       "    </tr>\n",
       "  </thead>\n",
       "  <tbody>\n",
       "    <tr>\n",
       "      <th>0</th>\n",
       "      <td>1</td>\n",
       "      <td>A Tribe Called Judah</td>\n",
       "      <td>2023</td>\n",
       "      <td>₦1,398,872,790[1]</td>\n",
       "      <td>Funke Ayotunde Akindele Network</td>\n",
       "      <td>Funke Akindele, Adeoluwa Owu</td>\n",
       "    </tr>\n",
       "    <tr>\n",
       "      <th>1</th>\n",
       "      <td>2</td>\n",
       "      <td>Battle on Buka Street</td>\n",
       "      <td>2022</td>\n",
       "      <td>₦668,423,056[2]</td>\n",
       "      <td>Funke Ayotunde Akindele Network / FilmOne</td>\n",
       "      <td>Funke Akindele, Tobi Makinde</td>\n",
       "    </tr>\n",
       "    <tr>\n",
       "      <th>2</th>\n",
       "      <td>3</td>\n",
       "      <td>Omo Ghetto: The Saga</td>\n",
       "      <td>2020</td>\n",
       "      <td>₦636,129,120[3]</td>\n",
       "      <td>SceneOne Productions</td>\n",
       "      <td>Funke Akindele. JJC Skillz</td>\n",
       "    </tr>\n",
       "    <tr>\n",
       "      <th>3</th>\n",
       "      <td>4</td>\n",
       "      <td>The Wedding Party</td>\n",
       "      <td>2016</td>\n",
       "      <td>₦452,288,605[4]</td>\n",
       "      <td>Ebonylife Films / FilmOne / Inkblot Production...</td>\n",
       "      <td>Kemi Adetiba</td>\n",
       "    </tr>\n",
       "    <tr>\n",
       "      <th>4</th>\n",
       "      <td>5</td>\n",
       "      <td>The Wedding Party 2</td>\n",
       "      <td>2017</td>\n",
       "      <td>₦433,197,377[5]</td>\n",
       "      <td>Ebonylife Films / FilmOne / Inkblot Production...</td>\n",
       "      <td>Niyi Akinmolayan</td>\n",
       "    </tr>\n",
       "    <tr>\n",
       "      <th>...</th>\n",
       "      <td>...</td>\n",
       "      <td>...</td>\n",
       "      <td>...</td>\n",
       "      <td>...</td>\n",
       "      <td>...</td>\n",
       "      <td>...</td>\n",
       "    </tr>\n",
       "    <tr>\n",
       "      <th>97</th>\n",
       "      <td>98</td>\n",
       "      <td>Lara and the Beat</td>\n",
       "      <td>2018</td>\n",
       "      <td>₦30,693,143[46]</td>\n",
       "      <td>Biola Alabi Media</td>\n",
       "      <td>Tosin Coker</td>\n",
       "    </tr>\n",
       "    <tr>\n",
       "      <th>98</th>\n",
       "      <td>99</td>\n",
       "      <td>Elevator Baby</td>\n",
       "      <td>2019</td>\n",
       "      <td>₦30,595,550[21]</td>\n",
       "      <td>Anthill Studios</td>\n",
       "      <td>Akay Mason</td>\n",
       "    </tr>\n",
       "    <tr>\n",
       "      <th>99</th>\n",
       "      <td>100</td>\n",
       "      <td>The Bride Price</td>\n",
       "      <td>2023</td>\n",
       "      <td>₦30,585,205</td>\n",
       "      <td>AstraTv Africa</td>\n",
       "      <td>Ikechukwu Oku</td>\n",
       "    </tr>\n",
       "    <tr>\n",
       "      <th>100</th>\n",
       "      <td>101</td>\n",
       "      <td>The Perfect Arrangement</td>\n",
       "      <td>2022</td>\n",
       "      <td>₦30,515,400[8]</td>\n",
       "      <td>Inkblot Productions</td>\n",
       "      <td>Chinaza Onuzu</td>\n",
       "    </tr>\n",
       "    <tr>\n",
       "      <th>101</th>\n",
       "      <td>102</td>\n",
       "      <td>Muna</td>\n",
       "      <td>2019</td>\n",
       "      <td>₦30,456,996[61]</td>\n",
       "      <td>KevStel Productions</td>\n",
       "      <td>Kevin Nwankwor</td>\n",
       "    </tr>\n",
       "  </tbody>\n",
       "</table>\n",
       "<p>102 rows × 6 columns</p>\n",
       "</div>"
      ],
      "text/plain": [
       "     Rank                    Title  Year     Domestic Gross  \\\n",
       "0       1     A Tribe Called Judah  2023  ₦1,398,872,790[1]   \n",
       "1       2    Battle on Buka Street  2022    ₦668,423,056[2]   \n",
       "2       3     Omo Ghetto: The Saga  2020    ₦636,129,120[3]   \n",
       "3       4        The Wedding Party  2016    ₦452,288,605[4]   \n",
       "4       5      The Wedding Party 2  2017    ₦433,197,377[5]   \n",
       "..    ...                      ...   ...                ...   \n",
       "97     98        Lara and the Beat  2018    ₦30,693,143[46]   \n",
       "98     99            Elevator Baby  2019    ₦30,595,550[21]   \n",
       "99    100          The Bride Price  2023        ₦30,585,205   \n",
       "100   101  The Perfect Arrangement  2022     ₦30,515,400[8]   \n",
       "101   102                     Muna  2019    ₦30,456,996[61]   \n",
       "\n",
       "                                             Studio(s)  \\\n",
       "0                      Funke Ayotunde Akindele Network   \n",
       "1            Funke Ayotunde Akindele Network / FilmOne   \n",
       "2                                 SceneOne Productions   \n",
       "3    Ebonylife Films / FilmOne / Inkblot Production...   \n",
       "4    Ebonylife Films / FilmOne / Inkblot Production...   \n",
       "..                                                 ...   \n",
       "97                                   Biola Alabi Media   \n",
       "98                                     Anthill Studios   \n",
       "99                                      AstraTv Africa   \n",
       "100                                Inkblot Productions   \n",
       "101                                KevStel Productions   \n",
       "\n",
       "                      Director(s)  \n",
       "0    Funke Akindele, Adeoluwa Owu  \n",
       "1    Funke Akindele, Tobi Makinde  \n",
       "2      Funke Akindele. JJC Skillz  \n",
       "3                    Kemi Adetiba  \n",
       "4                Niyi Akinmolayan  \n",
       "..                            ...  \n",
       "97                    Tosin Coker  \n",
       "98                     Akay Mason  \n",
       "99                  Ikechukwu Oku  \n",
       "100                 Chinaza Onuzu  \n",
       "101                Kevin Nwankwor  \n",
       "\n",
       "[102 rows x 6 columns]"
      ]
     },
     "execution_count": 15,
     "metadata": {},
     "output_type": "execute_result"
    }
   ],
   "source": [
    "movie_data[0]"
   ]
  },
  {
   "cell_type": "code",
   "execution_count": 16,
   "id": "c38f7029",
   "metadata": {},
   "outputs": [],
   "source": [
    "movie_data = movie_data [0]"
   ]
  },
  {
   "cell_type": "code",
   "execution_count": 17,
   "id": "556efdc2",
   "metadata": {},
   "outputs": [
    {
     "data": {
      "text/plain": [
       "pandas.core.frame.DataFrame"
      ]
     },
     "execution_count": 17,
     "metadata": {},
     "output_type": "execute_result"
    }
   ],
   "source": [
    "type(movie_data)"
   ]
  },
  {
   "cell_type": "code",
   "execution_count": 18,
   "id": "bff27d4a",
   "metadata": {},
   "outputs": [
    {
     "data": {
      "text/html": [
       "<div>\n",
       "<style scoped>\n",
       "    .dataframe tbody tr th:only-of-type {\n",
       "        vertical-align: middle;\n",
       "    }\n",
       "\n",
       "    .dataframe tbody tr th {\n",
       "        vertical-align: top;\n",
       "    }\n",
       "\n",
       "    .dataframe thead th {\n",
       "        text-align: right;\n",
       "    }\n",
       "</style>\n",
       "<table border=\"1\" class=\"dataframe\">\n",
       "  <thead>\n",
       "    <tr style=\"text-align: right;\">\n",
       "      <th></th>\n",
       "      <th>Rank</th>\n",
       "      <th>Title</th>\n",
       "      <th>Year</th>\n",
       "      <th>Domestic Gross</th>\n",
       "      <th>Studio(s)</th>\n",
       "      <th>Director(s)</th>\n",
       "    </tr>\n",
       "  </thead>\n",
       "  <tbody>\n",
       "    <tr>\n",
       "      <th>0</th>\n",
       "      <td>1</td>\n",
       "      <td>A Tribe Called Judah</td>\n",
       "      <td>2023</td>\n",
       "      <td>₦1,398,872,790[1]</td>\n",
       "      <td>Funke Ayotunde Akindele Network</td>\n",
       "      <td>Funke Akindele, Adeoluwa Owu</td>\n",
       "    </tr>\n",
       "    <tr>\n",
       "      <th>1</th>\n",
       "      <td>2</td>\n",
       "      <td>Battle on Buka Street</td>\n",
       "      <td>2022</td>\n",
       "      <td>₦668,423,056[2]</td>\n",
       "      <td>Funke Ayotunde Akindele Network / FilmOne</td>\n",
       "      <td>Funke Akindele, Tobi Makinde</td>\n",
       "    </tr>\n",
       "    <tr>\n",
       "      <th>2</th>\n",
       "      <td>3</td>\n",
       "      <td>Omo Ghetto: The Saga</td>\n",
       "      <td>2020</td>\n",
       "      <td>₦636,129,120[3]</td>\n",
       "      <td>SceneOne Productions</td>\n",
       "      <td>Funke Akindele. JJC Skillz</td>\n",
       "    </tr>\n",
       "    <tr>\n",
       "      <th>3</th>\n",
       "      <td>4</td>\n",
       "      <td>The Wedding Party</td>\n",
       "      <td>2016</td>\n",
       "      <td>₦452,288,605[4]</td>\n",
       "      <td>Ebonylife Films / FilmOne / Inkblot Production...</td>\n",
       "      <td>Kemi Adetiba</td>\n",
       "    </tr>\n",
       "    <tr>\n",
       "      <th>4</th>\n",
       "      <td>5</td>\n",
       "      <td>The Wedding Party 2</td>\n",
       "      <td>2017</td>\n",
       "      <td>₦433,197,377[5]</td>\n",
       "      <td>Ebonylife Films / FilmOne / Inkblot Production...</td>\n",
       "      <td>Niyi Akinmolayan</td>\n",
       "    </tr>\n",
       "  </tbody>\n",
       "</table>\n",
       "</div>"
      ],
      "text/plain": [
       "   Rank                  Title  Year     Domestic Gross  \\\n",
       "0     1   A Tribe Called Judah  2023  ₦1,398,872,790[1]   \n",
       "1     2  Battle on Buka Street  2022    ₦668,423,056[2]   \n",
       "2     3   Omo Ghetto: The Saga  2020    ₦636,129,120[3]   \n",
       "3     4      The Wedding Party  2016    ₦452,288,605[4]   \n",
       "4     5    The Wedding Party 2  2017    ₦433,197,377[5]   \n",
       "\n",
       "                                           Studio(s)  \\\n",
       "0                    Funke Ayotunde Akindele Network   \n",
       "1          Funke Ayotunde Akindele Network / FilmOne   \n",
       "2                               SceneOne Productions   \n",
       "3  Ebonylife Films / FilmOne / Inkblot Production...   \n",
       "4  Ebonylife Films / FilmOne / Inkblot Production...   \n",
       "\n",
       "                    Director(s)  \n",
       "0  Funke Akindele, Adeoluwa Owu  \n",
       "1  Funke Akindele, Tobi Makinde  \n",
       "2    Funke Akindele. JJC Skillz  \n",
       "3                  Kemi Adetiba  \n",
       "4              Niyi Akinmolayan  "
      ]
     },
     "execution_count": 18,
     "metadata": {},
     "output_type": "execute_result"
    }
   ],
   "source": [
    "movie_data.head()"
   ]
  },
  {
   "cell_type": "markdown",
   "id": "f2cccf82",
   "metadata": {},
   "source": [
    "# writing an import statement"
   ]
  },
  {
   "cell_type": "code",
   "execution_count": 19,
   "id": "0b195578",
   "metadata": {},
   "outputs": [],
   "source": [
    "import pandas as pd"
   ]
  },
  {
   "cell_type": "code",
   "execution_count": 20,
   "id": "34d68e5e",
   "metadata": {},
   "outputs": [],
   "source": [
    "url_link = \"https://en.wikipedia.org/wiki/List_of_highest-grossing_Nigerian_films\""
   ]
  },
  {
   "cell_type": "code",
   "execution_count": 21,
   "id": "68499fb5",
   "metadata": {},
   "outputs": [],
   "source": [
    "movie_data = pd.read_html(url_link) #creating a dataframe"
   ]
  },
  {
   "cell_type": "code",
   "execution_count": 22,
   "id": "18d02210",
   "metadata": {},
   "outputs": [],
   "source": [
    "#data collected from wikipedia becomes a list after running the above."
   ]
  },
  {
   "cell_type": "code",
   "execution_count": 23,
   "id": "e54e54f8",
   "metadata": {},
   "outputs": [
    {
     "data": {
      "text/plain": [
       "8"
      ]
     },
     "execution_count": 23,
     "metadata": {},
     "output_type": "execute_result"
    }
   ],
   "source": [
    "len(movie_data)"
   ]
  },
  {
   "cell_type": "code",
   "execution_count": 24,
   "id": "1ff5bfef",
   "metadata": {},
   "outputs": [],
   "source": [
    "movie_data = movie_data[0]"
   ]
  },
  {
   "cell_type": "code",
   "execution_count": 25,
   "id": "c4fbef61",
   "metadata": {},
   "outputs": [
    {
     "data": {
      "text/html": [
       "<div>\n",
       "<style scoped>\n",
       "    .dataframe tbody tr th:only-of-type {\n",
       "        vertical-align: middle;\n",
       "    }\n",
       "\n",
       "    .dataframe tbody tr th {\n",
       "        vertical-align: top;\n",
       "    }\n",
       "\n",
       "    .dataframe thead th {\n",
       "        text-align: right;\n",
       "    }\n",
       "</style>\n",
       "<table border=\"1\" class=\"dataframe\">\n",
       "  <thead>\n",
       "    <tr style=\"text-align: right;\">\n",
       "      <th></th>\n",
       "      <th>Rank</th>\n",
       "      <th>Title</th>\n",
       "      <th>Year</th>\n",
       "      <th>Domestic Gross</th>\n",
       "      <th>Studio(s)</th>\n",
       "      <th>Director(s)</th>\n",
       "    </tr>\n",
       "  </thead>\n",
       "  <tbody>\n",
       "    <tr>\n",
       "      <th>0</th>\n",
       "      <td>1</td>\n",
       "      <td>A Tribe Called Judah</td>\n",
       "      <td>2023</td>\n",
       "      <td>₦1,398,872,790[1]</td>\n",
       "      <td>Funke Ayotunde Akindele Network</td>\n",
       "      <td>Funke Akindele, Adeoluwa Owu</td>\n",
       "    </tr>\n",
       "    <tr>\n",
       "      <th>1</th>\n",
       "      <td>2</td>\n",
       "      <td>Battle on Buka Street</td>\n",
       "      <td>2022</td>\n",
       "      <td>₦668,423,056[2]</td>\n",
       "      <td>Funke Ayotunde Akindele Network / FilmOne</td>\n",
       "      <td>Funke Akindele, Tobi Makinde</td>\n",
       "    </tr>\n",
       "    <tr>\n",
       "      <th>2</th>\n",
       "      <td>3</td>\n",
       "      <td>Omo Ghetto: The Saga</td>\n",
       "      <td>2020</td>\n",
       "      <td>₦636,129,120[3]</td>\n",
       "      <td>SceneOne Productions</td>\n",
       "      <td>Funke Akindele. JJC Skillz</td>\n",
       "    </tr>\n",
       "    <tr>\n",
       "      <th>3</th>\n",
       "      <td>4</td>\n",
       "      <td>The Wedding Party</td>\n",
       "      <td>2016</td>\n",
       "      <td>₦452,288,605[4]</td>\n",
       "      <td>Ebonylife Films / FilmOne / Inkblot Production...</td>\n",
       "      <td>Kemi Adetiba</td>\n",
       "    </tr>\n",
       "    <tr>\n",
       "      <th>4</th>\n",
       "      <td>5</td>\n",
       "      <td>The Wedding Party 2</td>\n",
       "      <td>2017</td>\n",
       "      <td>₦433,197,377[5]</td>\n",
       "      <td>Ebonylife Films / FilmOne / Inkblot Production...</td>\n",
       "      <td>Niyi Akinmolayan</td>\n",
       "    </tr>\n",
       "    <tr>\n",
       "      <th>...</th>\n",
       "      <td>...</td>\n",
       "      <td>...</td>\n",
       "      <td>...</td>\n",
       "      <td>...</td>\n",
       "      <td>...</td>\n",
       "      <td>...</td>\n",
       "    </tr>\n",
       "    <tr>\n",
       "      <th>97</th>\n",
       "      <td>98</td>\n",
       "      <td>Lara and the Beat</td>\n",
       "      <td>2018</td>\n",
       "      <td>₦30,693,143[46]</td>\n",
       "      <td>Biola Alabi Media</td>\n",
       "      <td>Tosin Coker</td>\n",
       "    </tr>\n",
       "    <tr>\n",
       "      <th>98</th>\n",
       "      <td>99</td>\n",
       "      <td>Elevator Baby</td>\n",
       "      <td>2019</td>\n",
       "      <td>₦30,595,550[21]</td>\n",
       "      <td>Anthill Studios</td>\n",
       "      <td>Akay Mason</td>\n",
       "    </tr>\n",
       "    <tr>\n",
       "      <th>99</th>\n",
       "      <td>100</td>\n",
       "      <td>The Bride Price</td>\n",
       "      <td>2023</td>\n",
       "      <td>₦30,585,205</td>\n",
       "      <td>AstraTv Africa</td>\n",
       "      <td>Ikechukwu Oku</td>\n",
       "    </tr>\n",
       "    <tr>\n",
       "      <th>100</th>\n",
       "      <td>101</td>\n",
       "      <td>The Perfect Arrangement</td>\n",
       "      <td>2022</td>\n",
       "      <td>₦30,515,400[8]</td>\n",
       "      <td>Inkblot Productions</td>\n",
       "      <td>Chinaza Onuzu</td>\n",
       "    </tr>\n",
       "    <tr>\n",
       "      <th>101</th>\n",
       "      <td>102</td>\n",
       "      <td>Muna</td>\n",
       "      <td>2019</td>\n",
       "      <td>₦30,456,996[61]</td>\n",
       "      <td>KevStel Productions</td>\n",
       "      <td>Kevin Nwankwor</td>\n",
       "    </tr>\n",
       "  </tbody>\n",
       "</table>\n",
       "<p>102 rows × 6 columns</p>\n",
       "</div>"
      ],
      "text/plain": [
       "     Rank                    Title  Year     Domestic Gross  \\\n",
       "0       1     A Tribe Called Judah  2023  ₦1,398,872,790[1]   \n",
       "1       2    Battle on Buka Street  2022    ₦668,423,056[2]   \n",
       "2       3     Omo Ghetto: The Saga  2020    ₦636,129,120[3]   \n",
       "3       4        The Wedding Party  2016    ₦452,288,605[4]   \n",
       "4       5      The Wedding Party 2  2017    ₦433,197,377[5]   \n",
       "..    ...                      ...   ...                ...   \n",
       "97     98        Lara and the Beat  2018    ₦30,693,143[46]   \n",
       "98     99            Elevator Baby  2019    ₦30,595,550[21]   \n",
       "99    100          The Bride Price  2023        ₦30,585,205   \n",
       "100   101  The Perfect Arrangement  2022     ₦30,515,400[8]   \n",
       "101   102                     Muna  2019    ₦30,456,996[61]   \n",
       "\n",
       "                                             Studio(s)  \\\n",
       "0                      Funke Ayotunde Akindele Network   \n",
       "1            Funke Ayotunde Akindele Network / FilmOne   \n",
       "2                                 SceneOne Productions   \n",
       "3    Ebonylife Films / FilmOne / Inkblot Production...   \n",
       "4    Ebonylife Films / FilmOne / Inkblot Production...   \n",
       "..                                                 ...   \n",
       "97                                   Biola Alabi Media   \n",
       "98                                     Anthill Studios   \n",
       "99                                      AstraTv Africa   \n",
       "100                                Inkblot Productions   \n",
       "101                                KevStel Productions   \n",
       "\n",
       "                      Director(s)  \n",
       "0    Funke Akindele, Adeoluwa Owu  \n",
       "1    Funke Akindele, Tobi Makinde  \n",
       "2      Funke Akindele. JJC Skillz  \n",
       "3                    Kemi Adetiba  \n",
       "4                Niyi Akinmolayan  \n",
       "..                            ...  \n",
       "97                    Tosin Coker  \n",
       "98                     Akay Mason  \n",
       "99                  Ikechukwu Oku  \n",
       "100                 Chinaza Onuzu  \n",
       "101                Kevin Nwankwor  \n",
       "\n",
       "[102 rows x 6 columns]"
      ]
     },
     "execution_count": 25,
     "metadata": {},
     "output_type": "execute_result"
    }
   ],
   "source": [
    "movie_data"
   ]
  },
  {
   "cell_type": "code",
   "execution_count": 26,
   "id": "6cf57785",
   "metadata": {},
   "outputs": [
    {
     "data": {
      "text/plain": [
       "pandas.core.frame.DataFrame"
      ]
     },
     "execution_count": 26,
     "metadata": {},
     "output_type": "execute_result"
    }
   ],
   "source": [
    "type(movie_data)"
   ]
  },
  {
   "cell_type": "code",
   "execution_count": 27,
   "id": "4a750b89",
   "metadata": {},
   "outputs": [],
   "source": [
    "#why is the number of my data not correlating with what i can see"
   ]
  },
  {
   "cell_type": "code",
   "execution_count": 28,
   "id": "378f5eb8",
   "metadata": {},
   "outputs": [
    {
     "data": {
      "text/html": [
       "<div>\n",
       "<style scoped>\n",
       "    .dataframe tbody tr th:only-of-type {\n",
       "        vertical-align: middle;\n",
       "    }\n",
       "\n",
       "    .dataframe tbody tr th {\n",
       "        vertical-align: top;\n",
       "    }\n",
       "\n",
       "    .dataframe thead th {\n",
       "        text-align: right;\n",
       "    }\n",
       "</style>\n",
       "<table border=\"1\" class=\"dataframe\">\n",
       "  <thead>\n",
       "    <tr style=\"text-align: right;\">\n",
       "      <th></th>\n",
       "      <th>Rank</th>\n",
       "      <th>Title</th>\n",
       "      <th>Year</th>\n",
       "      <th>Domestic Gross</th>\n",
       "      <th>Studio(s)</th>\n",
       "      <th>Director(s)</th>\n",
       "    </tr>\n",
       "  </thead>\n",
       "  <tbody>\n",
       "    <tr>\n",
       "      <th>0</th>\n",
       "      <td>1</td>\n",
       "      <td>A Tribe Called Judah</td>\n",
       "      <td>2023</td>\n",
       "      <td>₦1,398,872,790[1]</td>\n",
       "      <td>Funke Ayotunde Akindele Network</td>\n",
       "      <td>Funke Akindele, Adeoluwa Owu</td>\n",
       "    </tr>\n",
       "    <tr>\n",
       "      <th>1</th>\n",
       "      <td>2</td>\n",
       "      <td>Battle on Buka Street</td>\n",
       "      <td>2022</td>\n",
       "      <td>₦668,423,056[2]</td>\n",
       "      <td>Funke Ayotunde Akindele Network / FilmOne</td>\n",
       "      <td>Funke Akindele, Tobi Makinde</td>\n",
       "    </tr>\n",
       "    <tr>\n",
       "      <th>2</th>\n",
       "      <td>3</td>\n",
       "      <td>Omo Ghetto: The Saga</td>\n",
       "      <td>2020</td>\n",
       "      <td>₦636,129,120[3]</td>\n",
       "      <td>SceneOne Productions</td>\n",
       "      <td>Funke Akindele. JJC Skillz</td>\n",
       "    </tr>\n",
       "    <tr>\n",
       "      <th>3</th>\n",
       "      <td>4</td>\n",
       "      <td>The Wedding Party</td>\n",
       "      <td>2016</td>\n",
       "      <td>₦452,288,605[4]</td>\n",
       "      <td>Ebonylife Films / FilmOne / Inkblot Production...</td>\n",
       "      <td>Kemi Adetiba</td>\n",
       "    </tr>\n",
       "    <tr>\n",
       "      <th>4</th>\n",
       "      <td>5</td>\n",
       "      <td>The Wedding Party 2</td>\n",
       "      <td>2017</td>\n",
       "      <td>₦433,197,377[5]</td>\n",
       "      <td>Ebonylife Films / FilmOne / Inkblot Production...</td>\n",
       "      <td>Niyi Akinmolayan</td>\n",
       "    </tr>\n",
       "  </tbody>\n",
       "</table>\n",
       "</div>"
      ],
      "text/plain": [
       "   Rank                  Title  Year     Domestic Gross  \\\n",
       "0     1   A Tribe Called Judah  2023  ₦1,398,872,790[1]   \n",
       "1     2  Battle on Buka Street  2022    ₦668,423,056[2]   \n",
       "2     3   Omo Ghetto: The Saga  2020    ₦636,129,120[3]   \n",
       "3     4      The Wedding Party  2016    ₦452,288,605[4]   \n",
       "4     5    The Wedding Party 2  2017    ₦433,197,377[5]   \n",
       "\n",
       "                                           Studio(s)  \\\n",
       "0                    Funke Ayotunde Akindele Network   \n",
       "1          Funke Ayotunde Akindele Network / FilmOne   \n",
       "2                               SceneOne Productions   \n",
       "3  Ebonylife Films / FilmOne / Inkblot Production...   \n",
       "4  Ebonylife Films / FilmOne / Inkblot Production...   \n",
       "\n",
       "                    Director(s)  \n",
       "0  Funke Akindele, Adeoluwa Owu  \n",
       "1  Funke Akindele, Tobi Makinde  \n",
       "2    Funke Akindele. JJC Skillz  \n",
       "3                  Kemi Adetiba  \n",
       "4              Niyi Akinmolayan  "
      ]
     },
     "execution_count": 28,
     "metadata": {},
     "output_type": "execute_result"
    }
   ],
   "source": [
    "movie_data.head() #A data frame!"
   ]
  },
  {
   "cell_type": "code",
   "execution_count": 29,
   "id": "af729803",
   "metadata": {},
   "outputs": [
    {
     "data": {
      "text/plain": [
       "0     A Tribe Called Judah\n",
       "1    Battle on Buka Street\n",
       "2     Omo Ghetto: The Saga\n",
       "3        The Wedding Party\n",
       "4      The Wedding Party 2\n",
       "Name: Title, dtype: object"
      ]
     },
     "execution_count": 29,
     "metadata": {},
     "output_type": "execute_result"
    }
   ],
   "source": [
    "#For a series\n",
    "movie_data ['Title'].head()"
   ]
  },
  {
   "cell_type": "code",
   "execution_count": 35,
   "id": "c2f48953",
   "metadata": {},
   "outputs": [],
   "source": [
    "MD_Series = movie_data ['Year'].head()"
   ]
  },
  {
   "cell_type": "code",
   "execution_count": 36,
   "id": "5ddcea22",
   "metadata": {},
   "outputs": [
    {
     "data": {
      "text/plain": [
       "pandas.core.series.Series"
      ]
     },
     "execution_count": 36,
     "metadata": {},
     "output_type": "execute_result"
    }
   ],
   "source": [
    "type(MD_Series)"
   ]
  },
  {
   "cell_type": "code",
   "execution_count": 37,
   "id": "9f3e3c12",
   "metadata": {},
   "outputs": [
    {
     "data": {
      "text/html": [
       "<div>\n",
       "<style scoped>\n",
       "    .dataframe tbody tr th:only-of-type {\n",
       "        vertical-align: middle;\n",
       "    }\n",
       "\n",
       "    .dataframe tbody tr th {\n",
       "        vertical-align: top;\n",
       "    }\n",
       "\n",
       "    .dataframe thead th {\n",
       "        text-align: right;\n",
       "    }\n",
       "</style>\n",
       "<table border=\"1\" class=\"dataframe\">\n",
       "  <thead>\n",
       "    <tr style=\"text-align: right;\">\n",
       "      <th></th>\n",
       "      <th>Rank</th>\n",
       "      <th>Title</th>\n",
       "      <th>Year</th>\n",
       "      <th>Domestic Gross</th>\n",
       "      <th>Studio(s)</th>\n",
       "      <th>Director(s)</th>\n",
       "    </tr>\n",
       "  </thead>\n",
       "  <tbody>\n",
       "    <tr>\n",
       "      <th>0</th>\n",
       "      <td>1</td>\n",
       "      <td>A Tribe Called Judah</td>\n",
       "      <td>2023</td>\n",
       "      <td>₦1,398,872,790[1]</td>\n",
       "      <td>Funke Ayotunde Akindele Network</td>\n",
       "      <td>Funke Akindele, Adeoluwa Owu</td>\n",
       "    </tr>\n",
       "    <tr>\n",
       "      <th>1</th>\n",
       "      <td>2</td>\n",
       "      <td>Battle on Buka Street</td>\n",
       "      <td>2022</td>\n",
       "      <td>₦668,423,056[2]</td>\n",
       "      <td>Funke Ayotunde Akindele Network / FilmOne</td>\n",
       "      <td>Funke Akindele, Tobi Makinde</td>\n",
       "    </tr>\n",
       "    <tr>\n",
       "      <th>2</th>\n",
       "      <td>3</td>\n",
       "      <td>Omo Ghetto: The Saga</td>\n",
       "      <td>2020</td>\n",
       "      <td>₦636,129,120[3]</td>\n",
       "      <td>SceneOne Productions</td>\n",
       "      <td>Funke Akindele. JJC Skillz</td>\n",
       "    </tr>\n",
       "    <tr>\n",
       "      <th>3</th>\n",
       "      <td>4</td>\n",
       "      <td>The Wedding Party</td>\n",
       "      <td>2016</td>\n",
       "      <td>₦452,288,605[4]</td>\n",
       "      <td>Ebonylife Films / FilmOne / Inkblot Production...</td>\n",
       "      <td>Kemi Adetiba</td>\n",
       "    </tr>\n",
       "    <tr>\n",
       "      <th>4</th>\n",
       "      <td>5</td>\n",
       "      <td>The Wedding Party 2</td>\n",
       "      <td>2017</td>\n",
       "      <td>₦433,197,377[5]</td>\n",
       "      <td>Ebonylife Films / FilmOne / Inkblot Production...</td>\n",
       "      <td>Niyi Akinmolayan</td>\n",
       "    </tr>\n",
       "    <tr>\n",
       "      <th>5</th>\n",
       "      <td>6</td>\n",
       "      <td>Chief Daddy</td>\n",
       "      <td>2018</td>\n",
       "      <td>₦387,540,749[6]</td>\n",
       "      <td>EbonyLife Films</td>\n",
       "      <td>Niyi Akinmolayan</td>\n",
       "    </tr>\n",
       "    <tr>\n",
       "      <th>6</th>\n",
       "      <td>7</td>\n",
       "      <td>Brotherhood</td>\n",
       "      <td>2022</td>\n",
       "      <td>₦328,881,120[7]</td>\n",
       "      <td>Greoh Studios</td>\n",
       "      <td>Loukman Ali</td>\n",
       "    </tr>\n",
       "    <tr>\n",
       "      <th>7</th>\n",
       "      <td>8</td>\n",
       "      <td>King of Thieves</td>\n",
       "      <td>2022</td>\n",
       "      <td>₦320,805,150[8]</td>\n",
       "      <td>Euphoria360 Media / Anthill Studios</td>\n",
       "      <td>Tope Adebayo, Adebayo Tijani</td>\n",
       "    </tr>\n",
       "    <tr>\n",
       "      <th>8</th>\n",
       "      <td>9</td>\n",
       "      <td>Malaika</td>\n",
       "      <td>2023</td>\n",
       "      <td>₦301,123,775</td>\n",
       "      <td>Toyin Abraham Films Production</td>\n",
       "      <td>Steve Sodiya</td>\n",
       "    </tr>\n",
       "    <tr>\n",
       "      <th>9</th>\n",
       "      <td>10</td>\n",
       "      <td>Sugar Rush</td>\n",
       "      <td>2019</td>\n",
       "      <td>₦287,053,270 [9]</td>\n",
       "      <td>GreoH Media / Jungle Filmworks / Empire Mates ...</td>\n",
       "      <td>Kayode Kasum</td>\n",
       "    </tr>\n",
       "  </tbody>\n",
       "</table>\n",
       "</div>"
      ],
      "text/plain": [
       "   Rank                  Title  Year     Domestic Gross  \\\n",
       "0     1   A Tribe Called Judah  2023  ₦1,398,872,790[1]   \n",
       "1     2  Battle on Buka Street  2022    ₦668,423,056[2]   \n",
       "2     3   Omo Ghetto: The Saga  2020    ₦636,129,120[3]   \n",
       "3     4      The Wedding Party  2016    ₦452,288,605[4]   \n",
       "4     5    The Wedding Party 2  2017    ₦433,197,377[5]   \n",
       "5     6            Chief Daddy  2018    ₦387,540,749[6]   \n",
       "6     7            Brotherhood  2022    ₦328,881,120[7]   \n",
       "7     8        King of Thieves  2022    ₦320,805,150[8]   \n",
       "8     9                Malaika  2023       ₦301,123,775   \n",
       "9    10             Sugar Rush  2019   ₦287,053,270 [9]   \n",
       "\n",
       "                                           Studio(s)  \\\n",
       "0                    Funke Ayotunde Akindele Network   \n",
       "1          Funke Ayotunde Akindele Network / FilmOne   \n",
       "2                               SceneOne Productions   \n",
       "3  Ebonylife Films / FilmOne / Inkblot Production...   \n",
       "4  Ebonylife Films / FilmOne / Inkblot Production...   \n",
       "5                                    EbonyLife Films   \n",
       "6                                      Greoh Studios   \n",
       "7                Euphoria360 Media / Anthill Studios   \n",
       "8                     Toyin Abraham Films Production   \n",
       "9  GreoH Media / Jungle Filmworks / Empire Mates ...   \n",
       "\n",
       "                    Director(s)  \n",
       "0  Funke Akindele, Adeoluwa Owu  \n",
       "1  Funke Akindele, Tobi Makinde  \n",
       "2    Funke Akindele. JJC Skillz  \n",
       "3                  Kemi Adetiba  \n",
       "4              Niyi Akinmolayan  \n",
       "5              Niyi Akinmolayan  \n",
       "6                   Loukman Ali  \n",
       "7  Tope Adebayo, Adebayo Tijani  \n",
       "8                  Steve Sodiya  \n",
       "9                  Kayode Kasum  "
      ]
     },
     "execution_count": 37,
     "metadata": {},
     "output_type": "execute_result"
    }
   ],
   "source": [
    "movie_data.head(10)"
   ]
  },
  {
   "cell_type": "code",
   "execution_count": 38,
   "id": "b4250496",
   "metadata": {},
   "outputs": [
    {
     "data": {
      "text/html": [
       "<div>\n",
       "<style scoped>\n",
       "    .dataframe tbody tr th:only-of-type {\n",
       "        vertical-align: middle;\n",
       "    }\n",
       "\n",
       "    .dataframe tbody tr th {\n",
       "        vertical-align: top;\n",
       "    }\n",
       "\n",
       "    .dataframe thead th {\n",
       "        text-align: right;\n",
       "    }\n",
       "</style>\n",
       "<table border=\"1\" class=\"dataframe\">\n",
       "  <thead>\n",
       "    <tr style=\"text-align: right;\">\n",
       "      <th></th>\n",
       "      <th>Rank</th>\n",
       "      <th>Title</th>\n",
       "      <th>Year</th>\n",
       "      <th>Domestic Gross</th>\n",
       "      <th>Studio(s)</th>\n",
       "      <th>Director(s)</th>\n",
       "    </tr>\n",
       "  </thead>\n",
       "  <tbody>\n",
       "    <tr>\n",
       "      <th>92</th>\n",
       "      <td>93</td>\n",
       "      <td>Lust, Love and Other Things</td>\n",
       "      <td>2023</td>\n",
       "      <td>₦31,962,243</td>\n",
       "      <td>Solo / Mswitch</td>\n",
       "      <td>Kayode Kasum</td>\n",
       "    </tr>\n",
       "    <tr>\n",
       "      <th>93</th>\n",
       "      <td>94</td>\n",
       "      <td>Still Falling</td>\n",
       "      <td>2021</td>\n",
       "      <td>₦31,450,600[58]</td>\n",
       "      <td>Entertainment tru Christ</td>\n",
       "      <td>Dimbo Atiya</td>\n",
       "    </tr>\n",
       "    <tr>\n",
       "      <th>94</th>\n",
       "      <td>95</td>\n",
       "      <td>Love Is War</td>\n",
       "      <td>2019</td>\n",
       "      <td>₦31,250,032[21]</td>\n",
       "      <td>Inkblot Production</td>\n",
       "      <td>Omoni Oboli</td>\n",
       "    </tr>\n",
       "    <tr>\n",
       "      <th>95</th>\n",
       "      <td>96</td>\n",
       "      <td>Gold Statue</td>\n",
       "      <td>2019</td>\n",
       "      <td>₦30,986,552[21]</td>\n",
       "      <td>FilmOne Distribution</td>\n",
       "      <td>Tade Ogidan</td>\n",
       "    </tr>\n",
       "    <tr>\n",
       "      <th>96</th>\n",
       "      <td>97</td>\n",
       "      <td>Phone Swap</td>\n",
       "      <td>2012</td>\n",
       "      <td>₦30,713,500,[59][60]</td>\n",
       "      <td>Golden Effects</td>\n",
       "      <td>Kunle Afolayan</td>\n",
       "    </tr>\n",
       "    <tr>\n",
       "      <th>97</th>\n",
       "      <td>98</td>\n",
       "      <td>Lara and the Beat</td>\n",
       "      <td>2018</td>\n",
       "      <td>₦30,693,143[46]</td>\n",
       "      <td>Biola Alabi Media</td>\n",
       "      <td>Tosin Coker</td>\n",
       "    </tr>\n",
       "    <tr>\n",
       "      <th>98</th>\n",
       "      <td>99</td>\n",
       "      <td>Elevator Baby</td>\n",
       "      <td>2019</td>\n",
       "      <td>₦30,595,550[21]</td>\n",
       "      <td>Anthill Studios</td>\n",
       "      <td>Akay Mason</td>\n",
       "    </tr>\n",
       "    <tr>\n",
       "      <th>99</th>\n",
       "      <td>100</td>\n",
       "      <td>The Bride Price</td>\n",
       "      <td>2023</td>\n",
       "      <td>₦30,585,205</td>\n",
       "      <td>AstraTv Africa</td>\n",
       "      <td>Ikechukwu Oku</td>\n",
       "    </tr>\n",
       "    <tr>\n",
       "      <th>100</th>\n",
       "      <td>101</td>\n",
       "      <td>The Perfect Arrangement</td>\n",
       "      <td>2022</td>\n",
       "      <td>₦30,515,400[8]</td>\n",
       "      <td>Inkblot Productions</td>\n",
       "      <td>Chinaza Onuzu</td>\n",
       "    </tr>\n",
       "    <tr>\n",
       "      <th>101</th>\n",
       "      <td>102</td>\n",
       "      <td>Muna</td>\n",
       "      <td>2019</td>\n",
       "      <td>₦30,456,996[61]</td>\n",
       "      <td>KevStel Productions</td>\n",
       "      <td>Kevin Nwankwor</td>\n",
       "    </tr>\n",
       "  </tbody>\n",
       "</table>\n",
       "</div>"
      ],
      "text/plain": [
       "     Rank                        Title  Year        Domestic Gross  \\\n",
       "92     93  Lust, Love and Other Things  2023           ₦31,962,243   \n",
       "93     94                Still Falling  2021       ₦31,450,600[58]   \n",
       "94     95                  Love Is War  2019       ₦31,250,032[21]   \n",
       "95     96                  Gold Statue  2019       ₦30,986,552[21]   \n",
       "96     97                   Phone Swap  2012  ₦30,713,500,[59][60]   \n",
       "97     98            Lara and the Beat  2018       ₦30,693,143[46]   \n",
       "98     99                Elevator Baby  2019       ₦30,595,550[21]   \n",
       "99    100              The Bride Price  2023           ₦30,585,205   \n",
       "100   101      The Perfect Arrangement  2022        ₦30,515,400[8]   \n",
       "101   102                         Muna  2019       ₦30,456,996[61]   \n",
       "\n",
       "                    Studio(s)     Director(s)  \n",
       "92             Solo / Mswitch    Kayode Kasum  \n",
       "93   Entertainment tru Christ     Dimbo Atiya  \n",
       "94         Inkblot Production     Omoni Oboli  \n",
       "95       FilmOne Distribution     Tade Ogidan  \n",
       "96             Golden Effects  Kunle Afolayan  \n",
       "97          Biola Alabi Media     Tosin Coker  \n",
       "98            Anthill Studios      Akay Mason  \n",
       "99             AstraTv Africa   Ikechukwu Oku  \n",
       "100       Inkblot Productions   Chinaza Onuzu  \n",
       "101       KevStel Productions  Kevin Nwankwor  "
      ]
     },
     "execution_count": 38,
     "metadata": {},
     "output_type": "execute_result"
    }
   ],
   "source": [
    "movie_data.tail(10)"
   ]
  },
  {
   "cell_type": "code",
   "execution_count": 39,
   "id": "ca73ff1c",
   "metadata": {},
   "outputs": [
    {
     "data": {
      "text/plain": [
       "Index(['Rank', 'Title', 'Year', 'Domestic Gross', 'Studio(s)', 'Director(s)'], dtype='object')"
      ]
     },
     "execution_count": 39,
     "metadata": {},
     "output_type": "execute_result"
    }
   ],
   "source": [
    "movie_data.columns #this helps to know the column heading of your data frame"
   ]
  },
  {
   "cell_type": "code",
   "execution_count": 41,
   "id": "37b23341",
   "metadata": {},
   "outputs": [
    {
     "data": {
      "text/plain": [
       "0    1\n",
       "1    2\n",
       "2    3\n",
       "3    4\n",
       "4    5\n",
       "Name: Rank, dtype: int64"
      ]
     },
     "execution_count": 41,
     "metadata": {},
     "output_type": "execute_result"
    }
   ],
   "source": [
    "movie_data['Rank']. head()"
   ]
  },
  {
   "cell_type": "code",
   "execution_count": 42,
   "id": "29fdc171",
   "metadata": {},
   "outputs": [],
   "source": [
    "#creating a dataframe from a list\n",
    "lst_names = ['Yomi', 'Miriam', 'Martins', 'Rasheedat']"
   ]
  },
  {
   "cell_type": "code",
   "execution_count": 43,
   "id": "9d64f83b",
   "metadata": {},
   "outputs": [],
   "source": [
    "names = pd.DataFrame(data= lst_names, columns = ['Names'])"
   ]
  },
  {
   "cell_type": "code",
   "execution_count": 44,
   "id": "b91518a8",
   "metadata": {},
   "outputs": [
    {
     "data": {
      "text/plain": [
       "pandas.core.frame.DataFrame"
      ]
     },
     "execution_count": 44,
     "metadata": {},
     "output_type": "execute_result"
    }
   ],
   "source": [
    "type(names)"
   ]
  },
  {
   "cell_type": "code",
   "execution_count": 45,
   "id": "bc06da99",
   "metadata": {},
   "outputs": [
    {
     "data": {
      "text/html": [
       "<div>\n",
       "<style scoped>\n",
       "    .dataframe tbody tr th:only-of-type {\n",
       "        vertical-align: middle;\n",
       "    }\n",
       "\n",
       "    .dataframe tbody tr th {\n",
       "        vertical-align: top;\n",
       "    }\n",
       "\n",
       "    .dataframe thead th {\n",
       "        text-align: right;\n",
       "    }\n",
       "</style>\n",
       "<table border=\"1\" class=\"dataframe\">\n",
       "  <thead>\n",
       "    <tr style=\"text-align: right;\">\n",
       "      <th></th>\n",
       "      <th>Names</th>\n",
       "    </tr>\n",
       "  </thead>\n",
       "  <tbody>\n",
       "    <tr>\n",
       "      <th>0</th>\n",
       "      <td>Yomi</td>\n",
       "    </tr>\n",
       "    <tr>\n",
       "      <th>1</th>\n",
       "      <td>Miriam</td>\n",
       "    </tr>\n",
       "    <tr>\n",
       "      <th>2</th>\n",
       "      <td>Martins</td>\n",
       "    </tr>\n",
       "    <tr>\n",
       "      <th>3</th>\n",
       "      <td>Rasheedat</td>\n",
       "    </tr>\n",
       "  </tbody>\n",
       "</table>\n",
       "</div>"
      ],
      "text/plain": [
       "       Names\n",
       "0       Yomi\n",
       "1     Miriam\n",
       "2    Martins\n",
       "3  Rasheedat"
      ]
     },
     "execution_count": 45,
     "metadata": {},
     "output_type": "execute_result"
    }
   ],
   "source": [
    "names #Lovely using google searching 'creating a dataframe with a python list'"
   ]
  },
  {
   "cell_type": "code",
   "execution_count": 61,
   "id": "56ed1e3d",
   "metadata": {},
   "outputs": [],
   "source": [
    "#creating a list with a dictionary\n",
    "names_dict = {'Names': ['Rasheedat','Khadijah', 'Majeedat'], # Define dictionary\n",
    "  'Age' : [24, 26, '25'],\n",
    "  'City' : ['Abuja', 'Ibadan', 'Kaduna'], 'Skill': ['Data Scientist', 'Business Analyst', 'Frontend Engineer']}"
   ]
  },
  {
   "cell_type": "code",
   "execution_count": 62,
   "id": "4c26ec06",
   "metadata": {},
   "outputs": [],
   "source": [
    "names_data = pd.DataFrame(data= names_dict, columns = ['Names', 'Age', 'City', 'Skill'])"
   ]
  },
  {
   "cell_type": "code",
   "execution_count": 63,
   "id": "be8f09cb",
   "metadata": {},
   "outputs": [
    {
     "data": {
      "text/html": [
       "<div>\n",
       "<style scoped>\n",
       "    .dataframe tbody tr th:only-of-type {\n",
       "        vertical-align: middle;\n",
       "    }\n",
       "\n",
       "    .dataframe tbody tr th {\n",
       "        vertical-align: top;\n",
       "    }\n",
       "\n",
       "    .dataframe thead th {\n",
       "        text-align: right;\n",
       "    }\n",
       "</style>\n",
       "<table border=\"1\" class=\"dataframe\">\n",
       "  <thead>\n",
       "    <tr style=\"text-align: right;\">\n",
       "      <th></th>\n",
       "      <th>Names</th>\n",
       "      <th>Age</th>\n",
       "      <th>City</th>\n",
       "      <th>Skill</th>\n",
       "    </tr>\n",
       "  </thead>\n",
       "  <tbody>\n",
       "    <tr>\n",
       "      <th>0</th>\n",
       "      <td>Rasheedat</td>\n",
       "      <td>24</td>\n",
       "      <td>Abuja</td>\n",
       "      <td>Data Scientist</td>\n",
       "    </tr>\n",
       "    <tr>\n",
       "      <th>1</th>\n",
       "      <td>Khadijah</td>\n",
       "      <td>26</td>\n",
       "      <td>Ibadan</td>\n",
       "      <td>Business Analyst</td>\n",
       "    </tr>\n",
       "    <tr>\n",
       "      <th>2</th>\n",
       "      <td>Majeedat</td>\n",
       "      <td>25</td>\n",
       "      <td>Kaduna</td>\n",
       "      <td>Frontend Engineer</td>\n",
       "    </tr>\n",
       "  </tbody>\n",
       "</table>\n",
       "</div>"
      ],
      "text/plain": [
       "       Names Age    City              Skill\n",
       "0  Rasheedat  24   Abuja     Data Scientist\n",
       "1   Khadijah  26  Ibadan   Business Analyst\n",
       "2   Majeedat  25  Kaduna  Frontend Engineer"
      ]
     },
     "execution_count": 63,
     "metadata": {},
     "output_type": "execute_result"
    }
   ],
   "source": [
    "names_data"
   ]
  },
  {
   "cell_type": "code",
   "execution_count": 64,
   "id": "49d3610e",
   "metadata": {},
   "outputs": [
    {
     "data": {
      "text/plain": [
       "Names         Rasheedat\n",
       "Age                  24\n",
       "City              Abuja\n",
       "Skill    Data Scientist\n",
       "Name: 0, dtype: object"
      ]
     },
     "execution_count": 64,
     "metadata": {},
     "output_type": "execute_result"
    }
   ],
   "source": [
    "#retrieveing data using columns or sequence\n",
    "names_data.iloc[0]"
   ]
  },
  {
   "cell_type": "code",
   "execution_count": 65,
   "id": "cd96d859",
   "metadata": {},
   "outputs": [
    {
     "data": {
      "text/plain": [
       "Names    object\n",
       "Age      object\n",
       "City     object\n",
       "Skill    object\n",
       "dtype: object"
      ]
     },
     "execution_count": 65,
     "metadata": {},
     "output_type": "execute_result"
    }
   ],
   "source": [
    "#absolutely lovely\n",
    "#Retrieving information by calling out datatype\n",
    "names_data.dtypes"
   ]
  },
  {
   "cell_type": "markdown",
   "id": "1b828c98",
   "metadata": {},
   "source": [
    "# Inserting/deleting Data Frame"
   ]
  },
  {
   "cell_type": "code",
   "execution_count": 66,
   "id": "508c1b21",
   "metadata": {},
   "outputs": [
    {
     "data": {
      "text/html": [
       "<div>\n",
       "<style scoped>\n",
       "    .dataframe tbody tr th:only-of-type {\n",
       "        vertical-align: middle;\n",
       "    }\n",
       "\n",
       "    .dataframe tbody tr th {\n",
       "        vertical-align: top;\n",
       "    }\n",
       "\n",
       "    .dataframe thead th {\n",
       "        text-align: right;\n",
       "    }\n",
       "</style>\n",
       "<table border=\"1\" class=\"dataframe\">\n",
       "  <thead>\n",
       "    <tr style=\"text-align: right;\">\n",
       "      <th></th>\n",
       "      <th>Names</th>\n",
       "      <th>Age</th>\n",
       "      <th>City</th>\n",
       "      <th>Skill</th>\n",
       "    </tr>\n",
       "  </thead>\n",
       "  <tbody>\n",
       "    <tr>\n",
       "      <th>0</th>\n",
       "      <td>Rasheedat</td>\n",
       "      <td>24</td>\n",
       "      <td>Abuja</td>\n",
       "      <td>Data Scientist</td>\n",
       "    </tr>\n",
       "    <tr>\n",
       "      <th>1</th>\n",
       "      <td>Khadijah</td>\n",
       "      <td>26</td>\n",
       "      <td>Ibadan</td>\n",
       "      <td>Business Analyst</td>\n",
       "    </tr>\n",
       "    <tr>\n",
       "      <th>2</th>\n",
       "      <td>Majeedat</td>\n",
       "      <td>25</td>\n",
       "      <td>Kaduna</td>\n",
       "      <td>Frontend Engineer</td>\n",
       "    </tr>\n",
       "  </tbody>\n",
       "</table>\n",
       "</div>"
      ],
      "text/plain": [
       "       Names Age    City              Skill\n",
       "0  Rasheedat  24   Abuja     Data Scientist\n",
       "1   Khadijah  26  Ibadan   Business Analyst\n",
       "2   Majeedat  25  Kaduna  Frontend Engineer"
      ]
     },
     "execution_count": 66,
     "metadata": {},
     "output_type": "execute_result"
    }
   ],
   "source": [
    "names_data"
   ]
  },
  {
   "cell_type": "code",
   "execution_count": 67,
   "id": "74c73e32",
   "metadata": {},
   "outputs": [
    {
     "data": {
      "text/plain": [
       "12"
      ]
     },
     "execution_count": 67,
     "metadata": {},
     "output_type": "execute_result"
    }
   ],
   "source": [
    "names_data.size"
   ]
  },
  {
   "cell_type": "code",
   "execution_count": 68,
   "id": "a2bdd066",
   "metadata": {},
   "outputs": [
    {
     "data": {
      "text/plain": [
       "(3, 4)"
      ]
     },
     "execution_count": 68,
     "metadata": {},
     "output_type": "execute_result"
    }
   ],
   "source": [
    "names_data.shape"
   ]
  },
  {
   "cell_type": "code",
   "execution_count": 74,
   "id": "6850d461",
   "metadata": {},
   "outputs": [],
   "source": [
    "#insert a row\n",
    "#1. create a series\n",
    "add = pd.Series(data=['Maryam', 24, 'Malaysia', 'Fashion Stylist'], index=names_data.columns, name=3)"
   ]
  },
  {
   "cell_type": "code",
   "execution_count": 75,
   "id": "70e05465",
   "metadata": {},
   "outputs": [
    {
     "data": {
      "text/plain": [
       "Names             Maryam\n",
       "Age                   24\n",
       "City            Malaysia\n",
       "Skill    Fashion Stylist\n",
       "Name: 3, dtype: object"
      ]
     },
     "execution_count": 75,
     "metadata": {},
     "output_type": "execute_result"
    }
   ],
   "source": [
    "add"
   ]
  },
  {
   "cell_type": "code",
   "execution_count": 77,
   "id": "866bbe5d",
   "metadata": {},
   "outputs": [],
   "source": [
    "#add as a row\n",
    "names_data= pd.concat([names_data,add.to_frame().T], ignore_index= True)"
   ]
  },
  {
   "cell_type": "code",
   "execution_count": 78,
   "id": "6ca8cf27",
   "metadata": {},
   "outputs": [
    {
     "data": {
      "text/html": [
       "<div>\n",
       "<style scoped>\n",
       "    .dataframe tbody tr th:only-of-type {\n",
       "        vertical-align: middle;\n",
       "    }\n",
       "\n",
       "    .dataframe tbody tr th {\n",
       "        vertical-align: top;\n",
       "    }\n",
       "\n",
       "    .dataframe thead th {\n",
       "        text-align: right;\n",
       "    }\n",
       "</style>\n",
       "<table border=\"1\" class=\"dataframe\">\n",
       "  <thead>\n",
       "    <tr style=\"text-align: right;\">\n",
       "      <th></th>\n",
       "      <th>Names</th>\n",
       "      <th>Age</th>\n",
       "      <th>City</th>\n",
       "      <th>Skill</th>\n",
       "    </tr>\n",
       "  </thead>\n",
       "  <tbody>\n",
       "    <tr>\n",
       "      <th>0</th>\n",
       "      <td>Rasheedat</td>\n",
       "      <td>24</td>\n",
       "      <td>Abuja</td>\n",
       "      <td>Data Scientist</td>\n",
       "    </tr>\n",
       "    <tr>\n",
       "      <th>1</th>\n",
       "      <td>Khadijah</td>\n",
       "      <td>26</td>\n",
       "      <td>Ibadan</td>\n",
       "      <td>Business Analyst</td>\n",
       "    </tr>\n",
       "    <tr>\n",
       "      <th>2</th>\n",
       "      <td>Majeedat</td>\n",
       "      <td>25</td>\n",
       "      <td>Kaduna</td>\n",
       "      <td>Frontend Engineer</td>\n",
       "    </tr>\n",
       "    <tr>\n",
       "      <th>3</th>\n",
       "      <td>Maryam</td>\n",
       "      <td>24</td>\n",
       "      <td>Malaysia</td>\n",
       "      <td>Fashion Stylist</td>\n",
       "    </tr>\n",
       "  </tbody>\n",
       "</table>\n",
       "</div>"
      ],
      "text/plain": [
       "       Names Age      City              Skill\n",
       "0  Rasheedat  24     Abuja     Data Scientist\n",
       "1   Khadijah  26    Ibadan   Business Analyst\n",
       "2   Majeedat  25    Kaduna  Frontend Engineer\n",
       "3     Maryam  24  Malaysia    Fashion Stylist"
      ]
     },
     "execution_count": 78,
     "metadata": {},
     "output_type": "execute_result"
    }
   ],
   "source": [
    "names_data"
   ]
  },
  {
   "cell_type": "code",
   "execution_count": 82,
   "id": "8335d86e",
   "metadata": {},
   "outputs": [],
   "source": [
    "# Assuming names_data is your DataFrame and 'Maryam' is the index of the row you want to add to\n",
    "names_data.loc[4] = ['Maryam', 24, 'Malaysia', 'Fashion Stylist']"
   ]
  },
  {
   "cell_type": "code",
   "execution_count": 83,
   "id": "8b4849ba",
   "metadata": {},
   "outputs": [
    {
     "data": {
      "text/html": [
       "<div>\n",
       "<style scoped>\n",
       "    .dataframe tbody tr th:only-of-type {\n",
       "        vertical-align: middle;\n",
       "    }\n",
       "\n",
       "    .dataframe tbody tr th {\n",
       "        vertical-align: top;\n",
       "    }\n",
       "\n",
       "    .dataframe thead th {\n",
       "        text-align: right;\n",
       "    }\n",
       "</style>\n",
       "<table border=\"1\" class=\"dataframe\">\n",
       "  <thead>\n",
       "    <tr style=\"text-align: right;\">\n",
       "      <th></th>\n",
       "      <th>Names</th>\n",
       "      <th>Age</th>\n",
       "      <th>City</th>\n",
       "      <th>Skill</th>\n",
       "    </tr>\n",
       "  </thead>\n",
       "  <tbody>\n",
       "    <tr>\n",
       "      <th>0</th>\n",
       "      <td>Rasheedat</td>\n",
       "      <td>24</td>\n",
       "      <td>Abuja</td>\n",
       "      <td>Data Scientist</td>\n",
       "    </tr>\n",
       "    <tr>\n",
       "      <th>1</th>\n",
       "      <td>Khadijah</td>\n",
       "      <td>26</td>\n",
       "      <td>Ibadan</td>\n",
       "      <td>Business Analyst</td>\n",
       "    </tr>\n",
       "    <tr>\n",
       "      <th>2</th>\n",
       "      <td>Majeedat</td>\n",
       "      <td>25</td>\n",
       "      <td>Kaduna</td>\n",
       "      <td>Frontend Engineer</td>\n",
       "    </tr>\n",
       "    <tr>\n",
       "      <th>3</th>\n",
       "      <td>Maryam</td>\n",
       "      <td>24</td>\n",
       "      <td>Malaysia</td>\n",
       "      <td>Fashion Stylist</td>\n",
       "    </tr>\n",
       "    <tr>\n",
       "      <th>Maryam</th>\n",
       "      <td>Maryam</td>\n",
       "      <td>24</td>\n",
       "      <td>Malaysia</td>\n",
       "      <td>Fashion Stylist</td>\n",
       "    </tr>\n",
       "    <tr>\n",
       "      <th>4</th>\n",
       "      <td>Maryam</td>\n",
       "      <td>24</td>\n",
       "      <td>Malaysia</td>\n",
       "      <td>Fashion Stylist</td>\n",
       "    </tr>\n",
       "  </tbody>\n",
       "</table>\n",
       "</div>"
      ],
      "text/plain": [
       "            Names Age      City              Skill\n",
       "0       Rasheedat  24     Abuja     Data Scientist\n",
       "1        Khadijah  26    Ibadan   Business Analyst\n",
       "2        Majeedat  25    Kaduna  Frontend Engineer\n",
       "3          Maryam  24  Malaysia    Fashion Stylist\n",
       "Maryam     Maryam  24  Malaysia    Fashion Stylist\n",
       "4          Maryam  24  Malaysia    Fashion Stylist"
      ]
     },
     "execution_count": 83,
     "metadata": {},
     "output_type": "execute_result"
    }
   ],
   "source": [
    "names_data"
   ]
  },
  {
   "cell_type": "code",
   "execution_count": null,
   "id": "40a78c3f",
   "metadata": {},
   "outputs": [],
   "source": [
    "# Assuming names_data is your DataFrame and 'Maryam' is the index of the row you want to add to\n",
    "#names_data.loc['Maryam'] = ['Maryam', 24, 'Malaysia', 'Fashion Stylist']\n",
    "\n",
    "# Assuming you want to add the same data to multiple rows\n",
    "# rows_to_add = ['Maryam', 'John', 'Jane']\n",
    "# names_data.loc[rows_to_add] = ['Maryam', 24, 'Malaysia', 'Fashion Stylist']"
   ]
  },
  {
   "cell_type": "code",
   "execution_count": 84,
   "id": "086b9a03",
   "metadata": {},
   "outputs": [],
   "source": [
    "names_data = names_data.drop('Maryam')"
   ]
  },
  {
   "cell_type": "code",
   "execution_count": 85,
   "id": "151f3dc7",
   "metadata": {},
   "outputs": [
    {
     "data": {
      "text/html": [
       "<div>\n",
       "<style scoped>\n",
       "    .dataframe tbody tr th:only-of-type {\n",
       "        vertical-align: middle;\n",
       "    }\n",
       "\n",
       "    .dataframe tbody tr th {\n",
       "        vertical-align: top;\n",
       "    }\n",
       "\n",
       "    .dataframe thead th {\n",
       "        text-align: right;\n",
       "    }\n",
       "</style>\n",
       "<table border=\"1\" class=\"dataframe\">\n",
       "  <thead>\n",
       "    <tr style=\"text-align: right;\">\n",
       "      <th></th>\n",
       "      <th>Names</th>\n",
       "      <th>Age</th>\n",
       "      <th>City</th>\n",
       "      <th>Skill</th>\n",
       "    </tr>\n",
       "  </thead>\n",
       "  <tbody>\n",
       "    <tr>\n",
       "      <th>0</th>\n",
       "      <td>Rasheedat</td>\n",
       "      <td>24</td>\n",
       "      <td>Abuja</td>\n",
       "      <td>Data Scientist</td>\n",
       "    </tr>\n",
       "    <tr>\n",
       "      <th>1</th>\n",
       "      <td>Khadijah</td>\n",
       "      <td>26</td>\n",
       "      <td>Ibadan</td>\n",
       "      <td>Business Analyst</td>\n",
       "    </tr>\n",
       "    <tr>\n",
       "      <th>2</th>\n",
       "      <td>Majeedat</td>\n",
       "      <td>25</td>\n",
       "      <td>Kaduna</td>\n",
       "      <td>Frontend Engineer</td>\n",
       "    </tr>\n",
       "    <tr>\n",
       "      <th>3</th>\n",
       "      <td>Maryam</td>\n",
       "      <td>24</td>\n",
       "      <td>Malaysia</td>\n",
       "      <td>Fashion Stylist</td>\n",
       "    </tr>\n",
       "    <tr>\n",
       "      <th>4</th>\n",
       "      <td>Maryam</td>\n",
       "      <td>24</td>\n",
       "      <td>Malaysia</td>\n",
       "      <td>Fashion Stylist</td>\n",
       "    </tr>\n",
       "  </tbody>\n",
       "</table>\n",
       "</div>"
      ],
      "text/plain": [
       "       Names Age      City              Skill\n",
       "0  Rasheedat  24     Abuja     Data Scientist\n",
       "1   Khadijah  26    Ibadan   Business Analyst\n",
       "2   Majeedat  25    Kaduna  Frontend Engineer\n",
       "3     Maryam  24  Malaysia    Fashion Stylist\n",
       "4     Maryam  24  Malaysia    Fashion Stylist"
      ]
     },
     "execution_count": 85,
     "metadata": {},
     "output_type": "execute_result"
    }
   ],
   "source": [
    "names_data"
   ]
  },
  {
   "cell_type": "code",
   "execution_count": null,
   "id": "54082d4c",
   "metadata": {},
   "outputs": [],
   "source": [
    "# rows_to_remove = ['Maryam', 'John', 'Jane']  # List of row index labels to remove\n",
    "# names_data = names_data.drop(rows_to_remove)"
   ]
  },
  {
   "cell_type": "code",
   "execution_count": 86,
   "id": "f4f5a847",
   "metadata": {},
   "outputs": [],
   "source": [
    "names_data = names_data.drop([3,4])"
   ]
  },
  {
   "cell_type": "code",
   "execution_count": 87,
   "id": "6da66796",
   "metadata": {},
   "outputs": [
    {
     "data": {
      "text/html": [
       "<div>\n",
       "<style scoped>\n",
       "    .dataframe tbody tr th:only-of-type {\n",
       "        vertical-align: middle;\n",
       "    }\n",
       "\n",
       "    .dataframe tbody tr th {\n",
       "        vertical-align: top;\n",
       "    }\n",
       "\n",
       "    .dataframe thead th {\n",
       "        text-align: right;\n",
       "    }\n",
       "</style>\n",
       "<table border=\"1\" class=\"dataframe\">\n",
       "  <thead>\n",
       "    <tr style=\"text-align: right;\">\n",
       "      <th></th>\n",
       "      <th>Names</th>\n",
       "      <th>Age</th>\n",
       "      <th>City</th>\n",
       "      <th>Skill</th>\n",
       "    </tr>\n",
       "  </thead>\n",
       "  <tbody>\n",
       "    <tr>\n",
       "      <th>0</th>\n",
       "      <td>Rasheedat</td>\n",
       "      <td>24</td>\n",
       "      <td>Abuja</td>\n",
       "      <td>Data Scientist</td>\n",
       "    </tr>\n",
       "    <tr>\n",
       "      <th>1</th>\n",
       "      <td>Khadijah</td>\n",
       "      <td>26</td>\n",
       "      <td>Ibadan</td>\n",
       "      <td>Business Analyst</td>\n",
       "    </tr>\n",
       "    <tr>\n",
       "      <th>2</th>\n",
       "      <td>Majeedat</td>\n",
       "      <td>25</td>\n",
       "      <td>Kaduna</td>\n",
       "      <td>Frontend Engineer</td>\n",
       "    </tr>\n",
       "  </tbody>\n",
       "</table>\n",
       "</div>"
      ],
      "text/plain": [
       "       Names Age    City              Skill\n",
       "0  Rasheedat  24   Abuja     Data Scientist\n",
       "1   Khadijah  26  Ibadan   Business Analyst\n",
       "2   Majeedat  25  Kaduna  Frontend Engineer"
      ]
     },
     "execution_count": 87,
     "metadata": {},
     "output_type": "execute_result"
    }
   ],
   "source": [
    "names_data"
   ]
  },
  {
   "cell_type": "code",
   "execution_count": 88,
   "id": "603303f4",
   "metadata": {},
   "outputs": [],
   "source": [
    "names_data.loc[3] = ['Maryam', 24, 'Malaysia', 'Fashion Stylist']"
   ]
  },
  {
   "cell_type": "code",
   "execution_count": 89,
   "id": "113de40b",
   "metadata": {},
   "outputs": [
    {
     "data": {
      "text/html": [
       "<div>\n",
       "<style scoped>\n",
       "    .dataframe tbody tr th:only-of-type {\n",
       "        vertical-align: middle;\n",
       "    }\n",
       "\n",
       "    .dataframe tbody tr th {\n",
       "        vertical-align: top;\n",
       "    }\n",
       "\n",
       "    .dataframe thead th {\n",
       "        text-align: right;\n",
       "    }\n",
       "</style>\n",
       "<table border=\"1\" class=\"dataframe\">\n",
       "  <thead>\n",
       "    <tr style=\"text-align: right;\">\n",
       "      <th></th>\n",
       "      <th>Names</th>\n",
       "      <th>Age</th>\n",
       "      <th>City</th>\n",
       "      <th>Skill</th>\n",
       "    </tr>\n",
       "  </thead>\n",
       "  <tbody>\n",
       "    <tr>\n",
       "      <th>0</th>\n",
       "      <td>Rasheedat</td>\n",
       "      <td>24</td>\n",
       "      <td>Abuja</td>\n",
       "      <td>Data Scientist</td>\n",
       "    </tr>\n",
       "    <tr>\n",
       "      <th>1</th>\n",
       "      <td>Khadijah</td>\n",
       "      <td>26</td>\n",
       "      <td>Ibadan</td>\n",
       "      <td>Business Analyst</td>\n",
       "    </tr>\n",
       "    <tr>\n",
       "      <th>2</th>\n",
       "      <td>Majeedat</td>\n",
       "      <td>25</td>\n",
       "      <td>Kaduna</td>\n",
       "      <td>Frontend Engineer</td>\n",
       "    </tr>\n",
       "    <tr>\n",
       "      <th>3</th>\n",
       "      <td>Maryam</td>\n",
       "      <td>24</td>\n",
       "      <td>Malaysia</td>\n",
       "      <td>Fashion Stylist</td>\n",
       "    </tr>\n",
       "  </tbody>\n",
       "</table>\n",
       "</div>"
      ],
      "text/plain": [
       "       Names Age      City              Skill\n",
       "0  Rasheedat  24     Abuja     Data Scientist\n",
       "1   Khadijah  26    Ibadan   Business Analyst\n",
       "2   Majeedat  25    Kaduna  Frontend Engineer\n",
       "3     Maryam  24  Malaysia    Fashion Stylist"
      ]
     },
     "execution_count": 89,
     "metadata": {},
     "output_type": "execute_result"
    }
   ],
   "source": [
    "names_data"
   ]
  },
  {
   "cell_type": "code",
   "execution_count": null,
   "id": "4d37c882",
   "metadata": {},
   "outputs": [],
   "source": [
    "#adding a column\n",
    "#Assuming 'new_column_data' is a list or array containing the values you want to add to the new column\n",
    "# names_data ['New_Column_Name'] = new_column_data\n",
    "#for example, you want to add age_group column\n",
    "#names_data ['Age_Group'] = ['Young', 'Middle-Aged', 'Young', 'Young', 'Middle-Aged']\n",
    "\n",
    "#To remove\n",
    "# Assuming 'column_name' is the name of the column you want to remove\n",
    "# names_data = names_data.drop('column_name', axis=1)\n",
    "#For example\n",
    "# names_data = names_data.drop('Age_Group', axis=1)"
   ]
  },
  {
   "cell_type": "code",
   "execution_count": 90,
   "id": "47416171",
   "metadata": {},
   "outputs": [],
   "source": [
    "#Adding a column\n",
    "names_data ['Religion'] = ['Muslim', 'Muslim', 'Muslim', 'Muslim']"
   ]
  },
  {
   "cell_type": "code",
   "execution_count": 91,
   "id": "00125245",
   "metadata": {},
   "outputs": [
    {
     "data": {
      "text/html": [
       "<div>\n",
       "<style scoped>\n",
       "    .dataframe tbody tr th:only-of-type {\n",
       "        vertical-align: middle;\n",
       "    }\n",
       "\n",
       "    .dataframe tbody tr th {\n",
       "        vertical-align: top;\n",
       "    }\n",
       "\n",
       "    .dataframe thead th {\n",
       "        text-align: right;\n",
       "    }\n",
       "</style>\n",
       "<table border=\"1\" class=\"dataframe\">\n",
       "  <thead>\n",
       "    <tr style=\"text-align: right;\">\n",
       "      <th></th>\n",
       "      <th>Names</th>\n",
       "      <th>Age</th>\n",
       "      <th>City</th>\n",
       "      <th>Skill</th>\n",
       "      <th>Religion</th>\n",
       "    </tr>\n",
       "  </thead>\n",
       "  <tbody>\n",
       "    <tr>\n",
       "      <th>0</th>\n",
       "      <td>Rasheedat</td>\n",
       "      <td>24</td>\n",
       "      <td>Abuja</td>\n",
       "      <td>Data Scientist</td>\n",
       "      <td>Muslim</td>\n",
       "    </tr>\n",
       "    <tr>\n",
       "      <th>1</th>\n",
       "      <td>Khadijah</td>\n",
       "      <td>26</td>\n",
       "      <td>Ibadan</td>\n",
       "      <td>Business Analyst</td>\n",
       "      <td>Muslim</td>\n",
       "    </tr>\n",
       "    <tr>\n",
       "      <th>2</th>\n",
       "      <td>Majeedat</td>\n",
       "      <td>25</td>\n",
       "      <td>Kaduna</td>\n",
       "      <td>Frontend Engineer</td>\n",
       "      <td>Muslim</td>\n",
       "    </tr>\n",
       "    <tr>\n",
       "      <th>3</th>\n",
       "      <td>Maryam</td>\n",
       "      <td>24</td>\n",
       "      <td>Malaysia</td>\n",
       "      <td>Fashion Stylist</td>\n",
       "      <td>Muslim</td>\n",
       "    </tr>\n",
       "  </tbody>\n",
       "</table>\n",
       "</div>"
      ],
      "text/plain": [
       "       Names Age      City              Skill Religion\n",
       "0  Rasheedat  24     Abuja     Data Scientist   Muslim\n",
       "1   Khadijah  26    Ibadan   Business Analyst   Muslim\n",
       "2   Majeedat  25    Kaduna  Frontend Engineer   Muslim\n",
       "3     Maryam  24  Malaysia    Fashion Stylist   Muslim"
      ]
     },
     "execution_count": 91,
     "metadata": {},
     "output_type": "execute_result"
    }
   ],
   "source": [
    "names_data"
   ]
  },
  {
   "cell_type": "code",
   "execution_count": null,
   "id": "311827f8",
   "metadata": {},
   "outputs": [],
   "source": [
    "# to make changes to the column I just added without removing it\n",
    "# Assuming 'new_age_values' is a list or array containing the new age group values\n",
    "# names_data['Age_Group'] = new_age_values"
   ]
  },
  {
   "cell_type": "code",
   "execution_count": 92,
   "id": "57c3f07c",
   "metadata": {},
   "outputs": [],
   "source": [
    "#To remove\n",
    "names_data = names_data.drop('Religion', axis=1)"
   ]
  },
  {
   "cell_type": "code",
   "execution_count": 93,
   "id": "9b9695a9",
   "metadata": {},
   "outputs": [
    {
     "data": {
      "text/html": [
       "<div>\n",
       "<style scoped>\n",
       "    .dataframe tbody tr th:only-of-type {\n",
       "        vertical-align: middle;\n",
       "    }\n",
       "\n",
       "    .dataframe tbody tr th {\n",
       "        vertical-align: top;\n",
       "    }\n",
       "\n",
       "    .dataframe thead th {\n",
       "        text-align: right;\n",
       "    }\n",
       "</style>\n",
       "<table border=\"1\" class=\"dataframe\">\n",
       "  <thead>\n",
       "    <tr style=\"text-align: right;\">\n",
       "      <th></th>\n",
       "      <th>Names</th>\n",
       "      <th>Age</th>\n",
       "      <th>City</th>\n",
       "      <th>Skill</th>\n",
       "    </tr>\n",
       "  </thead>\n",
       "  <tbody>\n",
       "    <tr>\n",
       "      <th>0</th>\n",
       "      <td>Rasheedat</td>\n",
       "      <td>24</td>\n",
       "      <td>Abuja</td>\n",
       "      <td>Data Scientist</td>\n",
       "    </tr>\n",
       "    <tr>\n",
       "      <th>1</th>\n",
       "      <td>Khadijah</td>\n",
       "      <td>26</td>\n",
       "      <td>Ibadan</td>\n",
       "      <td>Business Analyst</td>\n",
       "    </tr>\n",
       "    <tr>\n",
       "      <th>2</th>\n",
       "      <td>Majeedat</td>\n",
       "      <td>25</td>\n",
       "      <td>Kaduna</td>\n",
       "      <td>Frontend Engineer</td>\n",
       "    </tr>\n",
       "    <tr>\n",
       "      <th>3</th>\n",
       "      <td>Maryam</td>\n",
       "      <td>24</td>\n",
       "      <td>Malaysia</td>\n",
       "      <td>Fashion Stylist</td>\n",
       "    </tr>\n",
       "  </tbody>\n",
       "</table>\n",
       "</div>"
      ],
      "text/plain": [
       "       Names Age      City              Skill\n",
       "0  Rasheedat  24     Abuja     Data Scientist\n",
       "1   Khadijah  26    Ibadan   Business Analyst\n",
       "2   Majeedat  25    Kaduna  Frontend Engineer\n",
       "3     Maryam  24  Malaysia    Fashion Stylist"
      ]
     },
     "execution_count": 93,
     "metadata": {},
     "output_type": "execute_result"
    }
   ],
   "source": [
    "names_data"
   ]
  },
  {
   "cell_type": "code",
   "execution_count": null,
   "id": "5ded9027",
   "metadata": {},
   "outputs": [],
   "source": [
    "# Replace 'column_name' with the name of the column you want to remove. \n",
    "# The axis=1 parameter specifies that you're removing a column (as opposed to a row, which would be axis=0). \n",
    "# After executing this line of code, the specified column will be permanently removed from the DataFrame names_data. \n",
    "# Make sure to reassign the result back to names_data if you want the changes to be permanent."
   ]
  },
  {
   "cell_type": "code",
   "execution_count": 94,
   "id": "0ed3f4ff",
   "metadata": {},
   "outputs": [],
   "source": [
    "names_data = names_data.drop(3)"
   ]
  },
  {
   "cell_type": "code",
   "execution_count": 95,
   "id": "d4f8c9cc",
   "metadata": {},
   "outputs": [
    {
     "data": {
      "text/html": [
       "<div>\n",
       "<style scoped>\n",
       "    .dataframe tbody tr th:only-of-type {\n",
       "        vertical-align: middle;\n",
       "    }\n",
       "\n",
       "    .dataframe tbody tr th {\n",
       "        vertical-align: top;\n",
       "    }\n",
       "\n",
       "    .dataframe thead th {\n",
       "        text-align: right;\n",
       "    }\n",
       "</style>\n",
       "<table border=\"1\" class=\"dataframe\">\n",
       "  <thead>\n",
       "    <tr style=\"text-align: right;\">\n",
       "      <th></th>\n",
       "      <th>Names</th>\n",
       "      <th>Age</th>\n",
       "      <th>City</th>\n",
       "      <th>Skill</th>\n",
       "    </tr>\n",
       "  </thead>\n",
       "  <tbody>\n",
       "    <tr>\n",
       "      <th>0</th>\n",
       "      <td>Rasheedat</td>\n",
       "      <td>24</td>\n",
       "      <td>Abuja</td>\n",
       "      <td>Data Scientist</td>\n",
       "    </tr>\n",
       "    <tr>\n",
       "      <th>1</th>\n",
       "      <td>Khadijah</td>\n",
       "      <td>26</td>\n",
       "      <td>Ibadan</td>\n",
       "      <td>Business Analyst</td>\n",
       "    </tr>\n",
       "    <tr>\n",
       "      <th>2</th>\n",
       "      <td>Majeedat</td>\n",
       "      <td>25</td>\n",
       "      <td>Kaduna</td>\n",
       "      <td>Frontend Engineer</td>\n",
       "    </tr>\n",
       "  </tbody>\n",
       "</table>\n",
       "</div>"
      ],
      "text/plain": [
       "       Names Age    City              Skill\n",
       "0  Rasheedat  24   Abuja     Data Scientist\n",
       "1   Khadijah  26  Ibadan   Business Analyst\n",
       "2   Majeedat  25  Kaduna  Frontend Engineer"
      ]
     },
     "execution_count": 95,
     "metadata": {},
     "output_type": "execute_result"
    }
   ],
   "source": [
    "names_data"
   ]
  },
  {
   "cell_type": "markdown",
   "id": "03278017",
   "metadata": {},
   "source": [
    "# Data Cleaning"
   ]
  },
  {
   "cell_type": "code",
   "execution_count": 4,
   "id": "18e7d169",
   "metadata": {},
   "outputs": [],
   "source": [
    "#creating data from scratch\n",
    "url_link_1 = \"https://en.wikipedia.org/wiki/List_of_largest_companies_by_revenue\""
   ]
  },
  {
   "cell_type": "code",
   "execution_count": 5,
   "id": "d0e43398",
   "metadata": {},
   "outputs": [],
   "source": [
    "import pandas as pd\n",
    "company_data = pd.read_html(url_link_1)"
   ]
  },
  {
   "cell_type": "code",
   "execution_count": 7,
   "id": "c1cb3662",
   "metadata": {},
   "outputs": [
    {
     "data": {
      "text/plain": [
       "list"
      ]
     },
     "execution_count": 7,
     "metadata": {},
     "output_type": "execute_result"
    }
   ],
   "source": [
    "type (company_data)"
   ]
  },
  {
   "cell_type": "code",
   "execution_count": 8,
   "id": "17ec2666",
   "metadata": {},
   "outputs": [],
   "source": [
    "company_data = company_data[0] #dataframe"
   ]
  },
  {
   "cell_type": "code",
   "execution_count": 9,
   "id": "8b2dd33a",
   "metadata": {},
   "outputs": [
    {
     "data": {
      "text/html": [
       "<div>\n",
       "<style scoped>\n",
       "    .dataframe tbody tr th:only-of-type {\n",
       "        vertical-align: middle;\n",
       "    }\n",
       "\n",
       "    .dataframe tbody tr th {\n",
       "        vertical-align: top;\n",
       "    }\n",
       "\n",
       "    .dataframe thead tr th {\n",
       "        text-align: left;\n",
       "    }\n",
       "</style>\n",
       "<table border=\"1\" class=\"dataframe\">\n",
       "  <thead>\n",
       "    <tr>\n",
       "      <th></th>\n",
       "      <th>Rank</th>\n",
       "      <th>Name</th>\n",
       "      <th>Industry</th>\n",
       "      <th>Revenue</th>\n",
       "      <th>Profit</th>\n",
       "      <th>Employees</th>\n",
       "      <th>Headquarters[note 1]</th>\n",
       "      <th>State-owned</th>\n",
       "      <th>Ref.</th>\n",
       "      <th>Unnamed: 9_level_0</th>\n",
       "    </tr>\n",
       "    <tr>\n",
       "      <th></th>\n",
       "      <th>Rank</th>\n",
       "      <th>Name</th>\n",
       "      <th>Industry</th>\n",
       "      <th>USD millions</th>\n",
       "      <th>USD millions</th>\n",
       "      <th>Employees</th>\n",
       "      <th>Headquarters[note 1]</th>\n",
       "      <th>State-owned</th>\n",
       "      <th>Unnamed: 8_level_1</th>\n",
       "      <th>Revenue per worker</th>\n",
       "    </tr>\n",
       "  </thead>\n",
       "  <tbody>\n",
       "    <tr>\n",
       "      <th>0</th>\n",
       "      <td>1</td>\n",
       "      <td>Walmart</td>\n",
       "      <td>Retail</td>\n",
       "      <td>$611,289</td>\n",
       "      <td>$11,680</td>\n",
       "      <td>2100000</td>\n",
       "      <td>United States</td>\n",
       "      <td>NaN</td>\n",
       "      <td>[1]</td>\n",
       "      <td>$291,090.00</td>\n",
       "    </tr>\n",
       "    <tr>\n",
       "      <th>1</th>\n",
       "      <td>2</td>\n",
       "      <td>Saudi Aramco</td>\n",
       "      <td>Oil and gas</td>\n",
       "      <td>$603,651</td>\n",
       "      <td>$159,069</td>\n",
       "      <td>70496</td>\n",
       "      <td>Saudi Arabia</td>\n",
       "      <td>NaN</td>\n",
       "      <td>[4]</td>\n",
       "      <td>$8,562,911.37</td>\n",
       "    </tr>\n",
       "    <tr>\n",
       "      <th>2</th>\n",
       "      <td>3</td>\n",
       "      <td>Amazon</td>\n",
       "      <td>Retail</td>\n",
       "      <td>$574,785</td>\n",
       "      <td>$30,425</td>\n",
       "      <td>1525000</td>\n",
       "      <td>United States</td>\n",
       "      <td>NaN</td>\n",
       "      <td>[5]</td>\n",
       "      <td>$376,908</td>\n",
       "    </tr>\n",
       "    <tr>\n",
       "      <th>3</th>\n",
       "      <td>4</td>\n",
       "      <td>State Grid Corporation of China</td>\n",
       "      <td>Electricity</td>\n",
       "      <td>$530,009</td>\n",
       "      <td>$8,192</td>\n",
       "      <td>870287</td>\n",
       "      <td>China</td>\n",
       "      <td>NaN</td>\n",
       "      <td>[6]</td>\n",
       "      <td>$609,004.85</td>\n",
       "    </tr>\n",
       "    <tr>\n",
       "      <th>4</th>\n",
       "      <td>5</td>\n",
       "      <td>Vitol</td>\n",
       "      <td>Commodities</td>\n",
       "      <td>$505,000</td>\n",
       "      <td>$15,000</td>\n",
       "      <td>1560</td>\n",
       "      <td>Switzerland</td>\n",
       "      <td>NaN</td>\n",
       "      <td>[7][8]</td>\n",
       "      <td>$323,717,948.72</td>\n",
       "    </tr>\n",
       "  </tbody>\n",
       "</table>\n",
       "</div>"
      ],
      "text/plain": [
       "  Rank                             Name     Industry      Revenue  \\\n",
       "  Rank                             Name     Industry USD millions   \n",
       "0    1                          Walmart       Retail     $611,289   \n",
       "1    2                     Saudi Aramco  Oil and gas     $603,651   \n",
       "2    3                           Amazon       Retail     $574,785   \n",
       "3    4  State Grid Corporation of China  Electricity     $530,009   \n",
       "4    5                            Vitol  Commodities     $505,000   \n",
       "\n",
       "        Profit Employees Headquarters[note 1] State-owned               Ref.  \\\n",
       "  USD millions Employees Headquarters[note 1] State-owned Unnamed: 8_level_1   \n",
       "0      $11,680   2100000        United States         NaN                [1]   \n",
       "1     $159,069     70496         Saudi Arabia         NaN                [4]   \n",
       "2      $30,425   1525000        United States         NaN                [5]   \n",
       "3       $8,192    870287                China         NaN                [6]   \n",
       "4      $15,000      1560          Switzerland         NaN             [7][8]   \n",
       "\n",
       "  Unnamed: 9_level_0  \n",
       "  Revenue per worker  \n",
       "0        $291,090.00  \n",
       "1      $8,562,911.37  \n",
       "2           $376,908  \n",
       "3        $609,004.85  \n",
       "4    $323,717,948.72  "
      ]
     },
     "execution_count": 9,
     "metadata": {},
     "output_type": "execute_result"
    }
   ],
   "source": [
    "company_data.head ()"
   ]
  },
  {
   "cell_type": "code",
   "execution_count": 8,
   "id": "45866265",
   "metadata": {},
   "outputs": [
    {
     "data": {
      "text/plain": [
       "MultiIndex([(                'Rank',                 'Rank'),\n",
       "            (                'Name',                 'Name'),\n",
       "            (            'Industry',             'Industry'),\n",
       "            (             'Revenue',         'USD millions'),\n",
       "            (              'Profit',         'USD millions'),\n",
       "            (           'Employees',            'Employees'),\n",
       "            ('Headquarters[note 1]', 'Headquarters[note 1]'),\n",
       "            (         'State-owned',          'State-owned'),\n",
       "            (                'Ref.',   'Unnamed: 8_level_1'),\n",
       "            (  'Unnamed: 9_level_0',   'Revenue per worker')],\n",
       "           )"
      ]
     },
     "execution_count": 8,
     "metadata": {},
     "output_type": "execute_result"
    }
   ],
   "source": [
    "company_data.columns"
   ]
  },
  {
   "cell_type": "code",
   "execution_count": 9,
   "id": "9df36977",
   "metadata": {},
   "outputs": [
    {
     "ename": "NameError",
     "evalue": "name 'movie_data' is not defined",
     "output_type": "error",
     "traceback": [
      "\u001b[1;31m---------------------------------------------------------------------------\u001b[0m",
      "\u001b[1;31mNameError\u001b[0m                                 Traceback (most recent call last)",
      "Cell \u001b[1;32mIn[9], line 1\u001b[0m\n\u001b[1;32m----> 1\u001b[0m movie_data\u001b[38;5;241m.\u001b[39mcolumns\n",
      "\u001b[1;31mNameError\u001b[0m: name 'movie_data' is not defined"
     ]
    }
   ],
   "source": [
    "movie_data.columns"
   ]
  },
  {
   "cell_type": "code",
   "execution_count": 10,
   "id": "ae78bf35",
   "metadata": {},
   "outputs": [],
   "source": [
    "company_data.columns = company_data.columns.get_level_values(0) #changing multiindex to single index"
   ]
  },
  {
   "cell_type": "code",
   "execution_count": 11,
   "id": "a985e098",
   "metadata": {},
   "outputs": [
    {
     "data": {
      "text/html": [
       "<div>\n",
       "<style scoped>\n",
       "    .dataframe tbody tr th:only-of-type {\n",
       "        vertical-align: middle;\n",
       "    }\n",
       "\n",
       "    .dataframe tbody tr th {\n",
       "        vertical-align: top;\n",
       "    }\n",
       "\n",
       "    .dataframe thead th {\n",
       "        text-align: right;\n",
       "    }\n",
       "</style>\n",
       "<table border=\"1\" class=\"dataframe\">\n",
       "  <thead>\n",
       "    <tr style=\"text-align: right;\">\n",
       "      <th></th>\n",
       "      <th>Rank</th>\n",
       "      <th>Name</th>\n",
       "      <th>Industry</th>\n",
       "      <th>Revenue</th>\n",
       "      <th>Profit</th>\n",
       "      <th>Employees</th>\n",
       "      <th>Headquarters[note 1]</th>\n",
       "      <th>State-owned</th>\n",
       "      <th>Ref.</th>\n",
       "      <th>Unnamed: 9_level_0</th>\n",
       "    </tr>\n",
       "  </thead>\n",
       "  <tbody>\n",
       "    <tr>\n",
       "      <th>0</th>\n",
       "      <td>1</td>\n",
       "      <td>Walmart</td>\n",
       "      <td>Retail</td>\n",
       "      <td>$611,289</td>\n",
       "      <td>$11,680</td>\n",
       "      <td>2100000</td>\n",
       "      <td>United States</td>\n",
       "      <td>NaN</td>\n",
       "      <td>[1]</td>\n",
       "      <td>$291,090.00</td>\n",
       "    </tr>\n",
       "    <tr>\n",
       "      <th>1</th>\n",
       "      <td>2</td>\n",
       "      <td>Saudi Aramco</td>\n",
       "      <td>Oil and gas</td>\n",
       "      <td>$603,651</td>\n",
       "      <td>$159,069</td>\n",
       "      <td>70496</td>\n",
       "      <td>Saudi Arabia</td>\n",
       "      <td>NaN</td>\n",
       "      <td>[4]</td>\n",
       "      <td>$8,562,911.37</td>\n",
       "    </tr>\n",
       "    <tr>\n",
       "      <th>2</th>\n",
       "      <td>3</td>\n",
       "      <td>Amazon</td>\n",
       "      <td>Retail</td>\n",
       "      <td>$574,785</td>\n",
       "      <td>$30,425</td>\n",
       "      <td>1525000</td>\n",
       "      <td>United States</td>\n",
       "      <td>NaN</td>\n",
       "      <td>[5]</td>\n",
       "      <td>$376,908</td>\n",
       "    </tr>\n",
       "    <tr>\n",
       "      <th>3</th>\n",
       "      <td>4</td>\n",
       "      <td>State Grid Corporation of China</td>\n",
       "      <td>Electricity</td>\n",
       "      <td>$530,009</td>\n",
       "      <td>$8,192</td>\n",
       "      <td>870287</td>\n",
       "      <td>China</td>\n",
       "      <td>NaN</td>\n",
       "      <td>[6]</td>\n",
       "      <td>$609,004.85</td>\n",
       "    </tr>\n",
       "    <tr>\n",
       "      <th>4</th>\n",
       "      <td>5</td>\n",
       "      <td>Vitol</td>\n",
       "      <td>Commodities</td>\n",
       "      <td>$505,000</td>\n",
       "      <td>$15,000</td>\n",
       "      <td>1560</td>\n",
       "      <td>Switzerland</td>\n",
       "      <td>NaN</td>\n",
       "      <td>[7][8]</td>\n",
       "      <td>$323,717,948.72</td>\n",
       "    </tr>\n",
       "  </tbody>\n",
       "</table>\n",
       "</div>"
      ],
      "text/plain": [
       "   Rank                             Name     Industry   Revenue    Profit  \\\n",
       "0     1                          Walmart       Retail  $611,289   $11,680   \n",
       "1     2                     Saudi Aramco  Oil and gas  $603,651  $159,069   \n",
       "2     3                           Amazon       Retail  $574,785   $30,425   \n",
       "3     4  State Grid Corporation of China  Electricity  $530,009    $8,192   \n",
       "4     5                            Vitol  Commodities  $505,000   $15,000   \n",
       "\n",
       "   Employees Headquarters[note 1]  State-owned    Ref. Unnamed: 9_level_0  \n",
       "0    2100000        United States          NaN     [1]        $291,090.00  \n",
       "1      70496         Saudi Arabia          NaN     [4]      $8,562,911.37  \n",
       "2    1525000        United States          NaN     [5]           $376,908  \n",
       "3     870287                China          NaN     [6]        $609,004.85  \n",
       "4       1560          Switzerland          NaN  [7][8]    $323,717,948.72  "
      ]
     },
     "execution_count": 11,
     "metadata": {},
     "output_type": "execute_result"
    }
   ],
   "source": [
    "company_data.head()"
   ]
  },
  {
   "cell_type": "code",
   "execution_count": 15,
   "id": "9d0c930f",
   "metadata": {},
   "outputs": [
    {
     "data": {
      "text/plain": [
       "Index(['Rank', 'Name', 'Industry', 'Revenue', 'Profit', 'Employees',\n",
       "       'Headquarters[note 1]', 'State-owned', 'Ref.', 'Unnamed: 9_level_0'],\n",
       "      dtype='object')"
      ]
     },
     "execution_count": 15,
     "metadata": {},
     "output_type": "execute_result"
    }
   ],
   "source": [
    "company_data.columns"
   ]
  },
  {
   "cell_type": "code",
   "execution_count": 45,
   "id": "55fb9488",
   "metadata": {},
   "outputs": [],
   "source": [
    "#dropping a column\n",
    "company_data.drop (columns= ['Ref.'], axis=1, inplace = True)"
   ]
  },
  {
   "cell_type": "code",
   "execution_count": 46,
   "id": "061e1774",
   "metadata": {},
   "outputs": [
    {
     "data": {
      "text/html": [
       "<div>\n",
       "<style scoped>\n",
       "    .dataframe tbody tr th:only-of-type {\n",
       "        vertical-align: middle;\n",
       "    }\n",
       "\n",
       "    .dataframe tbody tr th {\n",
       "        vertical-align: top;\n",
       "    }\n",
       "\n",
       "    .dataframe thead th {\n",
       "        text-align: right;\n",
       "    }\n",
       "</style>\n",
       "<table border=\"1\" class=\"dataframe\">\n",
       "  <thead>\n",
       "    <tr style=\"text-align: right;\">\n",
       "      <th></th>\n",
       "      <th>Ranking</th>\n",
       "      <th>Company Name</th>\n",
       "      <th>Industry</th>\n",
       "      <th>Revenue</th>\n",
       "      <th>Profit</th>\n",
       "      <th>Employees</th>\n",
       "      <th>Headquarters</th>\n",
       "      <th>State-owned</th>\n",
       "      <th>Unnamed: 9_level_0</th>\n",
       "    </tr>\n",
       "  </thead>\n",
       "  <tbody>\n",
       "    <tr>\n",
       "      <th>0</th>\n",
       "      <td>1</td>\n",
       "      <td>Walmart</td>\n",
       "      <td>Retail</td>\n",
       "      <td>$611,289</td>\n",
       "      <td>$11,680</td>\n",
       "      <td>2100000</td>\n",
       "      <td>United States</td>\n",
       "      <td>NaN</td>\n",
       "      <td>$291,090.00</td>\n",
       "    </tr>\n",
       "    <tr>\n",
       "      <th>1</th>\n",
       "      <td>2</td>\n",
       "      <td>Saudi Aramco</td>\n",
       "      <td>Oil and gas</td>\n",
       "      <td>$603,651</td>\n",
       "      <td>$159,069</td>\n",
       "      <td>70496</td>\n",
       "      <td>Saudi Arabia</td>\n",
       "      <td>NaN</td>\n",
       "      <td>$8,562,911.37</td>\n",
       "    </tr>\n",
       "    <tr>\n",
       "      <th>2</th>\n",
       "      <td>3</td>\n",
       "      <td>Amazon</td>\n",
       "      <td>Retail</td>\n",
       "      <td>$574,785</td>\n",
       "      <td>$30,425</td>\n",
       "      <td>1525000</td>\n",
       "      <td>United States</td>\n",
       "      <td>NaN</td>\n",
       "      <td>$376,908</td>\n",
       "    </tr>\n",
       "    <tr>\n",
       "      <th>3</th>\n",
       "      <td>4</td>\n",
       "      <td>State Grid Corporation of China</td>\n",
       "      <td>Electricity</td>\n",
       "      <td>$530,009</td>\n",
       "      <td>$8,192</td>\n",
       "      <td>870287</td>\n",
       "      <td>China</td>\n",
       "      <td>NaN</td>\n",
       "      <td>$609,004.85</td>\n",
       "    </tr>\n",
       "    <tr>\n",
       "      <th>4</th>\n",
       "      <td>5</td>\n",
       "      <td>Vitol</td>\n",
       "      <td>Commodities</td>\n",
       "      <td>$505,000</td>\n",
       "      <td>$15,000</td>\n",
       "      <td>1560</td>\n",
       "      <td>Switzerland</td>\n",
       "      <td>NaN</td>\n",
       "      <td>$323,717,948.72</td>\n",
       "    </tr>\n",
       "  </tbody>\n",
       "</table>\n",
       "</div>"
      ],
      "text/plain": [
       "   Ranking                     Company Name     Industry   Revenue    Profit  \\\n",
       "0        1                          Walmart       Retail  $611,289   $11,680   \n",
       "1        2                     Saudi Aramco  Oil and gas  $603,651  $159,069   \n",
       "2        3                           Amazon       Retail  $574,785   $30,425   \n",
       "3        4  State Grid Corporation of China  Electricity  $530,009    $8,192   \n",
       "4        5                            Vitol  Commodities  $505,000   $15,000   \n",
       "\n",
       "   Employees   Headquarters  State-owned Unnamed: 9_level_0  \n",
       "0    2100000  United States          NaN        $291,090.00  \n",
       "1      70496   Saudi Arabia          NaN      $8,562,911.37  \n",
       "2    1525000  United States          NaN           $376,908  \n",
       "3     870287          China          NaN        $609,004.85  \n",
       "4       1560    Switzerland          NaN    $323,717,948.72  "
      ]
     },
     "execution_count": 46,
     "metadata": {},
     "output_type": "execute_result"
    }
   ],
   "source": [
    "company_data.head()"
   ]
  },
  {
   "cell_type": "code",
   "execution_count": 36,
   "id": "38c6cfa5",
   "metadata": {},
   "outputs": [
    {
     "data": {
      "text/plain": [
       "Index(['Rank', 'Name', 'Industry', 'Revenue', 'Profit', 'Employees',\n",
       "       'Headquarters[note 1]', 'State-owned', 'Ref.', 'Unnamed: 9_level_0'],\n",
       "      dtype='object')"
      ]
     },
     "execution_count": 36,
     "metadata": {},
     "output_type": "execute_result"
    }
   ],
   "source": [
    "#Renaming Column labels\n",
    "company_data.columns"
   ]
  },
  {
   "cell_type": "code",
   "execution_count": 19,
   "id": "06f9871b",
   "metadata": {},
   "outputs": [],
   "source": [
    "#Intermisson\n",
    "#pandas.DataFrame.drop\n",
    "#DataFrame.drop(labels=None, *, axis=0, index=None, columns=None, level=None, inplace=False, errors='raise')[source]"
   ]
  },
  {
   "cell_type": "code",
   "execution_count": 12,
   "id": "2d6db9b8",
   "metadata": {},
   "outputs": [],
   "source": [
    "company_data.rename(columns={\"Rank\": \"Ranking\",\n",
    "                   \"Name\": \"Company Name\", \"Headquarters[note 1]\" : \"Headquarters\"},\n",
    "          inplace=True)"
   ]
  },
  {
   "cell_type": "code",
   "execution_count": 13,
   "id": "47e472b3",
   "metadata": {},
   "outputs": [
    {
     "name": "stdout",
     "output_type": "stream",
     "text": [
      "<class 'pandas.core.frame.DataFrame'>\n"
     ]
    }
   ],
   "source": [
    "print(type(company_data))"
   ]
  },
  {
   "cell_type": "code",
   "execution_count": 39,
   "id": "a6bfd742",
   "metadata": {},
   "outputs": [
    {
     "data": {
      "text/html": [
       "<div>\n",
       "<style scoped>\n",
       "    .dataframe tbody tr th:only-of-type {\n",
       "        vertical-align: middle;\n",
       "    }\n",
       "\n",
       "    .dataframe tbody tr th {\n",
       "        vertical-align: top;\n",
       "    }\n",
       "\n",
       "    .dataframe thead th {\n",
       "        text-align: right;\n",
       "    }\n",
       "</style>\n",
       "<table border=\"1\" class=\"dataframe\">\n",
       "  <thead>\n",
       "    <tr style=\"text-align: right;\">\n",
       "      <th></th>\n",
       "      <th>Ranking</th>\n",
       "      <th>Company Name</th>\n",
       "      <th>Industry</th>\n",
       "      <th>Revenue</th>\n",
       "      <th>Profit</th>\n",
       "      <th>Employees</th>\n",
       "      <th>Headquarters</th>\n",
       "      <th>State-owned</th>\n",
       "      <th>Ref.</th>\n",
       "      <th>Unnamed: 9_level_0</th>\n",
       "    </tr>\n",
       "  </thead>\n",
       "  <tbody>\n",
       "    <tr>\n",
       "      <th>0</th>\n",
       "      <td>1</td>\n",
       "      <td>Walmart</td>\n",
       "      <td>Retail</td>\n",
       "      <td>$611,289</td>\n",
       "      <td>$11,680</td>\n",
       "      <td>2100000</td>\n",
       "      <td>United States</td>\n",
       "      <td>NaN</td>\n",
       "      <td>[1]</td>\n",
       "      <td>$291,090.00</td>\n",
       "    </tr>\n",
       "    <tr>\n",
       "      <th>1</th>\n",
       "      <td>2</td>\n",
       "      <td>Saudi Aramco</td>\n",
       "      <td>Oil and gas</td>\n",
       "      <td>$603,651</td>\n",
       "      <td>$159,069</td>\n",
       "      <td>70496</td>\n",
       "      <td>Saudi Arabia</td>\n",
       "      <td>NaN</td>\n",
       "      <td>[4]</td>\n",
       "      <td>$8,562,911.37</td>\n",
       "    </tr>\n",
       "    <tr>\n",
       "      <th>2</th>\n",
       "      <td>3</td>\n",
       "      <td>Amazon</td>\n",
       "      <td>Retail</td>\n",
       "      <td>$574,785</td>\n",
       "      <td>$30,425</td>\n",
       "      <td>1525000</td>\n",
       "      <td>United States</td>\n",
       "      <td>NaN</td>\n",
       "      <td>[5]</td>\n",
       "      <td>$376,908</td>\n",
       "    </tr>\n",
       "    <tr>\n",
       "      <th>3</th>\n",
       "      <td>4</td>\n",
       "      <td>State Grid Corporation of China</td>\n",
       "      <td>Electricity</td>\n",
       "      <td>$530,009</td>\n",
       "      <td>$8,192</td>\n",
       "      <td>870287</td>\n",
       "      <td>China</td>\n",
       "      <td>NaN</td>\n",
       "      <td>[6]</td>\n",
       "      <td>$609,004.85</td>\n",
       "    </tr>\n",
       "    <tr>\n",
       "      <th>4</th>\n",
       "      <td>5</td>\n",
       "      <td>Vitol</td>\n",
       "      <td>Commodities</td>\n",
       "      <td>$505,000</td>\n",
       "      <td>$15,000</td>\n",
       "      <td>1560</td>\n",
       "      <td>Switzerland</td>\n",
       "      <td>NaN</td>\n",
       "      <td>[7][8]</td>\n",
       "      <td>$323,717,948.72</td>\n",
       "    </tr>\n",
       "  </tbody>\n",
       "</table>\n",
       "</div>"
      ],
      "text/plain": [
       "   Ranking                     Company Name     Industry   Revenue    Profit  \\\n",
       "0        1                          Walmart       Retail  $611,289   $11,680   \n",
       "1        2                     Saudi Aramco  Oil and gas  $603,651  $159,069   \n",
       "2        3                           Amazon       Retail  $574,785   $30,425   \n",
       "3        4  State Grid Corporation of China  Electricity  $530,009    $8,192   \n",
       "4        5                            Vitol  Commodities  $505,000   $15,000   \n",
       "\n",
       "   Employees   Headquarters  State-owned    Ref. Unnamed: 9_level_0  \n",
       "0    2100000  United States          NaN     [1]        $291,090.00  \n",
       "1      70496   Saudi Arabia          NaN     [4]      $8,562,911.37  \n",
       "2    1525000  United States          NaN     [5]           $376,908  \n",
       "3     870287          China          NaN     [6]        $609,004.85  \n",
       "4       1560    Switzerland          NaN  [7][8]    $323,717,948.72  "
      ]
     },
     "execution_count": 39,
     "metadata": {},
     "output_type": "execute_result"
    }
   ],
   "source": [
    "company_data.head()"
   ]
  },
  {
   "cell_type": "code",
   "execution_count": 47,
   "id": "edcd8a4e",
   "metadata": {},
   "outputs": [
    {
     "name": "stdout",
     "output_type": "stream",
     "text": [
      "<class 'pandas.core.frame.DataFrame'>\n",
      "RangeIndex: 50 entries, 0 to 49\n",
      "Data columns (total 9 columns):\n",
      " #   Column              Non-Null Count  Dtype  \n",
      "---  ------              --------------  -----  \n",
      " 0   Ranking             50 non-null     int64  \n",
      " 1   Company Name        50 non-null     object \n",
      " 2   Industry            50 non-null     object \n",
      " 3   Revenue             50 non-null     object \n",
      " 4   Profit              50 non-null     object \n",
      " 5   Employees           50 non-null     int64  \n",
      " 6   Headquarters        50 non-null     object \n",
      " 7   State-owned         0 non-null      float64\n",
      " 8   Unnamed: 9_level_0  50 non-null     object \n",
      "dtypes: float64(1), int64(2), object(6)\n",
      "memory usage: 3.6+ KB\n"
     ]
    }
   ],
   "source": [
    "#summarising data\n",
    "company_data.info()"
   ]
  },
  {
   "cell_type": "code",
   "execution_count": 48,
   "id": "882046cd",
   "metadata": {},
   "outputs": [
    {
     "data": {
      "text/plain": [
       "0    $611,289\n",
       "1    $603,651\n",
       "Name: Revenue, dtype: object"
      ]
     },
     "execution_count": 48,
     "metadata": {},
     "output_type": "execute_result"
    }
   ],
   "source": [
    "#Take a closer look at Rev. column\n",
    "company_data['Revenue'].head(2)"
   ]
  },
  {
   "cell_type": "code",
   "execution_count": 14,
   "id": "55545356",
   "metadata": {},
   "outputs": [],
   "source": [
    "#remove the dollar sign from the revenue column\n",
    "company_data['Revenue'] = company_data['Revenue'].str.replace('$','')"
   ]
  },
  {
   "cell_type": "code",
   "execution_count": 50,
   "id": "cc968cfd",
   "metadata": {},
   "outputs": [
    {
     "data": {
      "text/html": [
       "<div>\n",
       "<style scoped>\n",
       "    .dataframe tbody tr th:only-of-type {\n",
       "        vertical-align: middle;\n",
       "    }\n",
       "\n",
       "    .dataframe tbody tr th {\n",
       "        vertical-align: top;\n",
       "    }\n",
       "\n",
       "    .dataframe thead th {\n",
       "        text-align: right;\n",
       "    }\n",
       "</style>\n",
       "<table border=\"1\" class=\"dataframe\">\n",
       "  <thead>\n",
       "    <tr style=\"text-align: right;\">\n",
       "      <th></th>\n",
       "      <th>Ranking</th>\n",
       "      <th>Company Name</th>\n",
       "      <th>Industry</th>\n",
       "      <th>Revenue</th>\n",
       "      <th>Profit</th>\n",
       "      <th>Employees</th>\n",
       "      <th>Headquarters</th>\n",
       "      <th>State-owned</th>\n",
       "      <th>Unnamed: 9_level_0</th>\n",
       "    </tr>\n",
       "  </thead>\n",
       "  <tbody>\n",
       "    <tr>\n",
       "      <th>0</th>\n",
       "      <td>1</td>\n",
       "      <td>Walmart</td>\n",
       "      <td>Retail</td>\n",
       "      <td>611,289</td>\n",
       "      <td>$11,680</td>\n",
       "      <td>2100000</td>\n",
       "      <td>United States</td>\n",
       "      <td>NaN</td>\n",
       "      <td>$291,090.00</td>\n",
       "    </tr>\n",
       "    <tr>\n",
       "      <th>1</th>\n",
       "      <td>2</td>\n",
       "      <td>Saudi Aramco</td>\n",
       "      <td>Oil and gas</td>\n",
       "      <td>603,651</td>\n",
       "      <td>$159,069</td>\n",
       "      <td>70496</td>\n",
       "      <td>Saudi Arabia</td>\n",
       "      <td>NaN</td>\n",
       "      <td>$8,562,911.37</td>\n",
       "    </tr>\n",
       "    <tr>\n",
       "      <th>2</th>\n",
       "      <td>3</td>\n",
       "      <td>Amazon</td>\n",
       "      <td>Retail</td>\n",
       "      <td>574,785</td>\n",
       "      <td>$30,425</td>\n",
       "      <td>1525000</td>\n",
       "      <td>United States</td>\n",
       "      <td>NaN</td>\n",
       "      <td>$376,908</td>\n",
       "    </tr>\n",
       "    <tr>\n",
       "      <th>3</th>\n",
       "      <td>4</td>\n",
       "      <td>State Grid Corporation of China</td>\n",
       "      <td>Electricity</td>\n",
       "      <td>530,009</td>\n",
       "      <td>$8,192</td>\n",
       "      <td>870287</td>\n",
       "      <td>China</td>\n",
       "      <td>NaN</td>\n",
       "      <td>$609,004.85</td>\n",
       "    </tr>\n",
       "    <tr>\n",
       "      <th>4</th>\n",
       "      <td>5</td>\n",
       "      <td>Vitol</td>\n",
       "      <td>Commodities</td>\n",
       "      <td>505,000</td>\n",
       "      <td>$15,000</td>\n",
       "      <td>1560</td>\n",
       "      <td>Switzerland</td>\n",
       "      <td>NaN</td>\n",
       "      <td>$323,717,948.72</td>\n",
       "    </tr>\n",
       "  </tbody>\n",
       "</table>\n",
       "</div>"
      ],
      "text/plain": [
       "   Ranking                     Company Name     Industry  Revenue    Profit  \\\n",
       "0        1                          Walmart       Retail  611,289   $11,680   \n",
       "1        2                     Saudi Aramco  Oil and gas  603,651  $159,069   \n",
       "2        3                           Amazon       Retail  574,785   $30,425   \n",
       "3        4  State Grid Corporation of China  Electricity  530,009    $8,192   \n",
       "4        5                            Vitol  Commodities  505,000   $15,000   \n",
       "\n",
       "   Employees   Headquarters  State-owned Unnamed: 9_level_0  \n",
       "0    2100000  United States          NaN        $291,090.00  \n",
       "1      70496   Saudi Arabia          NaN      $8,562,911.37  \n",
       "2    1525000  United States          NaN           $376,908  \n",
       "3     870287          China          NaN        $609,004.85  \n",
       "4       1560    Switzerland          NaN    $323,717,948.72  "
      ]
     },
     "execution_count": 50,
     "metadata": {},
     "output_type": "execute_result"
    }
   ],
   "source": [
    "company_data.head()"
   ]
  },
  {
   "cell_type": "code",
   "execution_count": 51,
   "id": "894a58f7",
   "metadata": {},
   "outputs": [
    {
     "name": "stdout",
     "output_type": "stream",
     "text": [
      "<class 'pandas.core.frame.DataFrame'>\n",
      "RangeIndex: 50 entries, 0 to 49\n",
      "Data columns (total 9 columns):\n",
      " #   Column              Non-Null Count  Dtype  \n",
      "---  ------              --------------  -----  \n",
      " 0   Ranking             50 non-null     int64  \n",
      " 1   Company Name        50 non-null     object \n",
      " 2   Industry            50 non-null     object \n",
      " 3   Revenue             50 non-null     object \n",
      " 4   Profit              50 non-null     object \n",
      " 5   Employees           50 non-null     int64  \n",
      " 6   Headquarters        50 non-null     object \n",
      " 7   State-owned         0 non-null      float64\n",
      " 8   Unnamed: 9_level_0  50 non-null     object \n",
      "dtypes: float64(1), int64(2), object(6)\n",
      "memory usage: 3.6+ KB\n"
     ]
    }
   ],
   "source": [
    "company_data.info()"
   ]
  },
  {
   "cell_type": "code",
   "execution_count": 15,
   "id": "4e3c6858",
   "metadata": {},
   "outputs": [],
   "source": [
    "company_data['Profit'] = company_data['Profit'].str.replace('$','')"
   ]
  },
  {
   "cell_type": "code",
   "execution_count": 54,
   "id": "bb20031d",
   "metadata": {},
   "outputs": [
    {
     "data": {
      "text/html": [
       "<div>\n",
       "<style scoped>\n",
       "    .dataframe tbody tr th:only-of-type {\n",
       "        vertical-align: middle;\n",
       "    }\n",
       "\n",
       "    .dataframe tbody tr th {\n",
       "        vertical-align: top;\n",
       "    }\n",
       "\n",
       "    .dataframe thead th {\n",
       "        text-align: right;\n",
       "    }\n",
       "</style>\n",
       "<table border=\"1\" class=\"dataframe\">\n",
       "  <thead>\n",
       "    <tr style=\"text-align: right;\">\n",
       "      <th></th>\n",
       "      <th>Ranking</th>\n",
       "      <th>Company Name</th>\n",
       "      <th>Industry</th>\n",
       "      <th>Revenue</th>\n",
       "      <th>Profit</th>\n",
       "      <th>Employees</th>\n",
       "      <th>Headquarters</th>\n",
       "      <th>State-owned</th>\n",
       "      <th>Unnamed: 9_level_0</th>\n",
       "    </tr>\n",
       "  </thead>\n",
       "  <tbody>\n",
       "    <tr>\n",
       "      <th>0</th>\n",
       "      <td>1</td>\n",
       "      <td>Walmart</td>\n",
       "      <td>Retail</td>\n",
       "      <td>611,289</td>\n",
       "      <td>11,680</td>\n",
       "      <td>2100000</td>\n",
       "      <td>United States</td>\n",
       "      <td>NaN</td>\n",
       "      <td>$291,090.00</td>\n",
       "    </tr>\n",
       "    <tr>\n",
       "      <th>1</th>\n",
       "      <td>2</td>\n",
       "      <td>Saudi Aramco</td>\n",
       "      <td>Oil and gas</td>\n",
       "      <td>603,651</td>\n",
       "      <td>159,069</td>\n",
       "      <td>70496</td>\n",
       "      <td>Saudi Arabia</td>\n",
       "      <td>NaN</td>\n",
       "      <td>$8,562,911.37</td>\n",
       "    </tr>\n",
       "    <tr>\n",
       "      <th>2</th>\n",
       "      <td>3</td>\n",
       "      <td>Amazon</td>\n",
       "      <td>Retail</td>\n",
       "      <td>574,785</td>\n",
       "      <td>30,425</td>\n",
       "      <td>1525000</td>\n",
       "      <td>United States</td>\n",
       "      <td>NaN</td>\n",
       "      <td>$376,908</td>\n",
       "    </tr>\n",
       "    <tr>\n",
       "      <th>3</th>\n",
       "      <td>4</td>\n",
       "      <td>State Grid Corporation of China</td>\n",
       "      <td>Electricity</td>\n",
       "      <td>530,009</td>\n",
       "      <td>8,192</td>\n",
       "      <td>870287</td>\n",
       "      <td>China</td>\n",
       "      <td>NaN</td>\n",
       "      <td>$609,004.85</td>\n",
       "    </tr>\n",
       "    <tr>\n",
       "      <th>4</th>\n",
       "      <td>5</td>\n",
       "      <td>Vitol</td>\n",
       "      <td>Commodities</td>\n",
       "      <td>505,000</td>\n",
       "      <td>15,000</td>\n",
       "      <td>1560</td>\n",
       "      <td>Switzerland</td>\n",
       "      <td>NaN</td>\n",
       "      <td>$323,717,948.72</td>\n",
       "    </tr>\n",
       "  </tbody>\n",
       "</table>\n",
       "</div>"
      ],
      "text/plain": [
       "   Ranking                     Company Name     Industry  Revenue   Profit  \\\n",
       "0        1                          Walmart       Retail  611,289   11,680   \n",
       "1        2                     Saudi Aramco  Oil and gas  603,651  159,069   \n",
       "2        3                           Amazon       Retail  574,785   30,425   \n",
       "3        4  State Grid Corporation of China  Electricity  530,009    8,192   \n",
       "4        5                            Vitol  Commodities  505,000   15,000   \n",
       "\n",
       "   Employees   Headquarters  State-owned Unnamed: 9_level_0  \n",
       "0    2100000  United States          NaN        $291,090.00  \n",
       "1      70496   Saudi Arabia          NaN      $8,562,911.37  \n",
       "2    1525000  United States          NaN           $376,908  \n",
       "3     870287          China          NaN        $609,004.85  \n",
       "4       1560    Switzerland          NaN    $323,717,948.72  "
      ]
     },
     "execution_count": 54,
     "metadata": {},
     "output_type": "execute_result"
    }
   ],
   "source": [
    "company_data.head()"
   ]
  },
  {
   "cell_type": "code",
   "execution_count": 16,
   "id": "2b0d6230",
   "metadata": {},
   "outputs": [],
   "source": [
    "company_data.drop(columns= ['Unnamed: 9_level_0'], axis=1, inplace = True)"
   ]
  },
  {
   "cell_type": "code",
   "execution_count": 59,
   "id": "58cadb12",
   "metadata": {},
   "outputs": [
    {
     "data": {
      "text/html": [
       "<div>\n",
       "<style scoped>\n",
       "    .dataframe tbody tr th:only-of-type {\n",
       "        vertical-align: middle;\n",
       "    }\n",
       "\n",
       "    .dataframe tbody tr th {\n",
       "        vertical-align: top;\n",
       "    }\n",
       "\n",
       "    .dataframe thead th {\n",
       "        text-align: right;\n",
       "    }\n",
       "</style>\n",
       "<table border=\"1\" class=\"dataframe\">\n",
       "  <thead>\n",
       "    <tr style=\"text-align: right;\">\n",
       "      <th></th>\n",
       "      <th>Ranking</th>\n",
       "      <th>Company Name</th>\n",
       "      <th>Industry</th>\n",
       "      <th>Revenue</th>\n",
       "      <th>Profit</th>\n",
       "      <th>Employees</th>\n",
       "      <th>Headquarters</th>\n",
       "      <th>State-owned</th>\n",
       "    </tr>\n",
       "  </thead>\n",
       "  <tbody>\n",
       "    <tr>\n",
       "      <th>0</th>\n",
       "      <td>1</td>\n",
       "      <td>Walmart</td>\n",
       "      <td>Retail</td>\n",
       "      <td>611,289</td>\n",
       "      <td>11,680</td>\n",
       "      <td>2100000</td>\n",
       "      <td>United States</td>\n",
       "      <td>NaN</td>\n",
       "    </tr>\n",
       "    <tr>\n",
       "      <th>1</th>\n",
       "      <td>2</td>\n",
       "      <td>Saudi Aramco</td>\n",
       "      <td>Oil and gas</td>\n",
       "      <td>603,651</td>\n",
       "      <td>159,069</td>\n",
       "      <td>70496</td>\n",
       "      <td>Saudi Arabia</td>\n",
       "      <td>NaN</td>\n",
       "    </tr>\n",
       "    <tr>\n",
       "      <th>2</th>\n",
       "      <td>3</td>\n",
       "      <td>Amazon</td>\n",
       "      <td>Retail</td>\n",
       "      <td>574,785</td>\n",
       "      <td>30,425</td>\n",
       "      <td>1525000</td>\n",
       "      <td>United States</td>\n",
       "      <td>NaN</td>\n",
       "    </tr>\n",
       "    <tr>\n",
       "      <th>3</th>\n",
       "      <td>4</td>\n",
       "      <td>State Grid Corporation of China</td>\n",
       "      <td>Electricity</td>\n",
       "      <td>530,009</td>\n",
       "      <td>8,192</td>\n",
       "      <td>870287</td>\n",
       "      <td>China</td>\n",
       "      <td>NaN</td>\n",
       "    </tr>\n",
       "    <tr>\n",
       "      <th>4</th>\n",
       "      <td>5</td>\n",
       "      <td>Vitol</td>\n",
       "      <td>Commodities</td>\n",
       "      <td>505,000</td>\n",
       "      <td>15,000</td>\n",
       "      <td>1560</td>\n",
       "      <td>Switzerland</td>\n",
       "      <td>NaN</td>\n",
       "    </tr>\n",
       "  </tbody>\n",
       "</table>\n",
       "</div>"
      ],
      "text/plain": [
       "   Ranking                     Company Name     Industry  Revenue   Profit  \\\n",
       "0        1                          Walmart       Retail  611,289   11,680   \n",
       "1        2                     Saudi Aramco  Oil and gas  603,651  159,069   \n",
       "2        3                           Amazon       Retail  574,785   30,425   \n",
       "3        4  State Grid Corporation of China  Electricity  530,009    8,192   \n",
       "4        5                            Vitol  Commodities  505,000   15,000   \n",
       "\n",
       "   Employees   Headquarters  State-owned  \n",
       "0    2100000  United States          NaN  \n",
       "1      70496   Saudi Arabia          NaN  \n",
       "2    1525000  United States          NaN  \n",
       "3     870287          China          NaN  \n",
       "4       1560    Switzerland          NaN  "
      ]
     },
     "execution_count": 59,
     "metadata": {},
     "output_type": "execute_result"
    }
   ],
   "source": [
    "company_data.head()"
   ]
  },
  {
   "cell_type": "code",
   "execution_count": 17,
   "id": "74241090",
   "metadata": {},
   "outputs": [],
   "source": [
    "company_data['Revenue'] = company_data['Revenue'].str.replace(',','')"
   ]
  },
  {
   "cell_type": "code",
   "execution_count": 62,
   "id": "b6ca5fa6",
   "metadata": {},
   "outputs": [
    {
     "data": {
      "text/html": [
       "<div>\n",
       "<style scoped>\n",
       "    .dataframe tbody tr th:only-of-type {\n",
       "        vertical-align: middle;\n",
       "    }\n",
       "\n",
       "    .dataframe tbody tr th {\n",
       "        vertical-align: top;\n",
       "    }\n",
       "\n",
       "    .dataframe thead th {\n",
       "        text-align: right;\n",
       "    }\n",
       "</style>\n",
       "<table border=\"1\" class=\"dataframe\">\n",
       "  <thead>\n",
       "    <tr style=\"text-align: right;\">\n",
       "      <th></th>\n",
       "      <th>Ranking</th>\n",
       "      <th>Company Name</th>\n",
       "      <th>Industry</th>\n",
       "      <th>Revenue</th>\n",
       "      <th>Profit</th>\n",
       "      <th>Employees</th>\n",
       "      <th>Headquarters</th>\n",
       "      <th>State-owned</th>\n",
       "    </tr>\n",
       "  </thead>\n",
       "  <tbody>\n",
       "    <tr>\n",
       "      <th>0</th>\n",
       "      <td>1</td>\n",
       "      <td>Walmart</td>\n",
       "      <td>Retail</td>\n",
       "      <td>611289</td>\n",
       "      <td>11,680</td>\n",
       "      <td>2100000</td>\n",
       "      <td>United States</td>\n",
       "      <td>NaN</td>\n",
       "    </tr>\n",
       "    <tr>\n",
       "      <th>1</th>\n",
       "      <td>2</td>\n",
       "      <td>Saudi Aramco</td>\n",
       "      <td>Oil and gas</td>\n",
       "      <td>603651</td>\n",
       "      <td>159,069</td>\n",
       "      <td>70496</td>\n",
       "      <td>Saudi Arabia</td>\n",
       "      <td>NaN</td>\n",
       "    </tr>\n",
       "    <tr>\n",
       "      <th>2</th>\n",
       "      <td>3</td>\n",
       "      <td>Amazon</td>\n",
       "      <td>Retail</td>\n",
       "      <td>574785</td>\n",
       "      <td>30,425</td>\n",
       "      <td>1525000</td>\n",
       "      <td>United States</td>\n",
       "      <td>NaN</td>\n",
       "    </tr>\n",
       "    <tr>\n",
       "      <th>3</th>\n",
       "      <td>4</td>\n",
       "      <td>State Grid Corporation of China</td>\n",
       "      <td>Electricity</td>\n",
       "      <td>530009</td>\n",
       "      <td>8,192</td>\n",
       "      <td>870287</td>\n",
       "      <td>China</td>\n",
       "      <td>NaN</td>\n",
       "    </tr>\n",
       "    <tr>\n",
       "      <th>4</th>\n",
       "      <td>5</td>\n",
       "      <td>Vitol</td>\n",
       "      <td>Commodities</td>\n",
       "      <td>505000</td>\n",
       "      <td>15,000</td>\n",
       "      <td>1560</td>\n",
       "      <td>Switzerland</td>\n",
       "      <td>NaN</td>\n",
       "    </tr>\n",
       "  </tbody>\n",
       "</table>\n",
       "</div>"
      ],
      "text/plain": [
       "   Ranking                     Company Name     Industry Revenue   Profit  \\\n",
       "0        1                          Walmart       Retail  611289   11,680   \n",
       "1        2                     Saudi Aramco  Oil and gas  603651  159,069   \n",
       "2        3                           Amazon       Retail  574785   30,425   \n",
       "3        4  State Grid Corporation of China  Electricity  530009    8,192   \n",
       "4        5                            Vitol  Commodities  505000   15,000   \n",
       "\n",
       "   Employees   Headquarters  State-owned  \n",
       "0    2100000  United States          NaN  \n",
       "1      70496   Saudi Arabia          NaN  \n",
       "2    1525000  United States          NaN  \n",
       "3     870287          China          NaN  \n",
       "4       1560    Switzerland          NaN  "
      ]
     },
     "execution_count": 62,
     "metadata": {},
     "output_type": "execute_result"
    }
   ],
   "source": [
    "company_data.head()"
   ]
  },
  {
   "cell_type": "code",
   "execution_count": 63,
   "id": "eefa6653",
   "metadata": {},
   "outputs": [],
   "source": [
    "company_data['Profit'] = company_data['Profit'].str.replace(',','')"
   ]
  },
  {
   "cell_type": "code",
   "execution_count": 67,
   "id": "a4767e50",
   "metadata": {},
   "outputs": [
    {
     "data": {
      "text/html": [
       "<div>\n",
       "<style scoped>\n",
       "    .dataframe tbody tr th:only-of-type {\n",
       "        vertical-align: middle;\n",
       "    }\n",
       "\n",
       "    .dataframe tbody tr th {\n",
       "        vertical-align: top;\n",
       "    }\n",
       "\n",
       "    .dataframe thead th {\n",
       "        text-align: right;\n",
       "    }\n",
       "</style>\n",
       "<table border=\"1\" class=\"dataframe\">\n",
       "  <thead>\n",
       "    <tr style=\"text-align: right;\">\n",
       "      <th></th>\n",
       "      <th>Ranking</th>\n",
       "      <th>Company Name</th>\n",
       "      <th>Industry</th>\n",
       "      <th>Revenue</th>\n",
       "      <th>Profit</th>\n",
       "      <th>Employees</th>\n",
       "      <th>Headquarters</th>\n",
       "      <th>State-owned</th>\n",
       "    </tr>\n",
       "  </thead>\n",
       "  <tbody>\n",
       "    <tr>\n",
       "      <th>0</th>\n",
       "      <td>1</td>\n",
       "      <td>Walmart</td>\n",
       "      <td>Retail</td>\n",
       "      <td>611289</td>\n",
       "      <td>11680</td>\n",
       "      <td>2100000</td>\n",
       "      <td>United States</td>\n",
       "      <td>NaN</td>\n",
       "    </tr>\n",
       "    <tr>\n",
       "      <th>1</th>\n",
       "      <td>2</td>\n",
       "      <td>Saudi Aramco</td>\n",
       "      <td>Oil and gas</td>\n",
       "      <td>603651</td>\n",
       "      <td>159069</td>\n",
       "      <td>70496</td>\n",
       "      <td>Saudi Arabia</td>\n",
       "      <td>NaN</td>\n",
       "    </tr>\n",
       "    <tr>\n",
       "      <th>2</th>\n",
       "      <td>3</td>\n",
       "      <td>Amazon</td>\n",
       "      <td>Retail</td>\n",
       "      <td>574785</td>\n",
       "      <td>30425</td>\n",
       "      <td>1525000</td>\n",
       "      <td>United States</td>\n",
       "      <td>NaN</td>\n",
       "    </tr>\n",
       "    <tr>\n",
       "      <th>3</th>\n",
       "      <td>4</td>\n",
       "      <td>State Grid Corporation of China</td>\n",
       "      <td>Electricity</td>\n",
       "      <td>530009</td>\n",
       "      <td>8192</td>\n",
       "      <td>870287</td>\n",
       "      <td>China</td>\n",
       "      <td>NaN</td>\n",
       "    </tr>\n",
       "    <tr>\n",
       "      <th>4</th>\n",
       "      <td>5</td>\n",
       "      <td>Vitol</td>\n",
       "      <td>Commodities</td>\n",
       "      <td>505000</td>\n",
       "      <td>15000</td>\n",
       "      <td>1560</td>\n",
       "      <td>Switzerland</td>\n",
       "      <td>NaN</td>\n",
       "    </tr>\n",
       "  </tbody>\n",
       "</table>\n",
       "</div>"
      ],
      "text/plain": [
       "   Ranking                     Company Name     Industry Revenue  Profit  \\\n",
       "0        1                          Walmart       Retail  611289   11680   \n",
       "1        2                     Saudi Aramco  Oil and gas  603651  159069   \n",
       "2        3                           Amazon       Retail  574785   30425   \n",
       "3        4  State Grid Corporation of China  Electricity  530009    8192   \n",
       "4        5                            Vitol  Commodities  505000   15000   \n",
       "\n",
       "   Employees   Headquarters  State-owned  \n",
       "0    2100000  United States          NaN  \n",
       "1      70496   Saudi Arabia          NaN  \n",
       "2    1525000  United States          NaN  \n",
       "3     870287          China          NaN  \n",
       "4       1560    Switzerland          NaN  "
      ]
     },
     "execution_count": 67,
     "metadata": {},
     "output_type": "execute_result"
    }
   ],
   "source": [
    "company_data.head()"
   ]
  },
  {
   "cell_type": "code",
   "execution_count": 68,
   "id": "58d7f380",
   "metadata": {},
   "outputs": [
    {
     "data": {
      "text/plain": [
       "Index(['Ranking', 'Company Name', 'Industry', 'Revenue', 'Profit', 'Employees',\n",
       "       'Headquarters', 'State-owned'],\n",
       "      dtype='object')"
      ]
     },
     "execution_count": 68,
     "metadata": {},
     "output_type": "execute_result"
    }
   ],
   "source": [
    "company_data.columns"
   ]
  },
  {
   "cell_type": "code",
   "execution_count": 69,
   "id": "2c6080bb",
   "metadata": {},
   "outputs": [
    {
     "name": "stdout",
     "output_type": "stream",
     "text": [
      "<class 'pandas.core.frame.DataFrame'>\n",
      "RangeIndex: 50 entries, 0 to 49\n",
      "Data columns (total 8 columns):\n",
      " #   Column        Non-Null Count  Dtype  \n",
      "---  ------        --------------  -----  \n",
      " 0   Ranking       50 non-null     int64  \n",
      " 1   Company Name  50 non-null     object \n",
      " 2   Industry      50 non-null     object \n",
      " 3   Revenue       50 non-null     object \n",
      " 4   Profit        50 non-null     object \n",
      " 5   Employees     50 non-null     int64  \n",
      " 6   Headquarters  50 non-null     object \n",
      " 7   State-owned   0 non-null      float64\n",
      "dtypes: float64(1), int64(2), object(5)\n",
      "memory usage: 3.3+ KB\n"
     ]
    }
   ],
   "source": [
    "company_data.info()"
   ]
  },
  {
   "cell_type": "code",
   "execution_count": 18,
   "id": "72c46b08",
   "metadata": {},
   "outputs": [],
   "source": [
    "#Renaming column for Rev. & Profit\n",
    "company_data.rename(columns={\"Revenue\": \"Revenue ($)\",\n",
    "                   \"Profit\": \"Profit ($)\"}, inplace =True)"
   ]
  },
  {
   "cell_type": "code",
   "execution_count": 72,
   "id": "11b4835f",
   "metadata": {},
   "outputs": [],
   "source": [
    "#converting to float\n",
    "#df[\"data\"] = df[\"data\"].astype(float)"
   ]
  },
  {
   "cell_type": "code",
   "execution_count": 19,
   "id": "a23b5fe3",
   "metadata": {},
   "outputs": [],
   "source": [
    "company_data[\"Revenue ($)\"] = company_data[\"Revenue ($)\"].astype(float)"
   ]
  },
  {
   "cell_type": "code",
   "execution_count": 20,
   "id": "cea78d5b",
   "metadata": {},
   "outputs": [
    {
     "data": {
      "text/plain": [
       "array([611289., 603651., 574785., 530009., 505000., 483019., 471154.,\n",
       "       413680., 394328., 386201., 324162., 322467., 318476., 305885.,\n",
       "       302089., 293685., 288309., 282836., 276711., 274491., 263310.,\n",
       "       255984., 248891., 246252., 238587., 234129., 226954., 222535.,\n",
       "       214766., 211915., 202753., 188888., 187061., 181566., 181364.,\n",
       "       180516., 180012., 175702., 173834., 171669., 171189., 167832.,\n",
       "       165000., 164762., 163037., 161698., 159800., 159371., 158057.,\n",
       "       157403.])"
      ]
     },
     "execution_count": 20,
     "metadata": {},
     "output_type": "execute_result"
    }
   ],
   "source": [
    "company_data ['Revenue ($)'].unique() #to check unique data"
   ]
  },
  {
   "cell_type": "code",
   "execution_count": 82,
   "id": "dbdc3f0c",
   "metadata": {},
   "outputs": [
    {
     "data": {
      "text/plain": [
       "array(['11680', '159069', '30425', '8192', '15000', '21080', '9657',\n",
       "       '55740', '99803', '20120', '4149', '6994', '4234', '−22819',\n",
       "       '15233', '−19961', '59972', '3560', '18110', '20526', '17320',\n",
       "       '−2487', '35465', '1699', '42398', '5844', '4751', '53589',\n",
       "       '73307', '48145', '17669', '38524', '12454', '−933', '6668',\n",
       "       '14516', '11024', '–1', '2035', '11528', '17641', '...', '16988',\n",
       "       '1800', '2493', '8723', '−1981', '15252'], dtype=object)"
      ]
     },
     "execution_count": 82,
     "metadata": {},
     "output_type": "execute_result"
    }
   ],
   "source": [
    "company_data ['Profit ($)'].unique()"
   ]
  },
  {
   "cell_type": "code",
   "execution_count": 86,
   "id": "b4cfab3d",
   "metadata": {},
   "outputs": [
    {
     "name": "stdout",
     "output_type": "stream",
     "text": [
      "<class 'pandas.core.frame.DataFrame'>\n",
      "RangeIndex: 50 entries, 0 to 49\n",
      "Data columns (total 8 columns):\n",
      " #   Column        Non-Null Count  Dtype  \n",
      "---  ------        --------------  -----  \n",
      " 0   Ranking       50 non-null     int64  \n",
      " 1   Company Name  50 non-null     object \n",
      " 2   Industry      50 non-null     object \n",
      " 3   Revenue ($)   50 non-null     float64\n",
      " 4   Profit ($)    50 non-null     object \n",
      " 5   Employees     50 non-null     int64  \n",
      " 6   Headquarters  50 non-null     object \n",
      " 7   State-owned   0 non-null      float64\n",
      "dtypes: float64(2), int64(2), object(4)\n",
      "memory usage: 3.3+ KB\n"
     ]
    }
   ],
   "source": [
    "company_data.info()"
   ]
  },
  {
   "cell_type": "code",
   "execution_count": 135,
   "id": "2e69dc03",
   "metadata": {},
   "outputs": [],
   "source": [
    "#company_data[\"Profit ($)\"] = company_data[\"Profit ($)\"].str.replace(\"<NA>\", \"\")"
   ]
  },
  {
   "cell_type": "code",
   "execution_count": 32,
   "id": "97024cfa",
   "metadata": {},
   "outputs": [],
   "source": [
    "#company_data[\"Profit ($)\"].replace('', pd.NA, inplace=True)"
   ]
  },
  {
   "cell_type": "code",
   "execution_count": 22,
   "id": "cbab2d8c",
   "metadata": {},
   "outputs": [],
   "source": [
    "company_data.dropna(subset=['Profit ($)'], inplace=True)"
   ]
  },
  {
   "cell_type": "code",
   "execution_count": 33,
   "id": "1faadd12",
   "metadata": {},
   "outputs": [
    {
     "data": {
      "text/plain": [
       "array(['11,680', '159,069', '30,425', '8,192', '15,000', '21,080',\n",
       "       '9,657', '55,740', '99,803', '20,120', '4,149', '6,994', '4,234',\n",
       "       '22,819', '15,233', '19,961', '59,972', '3,560', '18,110',\n",
       "       '20,526', '17,320', '2,487', '35,465', '1,699', '42,398', '5,844',\n",
       "       '4,751', '53,589', '73,307', '48,145', '17,669', '38,524',\n",
       "       '12,454', '933', '6,668', '14,516', '11,024', '1', '2,035',\n",
       "       '11,528', '17,641', <NA>, '16,988', '1,800', '2,493', '8,723',\n",
       "       '1,981', '15,252'], dtype=object)"
      ]
     },
     "execution_count": 33,
     "metadata": {},
     "output_type": "execute_result"
    }
   ],
   "source": [
    "company_data [\"Profit ($)\"].unique()"
   ]
  },
  {
   "cell_type": "code",
   "execution_count": 30,
   "id": "a361845b",
   "metadata": {},
   "outputs": [],
   "source": [
    "#company_data['Profit ($)'] = company_data['Profit ($)'].str.replace('11,680','')"
   ]
  },
  {
   "cell_type": "code",
   "execution_count": 37,
   "id": "b4d78d7d",
   "metadata": {},
   "outputs": [
    {
     "data": {
      "text/plain": [
       "array(['11,680', '159,069', '30,425', '8,192', '15,000', '21,080',\n",
       "       '9,657', '55,740', '99,803', '20,120', '4,149', '6,994', '4,234',\n",
       "       '22,819', '15,233', '19,961', '59,972', '3,560', '18,110',\n",
       "       '20,526', '17,320', '2,487', '35,465', '1,699', '42,398', '5,844',\n",
       "       '4,751', '53,589', '73,307', '48,145', '17,669', '38,524',\n",
       "       '12,454', '933', '6,668', '14,516', '11,024', '1', '2,035',\n",
       "       '11,528', '17,641', '16,988', '1,800', '2,493', '8,723', '1,981',\n",
       "       '15,252'], dtype=object)"
      ]
     },
     "execution_count": 37,
     "metadata": {},
     "output_type": "execute_result"
    }
   ],
   "source": [
    "company_data [\"Profit ($)\"].unique()"
   ]
  },
  {
   "cell_type": "code",
   "execution_count": 42,
   "id": "4ac3c831",
   "metadata": {},
   "outputs": [],
   "source": [
    "company_data[\"Profit ($)\"].replace('', pd.NA, inplace=True)"
   ]
  },
  {
   "cell_type": "code",
   "execution_count": 43,
   "id": "73b17846",
   "metadata": {},
   "outputs": [],
   "source": [
    "company_data.dropna(subset=['Profit ($)'], inplace=True)"
   ]
  },
  {
   "cell_type": "code",
   "execution_count": 39,
   "id": "210c4e5f",
   "metadata": {},
   "outputs": [],
   "source": [
    "company_data['Profit ($)'] = company_data['Profit ($)'].str.replace('11,680','')"
   ]
  },
  {
   "cell_type": "code",
   "execution_count": 44,
   "id": "39446a03",
   "metadata": {},
   "outputs": [
    {
     "data": {
      "text/plain": [
       "array(['159,069', '30,425', '8,192', '15,000', '21,080', '9,657',\n",
       "       '55,740', '99,803', '20,120', '4,149', '6,994', '4,234', '22,819',\n",
       "       '15,233', '19,961', '59,972', '3,560', '18,110', '20,526',\n",
       "       '17,320', '2,487', '35,465', '1,699', '42,398', '5,844', '4,751',\n",
       "       '53,589', '73,307', '48,145', '17,669', '38,524', '12,454', '933',\n",
       "       '6,668', '14,516', '11,024', '1', '2,035', '11,528', '17,641',\n",
       "       '16,988', '1,800', '2,493', '8,723', '1,981', '15,252'],\n",
       "      dtype=object)"
      ]
     },
     "execution_count": 44,
     "metadata": {},
     "output_type": "execute_result"
    }
   ],
   "source": [
    "company_data [\"Profit ($)\"].unique()"
   ]
  },
  {
   "cell_type": "code",
   "execution_count": null,
   "id": "55df4c5a",
   "metadata": {},
   "outputs": [],
   "source": [
    "company_data.info()"
   ]
  },
  {
   "cell_type": "code",
   "execution_count": 46,
   "id": "5141836f",
   "metadata": {},
   "outputs": [],
   "source": [
    "#company_data.head()"
   ]
  },
  {
   "cell_type": "code",
   "execution_count": 47,
   "id": "960fce45",
   "metadata": {},
   "outputs": [],
   "source": [
    "#filtering company_data.head()"
   ]
  },
  {
   "cell_type": "code",
   "execution_count": null,
   "id": "88d1ab8c",
   "metadata": {},
   "outputs": [],
   "source": []
  }
 ],
 "metadata": {
  "kernelspec": {
   "display_name": "Python 3 (ipykernel)",
   "language": "python",
   "name": "python3"
  },
  "language_info": {
   "codemirror_mode": {
    "name": "ipython",
    "version": 3
   },
   "file_extension": ".py",
   "mimetype": "text/x-python",
   "name": "python",
   "nbconvert_exporter": "python",
   "pygments_lexer": "ipython3",
   "version": "3.11.5"
  }
 },
 "nbformat": 4,
 "nbformat_minor": 5
}
