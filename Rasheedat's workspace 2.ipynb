{
 "cells": [
  {
   "cell_type": "markdown",
   "id": "7ae02996",
   "metadata": {},
   "source": [
    "# Data Cleaning"
   ]
  },
  {
   "cell_type": "code",
   "execution_count": 1,
   "id": "a3211311",
   "metadata": {},
   "outputs": [],
   "source": [
    "#creating data from scratch\n",
    "url_link_1 = \"https://en.wikipedia.org/wiki/List_of_largest_companies_by_revenue\""
   ]
  },
  {
   "cell_type": "code",
   "execution_count": 2,
   "id": "d7afb0be",
   "metadata": {},
   "outputs": [],
   "source": [
    "import pandas as pd\n",
    "company_data = pd.read_html(url_link_1)"
   ]
  },
  {
   "cell_type": "code",
   "execution_count": 3,
   "id": "1537c905",
   "metadata": {},
   "outputs": [
    {
     "data": {
      "text/plain": [
       "list"
      ]
     },
     "execution_count": 3,
     "metadata": {},
     "output_type": "execute_result"
    }
   ],
   "source": [
    "type (company_data)"
   ]
  },
  {
   "cell_type": "code",
   "execution_count": 4,
   "id": "74888a8a",
   "metadata": {},
   "outputs": [],
   "source": [
    "company_data = company_data[0] #dataframe"
   ]
  },
  {
   "cell_type": "code",
   "execution_count": 5,
   "id": "119be390",
   "metadata": {},
   "outputs": [],
   "source": [
    "company_data.columns = company_data.columns.get_level_values(0) #changing multiindex to single index"
   ]
  },
  {
   "cell_type": "code",
   "execution_count": 6,
   "id": "dbb7e100",
   "metadata": {},
   "outputs": [],
   "source": [
    "#dropping a column\n",
    "company_data.drop (columns= ['Ref.'], axis=1, inplace = True)"
   ]
  },
  {
   "cell_type": "code",
   "execution_count": 7,
   "id": "12f6899f",
   "metadata": {},
   "outputs": [],
   "source": [
    "company_data.rename(columns={\"Rank\": \"Ranking\",\n",
    "                   \"Name\": \"Company Name\", \"Headquarters[note 1]\" : \"Headquarters\"},\n",
    "          inplace=True)"
   ]
  },
  {
   "cell_type": "code",
   "execution_count": 8,
   "id": "b99e1e17",
   "metadata": {},
   "outputs": [
    {
     "name": "stdout",
     "output_type": "stream",
     "text": [
      "<class 'pandas.core.frame.DataFrame'>\n"
     ]
    }
   ],
   "source": [
    "print(type(company_data))"
   ]
  },
  {
   "cell_type": "code",
   "execution_count": 9,
   "id": "45fe69aa",
   "metadata": {},
   "outputs": [
    {
     "name": "stdout",
     "output_type": "stream",
     "text": [
      "<class 'pandas.core.frame.DataFrame'>\n",
      "RangeIndex: 50 entries, 0 to 49\n",
      "Data columns (total 9 columns):\n",
      " #   Column              Non-Null Count  Dtype  \n",
      "---  ------              --------------  -----  \n",
      " 0   Ranking             50 non-null     int64  \n",
      " 1   Company Name        50 non-null     object \n",
      " 2   Industry            50 non-null     object \n",
      " 3   Revenue             50 non-null     object \n",
      " 4   Profit              50 non-null     object \n",
      " 5   Employees           50 non-null     int64  \n",
      " 6   Headquarters        50 non-null     object \n",
      " 7   State-owned         0 non-null      float64\n",
      " 8   Unnamed: 9_level_0  50 non-null     object \n",
      "dtypes: float64(1), int64(2), object(6)\n",
      "memory usage: 3.6+ KB\n"
     ]
    }
   ],
   "source": [
    "#summarising data\n",
    "company_data.info()"
   ]
  },
  {
   "cell_type": "code",
   "execution_count": 10,
   "id": "589e22ca",
   "metadata": {},
   "outputs": [],
   "source": [
    "#remove the dollar sign from the revenue column\n",
    "company_data['Revenue'] = company_data['Revenue'].str.replace('$','')"
   ]
  },
  {
   "cell_type": "code",
   "execution_count": 11,
   "id": "7ded98cf",
   "metadata": {},
   "outputs": [],
   "source": [
    "company_data['Profit'] = company_data['Profit'].str.replace('$','')"
   ]
  },
  {
   "cell_type": "code",
   "execution_count": 12,
   "id": "afc4a8f6",
   "metadata": {},
   "outputs": [],
   "source": [
    "company_data.drop(columns= ['Unnamed: 9_level_0'], axis=1, inplace = True)"
   ]
  },
  {
   "cell_type": "code",
   "execution_count": 13,
   "id": "62bde561",
   "metadata": {},
   "outputs": [],
   "source": [
    "company_data['Profit'] = company_data['Profit'].str.replace(',','')"
   ]
  },
  {
   "cell_type": "code",
   "execution_count": 14,
   "id": "3e936331",
   "metadata": {},
   "outputs": [],
   "source": [
    "company_data['Revenue'] = company_data['Revenue'].str.replace(',','')"
   ]
  },
  {
   "cell_type": "code",
   "execution_count": 15,
   "id": "4aad631b",
   "metadata": {},
   "outputs": [],
   "source": [
    "#Renaming column for Rev. & Profit\n",
    "company_data.rename(columns={\"Revenue\": \"Revenue ($)\",\n",
    "                   \"Profit\": \"Profit ($)\"}, inplace =True)"
   ]
  },
  {
   "cell_type": "code",
   "execution_count": 16,
   "id": "aef938da",
   "metadata": {},
   "outputs": [],
   "source": [
    "company_data[\"Revenue ($)\"] = company_data[\"Revenue ($)\"].astype(float)"
   ]
  },
  {
   "cell_type": "code",
   "execution_count": 25,
   "id": "3116a149",
   "metadata": {},
   "outputs": [
    {
     "data": {
      "text/plain": [
       "array(['11680', '159069', '30425', '8192', '15000', '21080', '9657',\n",
       "       '55740', '99803', '20120', '4149', '6994', '4234', '22819',\n",
       "       '15233', '19961', '59972', '3560', '18110', '20526', '17320',\n",
       "       '2487', '35465', '1699', '42398', '5844', '4751', '53589', '73307',\n",
       "       '48145', '17669', '38524', '12454', '933', '6668', '14516',\n",
       "       '11024', '1', '2035', '11528', '17641', <NA>, '16988', '1800',\n",
       "       '2493', '8723', '1981', '15252'], dtype=object)"
      ]
     },
     "execution_count": 25,
     "metadata": {},
     "output_type": "execute_result"
    }
   ],
   "source": [
    "company_data ['Profit ($)'].unique() #to check unique data"
   ]
  },
  {
   "cell_type": "code",
   "execution_count": 22,
   "id": "84d01e1f",
   "metadata": {},
   "outputs": [],
   "source": [
    "company_data[\"Profit ($)\"] = company_data[\"Profit ($)\"].str.replace(\"–\", \"\")"
   ]
  },
  {
   "cell_type": "code",
   "execution_count": 24,
   "id": "6b4a9e04",
   "metadata": {},
   "outputs": [],
   "source": [
    "company_data[\"Profit ($)\"].replace('', pd.NA, inplace=True)"
   ]
  },
  {
   "cell_type": "code",
   "execution_count": 26,
   "id": "18bbc6ff",
   "metadata": {},
   "outputs": [],
   "source": [
    "company_data.dropna(subset=['Profit ($)'], inplace=True)"
   ]
  },
  {
   "cell_type": "code",
   "execution_count": 27,
   "id": "24a336af",
   "metadata": {},
   "outputs": [],
   "source": [
    "company_data[[\"Revenue ($)\", \"Profit ($)\"]] = company_data[[\"Revenue ($)\", \"Profit ($)\"]].astype(float)"
   ]
  },
  {
   "cell_type": "code",
   "execution_count": 28,
   "id": "b4d66121",
   "metadata": {},
   "outputs": [
    {
     "name": "stdout",
     "output_type": "stream",
     "text": [
      "<class 'pandas.core.frame.DataFrame'>\n",
      "Index: 48 entries, 0 to 49\n",
      "Data columns (total 8 columns):\n",
      " #   Column        Non-Null Count  Dtype  \n",
      "---  ------        --------------  -----  \n",
      " 0   Ranking       48 non-null     int64  \n",
      " 1   Company Name  48 non-null     object \n",
      " 2   Industry      48 non-null     object \n",
      " 3   Revenue ($)   48 non-null     float64\n",
      " 4   Profit ($)    48 non-null     float64\n",
      " 5   Employees     48 non-null     int64  \n",
      " 6   Headquarters  48 non-null     object \n",
      " 7   State-owned   0 non-null      float64\n",
      "dtypes: float64(3), int64(2), object(3)\n",
      "memory usage: 3.4+ KB\n"
     ]
    }
   ],
   "source": [
    "company_data.info()"
   ]
  },
  {
   "cell_type": "code",
   "execution_count": 29,
   "id": "bbe8cc0c",
   "metadata": {},
   "outputs": [
    {
     "data": {
      "text/html": [
       "<div>\n",
       "<style scoped>\n",
       "    .dataframe tbody tr th:only-of-type {\n",
       "        vertical-align: middle;\n",
       "    }\n",
       "\n",
       "    .dataframe tbody tr th {\n",
       "        vertical-align: top;\n",
       "    }\n",
       "\n",
       "    .dataframe thead th {\n",
       "        text-align: right;\n",
       "    }\n",
       "</style>\n",
       "<table border=\"1\" class=\"dataframe\">\n",
       "  <thead>\n",
       "    <tr style=\"text-align: right;\">\n",
       "      <th></th>\n",
       "      <th>Ranking</th>\n",
       "      <th>Company Name</th>\n",
       "      <th>Industry</th>\n",
       "      <th>Revenue ($)</th>\n",
       "      <th>Profit ($)</th>\n",
       "      <th>Employees</th>\n",
       "      <th>Headquarters</th>\n",
       "      <th>State-owned</th>\n",
       "    </tr>\n",
       "  </thead>\n",
       "  <tbody>\n",
       "    <tr>\n",
       "      <th>0</th>\n",
       "      <td>1</td>\n",
       "      <td>Walmart</td>\n",
       "      <td>Retail</td>\n",
       "      <td>611289.0</td>\n",
       "      <td>11680.0</td>\n",
       "      <td>2100000</td>\n",
       "      <td>United States</td>\n",
       "      <td>NaN</td>\n",
       "    </tr>\n",
       "    <tr>\n",
       "      <th>1</th>\n",
       "      <td>2</td>\n",
       "      <td>Saudi Aramco</td>\n",
       "      <td>Oil and gas</td>\n",
       "      <td>603651.0</td>\n",
       "      <td>159069.0</td>\n",
       "      <td>70496</td>\n",
       "      <td>Saudi Arabia</td>\n",
       "      <td>NaN</td>\n",
       "    </tr>\n",
       "    <tr>\n",
       "      <th>2</th>\n",
       "      <td>3</td>\n",
       "      <td>Amazon</td>\n",
       "      <td>Retail</td>\n",
       "      <td>574785.0</td>\n",
       "      <td>30425.0</td>\n",
       "      <td>1525000</td>\n",
       "      <td>United States</td>\n",
       "      <td>NaN</td>\n",
       "    </tr>\n",
       "    <tr>\n",
       "      <th>3</th>\n",
       "      <td>4</td>\n",
       "      <td>State Grid Corporation of China</td>\n",
       "      <td>Electricity</td>\n",
       "      <td>530009.0</td>\n",
       "      <td>8192.0</td>\n",
       "      <td>870287</td>\n",
       "      <td>China</td>\n",
       "      <td>NaN</td>\n",
       "    </tr>\n",
       "    <tr>\n",
       "      <th>4</th>\n",
       "      <td>5</td>\n",
       "      <td>Vitol</td>\n",
       "      <td>Commodities</td>\n",
       "      <td>505000.0</td>\n",
       "      <td>15000.0</td>\n",
       "      <td>1560</td>\n",
       "      <td>Switzerland</td>\n",
       "      <td>NaN</td>\n",
       "    </tr>\n",
       "  </tbody>\n",
       "</table>\n",
       "</div>"
      ],
      "text/plain": [
       "   Ranking                     Company Name     Industry  Revenue ($)  \\\n",
       "0        1                          Walmart       Retail     611289.0   \n",
       "1        2                     Saudi Aramco  Oil and gas     603651.0   \n",
       "2        3                           Amazon       Retail     574785.0   \n",
       "3        4  State Grid Corporation of China  Electricity     530009.0   \n",
       "4        5                            Vitol  Commodities     505000.0   \n",
       "\n",
       "   Profit ($)  Employees   Headquarters  State-owned  \n",
       "0     11680.0    2100000  United States          NaN  \n",
       "1    159069.0      70496   Saudi Arabia          NaN  \n",
       "2     30425.0    1525000  United States          NaN  \n",
       "3      8192.0     870287          China          NaN  \n",
       "4     15000.0       1560    Switzerland          NaN  "
      ]
     },
     "execution_count": 29,
     "metadata": {},
     "output_type": "execute_result"
    }
   ],
   "source": [
    "#filtering \n",
    "company_data.head()"
   ]
  },
  {
   "cell_type": "code",
   "execution_count": 31,
   "id": "75d11692",
   "metadata": {},
   "outputs": [
    {
     "data": {
      "text/plain": [
       "1560"
      ]
     },
     "execution_count": 31,
     "metadata": {},
     "output_type": "execute_result"
    }
   ],
   "source": [
    "company_data['Employees'].min()"
   ]
  },
  {
   "cell_type": "code",
   "execution_count": 32,
   "id": "3ee6cd71",
   "metadata": {},
   "outputs": [],
   "source": [
    "emp_data = company_data[company_data['Employees']>= 100000]"
   ]
  },
  {
   "cell_type": "code",
   "execution_count": 33,
   "id": "ccdf881e",
   "metadata": {},
   "outputs": [
    {
     "data": {
      "text/html": [
       "<div>\n",
       "<style scoped>\n",
       "    .dataframe tbody tr th:only-of-type {\n",
       "        vertical-align: middle;\n",
       "    }\n",
       "\n",
       "    .dataframe tbody tr th {\n",
       "        vertical-align: top;\n",
       "    }\n",
       "\n",
       "    .dataframe thead th {\n",
       "        text-align: right;\n",
       "    }\n",
       "</style>\n",
       "<table border=\"1\" class=\"dataframe\">\n",
       "  <thead>\n",
       "    <tr style=\"text-align: right;\">\n",
       "      <th></th>\n",
       "      <th>Ranking</th>\n",
       "      <th>Company Name</th>\n",
       "      <th>Industry</th>\n",
       "      <th>Revenue ($)</th>\n",
       "      <th>Profit ($)</th>\n",
       "      <th>Employees</th>\n",
       "      <th>Headquarters</th>\n",
       "      <th>State-owned</th>\n",
       "    </tr>\n",
       "  </thead>\n",
       "  <tbody>\n",
       "    <tr>\n",
       "      <th>0</th>\n",
       "      <td>1</td>\n",
       "      <td>Walmart</td>\n",
       "      <td>Retail</td>\n",
       "      <td>611289.0</td>\n",
       "      <td>11680.0</td>\n",
       "      <td>2100000</td>\n",
       "      <td>United States</td>\n",
       "      <td>NaN</td>\n",
       "    </tr>\n",
       "    <tr>\n",
       "      <th>2</th>\n",
       "      <td>3</td>\n",
       "      <td>Amazon</td>\n",
       "      <td>Retail</td>\n",
       "      <td>574785.0</td>\n",
       "      <td>30425.0</td>\n",
       "      <td>1525000</td>\n",
       "      <td>United States</td>\n",
       "      <td>NaN</td>\n",
       "    </tr>\n",
       "    <tr>\n",
       "      <th>3</th>\n",
       "      <td>4</td>\n",
       "      <td>State Grid Corporation of China</td>\n",
       "      <td>Electricity</td>\n",
       "      <td>530009.0</td>\n",
       "      <td>8192.0</td>\n",
       "      <td>870287</td>\n",
       "      <td>China</td>\n",
       "      <td>NaN</td>\n",
       "    </tr>\n",
       "    <tr>\n",
       "      <th>5</th>\n",
       "      <td>6</td>\n",
       "      <td>China National Petroleum Corporation</td>\n",
       "      <td>Oil and gas</td>\n",
       "      <td>483019.0</td>\n",
       "      <td>21080.0</td>\n",
       "      <td>1087049</td>\n",
       "      <td>China</td>\n",
       "      <td>NaN</td>\n",
       "    </tr>\n",
       "    <tr>\n",
       "      <th>6</th>\n",
       "      <td>7</td>\n",
       "      <td>China Petrochemical Corporation</td>\n",
       "      <td>Oil and gas</td>\n",
       "      <td>471154.0</td>\n",
       "      <td>9657.0</td>\n",
       "      <td>527487</td>\n",
       "      <td>China</td>\n",
       "      <td>NaN</td>\n",
       "    </tr>\n",
       "    <tr>\n",
       "      <th>8</th>\n",
       "      <td>9</td>\n",
       "      <td>Apple</td>\n",
       "      <td>Electronics</td>\n",
       "      <td>394328.0</td>\n",
       "      <td>99803.0</td>\n",
       "      <td>164000</td>\n",
       "      <td>United States</td>\n",
       "      <td>NaN</td>\n",
       "    </tr>\n",
       "    <tr>\n",
       "      <th>10</th>\n",
       "      <td>11</td>\n",
       "      <td>UnitedHealth Group</td>\n",
       "      <td>Healthcare</td>\n",
       "      <td>324162.0</td>\n",
       "      <td>20120.0</td>\n",
       "      <td>400000</td>\n",
       "      <td>United States</td>\n",
       "      <td>NaN</td>\n",
       "    </tr>\n",
       "    <tr>\n",
       "      <th>11</th>\n",
       "      <td>12</td>\n",
       "      <td>CVS Health</td>\n",
       "      <td>Healthcare</td>\n",
       "      <td>322467.0</td>\n",
       "      <td>4149.0</td>\n",
       "      <td>259500</td>\n",
       "      <td>United States</td>\n",
       "      <td>NaN</td>\n",
       "    </tr>\n",
       "    <tr>\n",
       "      <th>13</th>\n",
       "      <td>14</td>\n",
       "      <td>China State Construction Engineering</td>\n",
       "      <td>Construction</td>\n",
       "      <td>305885.0</td>\n",
       "      <td>4234.0</td>\n",
       "      <td>382492</td>\n",
       "      <td>China</td>\n",
       "      <td>NaN</td>\n",
       "    </tr>\n",
       "    <tr>\n",
       "      <th>14</th>\n",
       "      <td>15</td>\n",
       "      <td>Berkshire Hathaway</td>\n",
       "      <td>Financials</td>\n",
       "      <td>302089.0</td>\n",
       "      <td>22819.0</td>\n",
       "      <td>383000</td>\n",
       "      <td>United States</td>\n",
       "      <td>NaN</td>\n",
       "    </tr>\n",
       "    <tr>\n",
       "      <th>15</th>\n",
       "      <td>16</td>\n",
       "      <td>Volkswagen Group</td>\n",
       "      <td>Automotive</td>\n",
       "      <td>293685.0</td>\n",
       "      <td>15233.0</td>\n",
       "      <td>675805</td>\n",
       "      <td>Germany</td>\n",
       "      <td>NaN</td>\n",
       "    </tr>\n",
       "    <tr>\n",
       "      <th>17</th>\n",
       "      <td>18</td>\n",
       "      <td>Alphabet</td>\n",
       "      <td>Information technology</td>\n",
       "      <td>282836.0</td>\n",
       "      <td>59972.0</td>\n",
       "      <td>190234</td>\n",
       "      <td>United States</td>\n",
       "      <td>NaN</td>\n",
       "    </tr>\n",
       "    <tr>\n",
       "      <th>19</th>\n",
       "      <td>20</td>\n",
       "      <td>Toyota</td>\n",
       "      <td>Automotive</td>\n",
       "      <td>274491.0</td>\n",
       "      <td>18110.0</td>\n",
       "      <td>375235</td>\n",
       "      <td>Japan</td>\n",
       "      <td>NaN</td>\n",
       "    </tr>\n",
       "    <tr>\n",
       "      <th>20</th>\n",
       "      <td>21</td>\n",
       "      <td>TotalEnergies</td>\n",
       "      <td>Oil and gas</td>\n",
       "      <td>263310.0</td>\n",
       "      <td>20526.0</td>\n",
       "      <td>101279</td>\n",
       "      <td>France</td>\n",
       "      <td>NaN</td>\n",
       "    </tr>\n",
       "    <tr>\n",
       "      <th>25</th>\n",
       "      <td>26</td>\n",
       "      <td>Samsung Electronics</td>\n",
       "      <td>Electronics</td>\n",
       "      <td>234129.0</td>\n",
       "      <td>42398.0</td>\n",
       "      <td>270372</td>\n",
       "      <td>South Korea</td>\n",
       "      <td>NaN</td>\n",
       "    </tr>\n",
       "    <tr>\n",
       "      <th>26</th>\n",
       "      <td>27</td>\n",
       "      <td>Costco</td>\n",
       "      <td>Retail</td>\n",
       "      <td>226954.0</td>\n",
       "      <td>5844.0</td>\n",
       "      <td>304000</td>\n",
       "      <td>United States</td>\n",
       "      <td>NaN</td>\n",
       "    </tr>\n",
       "    <tr>\n",
       "      <th>27</th>\n",
       "      <td>28</td>\n",
       "      <td>Foxconn</td>\n",
       "      <td>Electronics</td>\n",
       "      <td>222535.0</td>\n",
       "      <td>4751.0</td>\n",
       "      <td>767062</td>\n",
       "      <td>Taiwan</td>\n",
       "      <td>NaN</td>\n",
       "    </tr>\n",
       "    <tr>\n",
       "      <th>28</th>\n",
       "      <td>29</td>\n",
       "      <td>Industrial and Commercial Bank of China</td>\n",
       "      <td>Financials</td>\n",
       "      <td>214766.0</td>\n",
       "      <td>53589.0</td>\n",
       "      <td>427587</td>\n",
       "      <td>China</td>\n",
       "      <td>NaN</td>\n",
       "    </tr>\n",
       "    <tr>\n",
       "      <th>29</th>\n",
       "      <td>30</td>\n",
       "      <td>Microsoft</td>\n",
       "      <td>Information technology</td>\n",
       "      <td>211915.0</td>\n",
       "      <td>73307.0</td>\n",
       "      <td>221000</td>\n",
       "      <td>United States</td>\n",
       "      <td>NaN</td>\n",
       "    </tr>\n",
       "    <tr>\n",
       "      <th>30</th>\n",
       "      <td>31</td>\n",
       "      <td>China Construction Bank</td>\n",
       "      <td>Financials</td>\n",
       "      <td>202753.0</td>\n",
       "      <td>48145.0</td>\n",
       "      <td>376682</td>\n",
       "      <td>China</td>\n",
       "      <td>NaN</td>\n",
       "    </tr>\n",
       "    <tr>\n",
       "      <th>31</th>\n",
       "      <td>32</td>\n",
       "      <td>Stellantis</td>\n",
       "      <td>Automotive</td>\n",
       "      <td>188888.0</td>\n",
       "      <td>17669.0</td>\n",
       "      <td>272367</td>\n",
       "      <td>Netherlands</td>\n",
       "      <td>NaN</td>\n",
       "    </tr>\n",
       "    <tr>\n",
       "      <th>32</th>\n",
       "      <td>33</td>\n",
       "      <td>Agricultural Bank of China</td>\n",
       "      <td>Financials</td>\n",
       "      <td>187061.0</td>\n",
       "      <td>38524.0</td>\n",
       "      <td>452258</td>\n",
       "      <td>China</td>\n",
       "      <td>NaN</td>\n",
       "    </tr>\n",
       "    <tr>\n",
       "      <th>33</th>\n",
       "      <td>34</td>\n",
       "      <td>Ping An Insurance</td>\n",
       "      <td>Financials</td>\n",
       "      <td>181566.0</td>\n",
       "      <td>12454.0</td>\n",
       "      <td>344223</td>\n",
       "      <td>China</td>\n",
       "      <td>NaN</td>\n",
       "    </tr>\n",
       "    <tr>\n",
       "      <th>38</th>\n",
       "      <td>39</td>\n",
       "      <td>Sinochem</td>\n",
       "      <td>Chemicals</td>\n",
       "      <td>173834.0</td>\n",
       "      <td>1.0</td>\n",
       "      <td>220760</td>\n",
       "      <td>China</td>\n",
       "      <td>NaN</td>\n",
       "    </tr>\n",
       "    <tr>\n",
       "      <th>39</th>\n",
       "      <td>40</td>\n",
       "      <td>China Railway Engineering Corporation</td>\n",
       "      <td>Construction</td>\n",
       "      <td>171669.0</td>\n",
       "      <td>2035.0</td>\n",
       "      <td>314792</td>\n",
       "      <td>China</td>\n",
       "      <td>NaN</td>\n",
       "    </tr>\n",
       "    <tr>\n",
       "      <th>41</th>\n",
       "      <td>42</td>\n",
       "      <td>Gazprom</td>\n",
       "      <td>Oil and gas</td>\n",
       "      <td>167832.0</td>\n",
       "      <td>17641.0</td>\n",
       "      <td>468000</td>\n",
       "      <td>Russia</td>\n",
       "      <td>NaN</td>\n",
       "    </tr>\n",
       "    <tr>\n",
       "      <th>44</th>\n",
       "      <td>45</td>\n",
       "      <td>China Railway Construction Corporation</td>\n",
       "      <td>Construction</td>\n",
       "      <td>163037.0</td>\n",
       "      <td>1800.0</td>\n",
       "      <td>342098</td>\n",
       "      <td>China</td>\n",
       "      <td>NaN</td>\n",
       "    </tr>\n",
       "    <tr>\n",
       "      <th>45</th>\n",
       "      <td>46</td>\n",
       "      <td>Baowu</td>\n",
       "      <td>Steel</td>\n",
       "      <td>161698.0</td>\n",
       "      <td>2493.0</td>\n",
       "      <td>245675</td>\n",
       "      <td>China</td>\n",
       "      <td>NaN</td>\n",
       "    </tr>\n",
       "    <tr>\n",
       "      <th>48</th>\n",
       "      <td>49</td>\n",
       "      <td>Ford Motor Company</td>\n",
       "      <td>Automotive</td>\n",
       "      <td>158057.0</td>\n",
       "      <td>1981.0</td>\n",
       "      <td>173000</td>\n",
       "      <td>United States</td>\n",
       "      <td>NaN</td>\n",
       "    </tr>\n",
       "    <tr>\n",
       "      <th>49</th>\n",
       "      <td>50</td>\n",
       "      <td>Mercedes-Benz Group</td>\n",
       "      <td>Automotive</td>\n",
       "      <td>157403.0</td>\n",
       "      <td>15252.0</td>\n",
       "      <td>168797</td>\n",
       "      <td>Germany</td>\n",
       "      <td>NaN</td>\n",
       "    </tr>\n",
       "  </tbody>\n",
       "</table>\n",
       "</div>"
      ],
      "text/plain": [
       "    Ranking                             Company Name                Industry  \\\n",
       "0         1                                  Walmart                  Retail   \n",
       "2         3                                   Amazon                  Retail   \n",
       "3         4          State Grid Corporation of China             Electricity   \n",
       "5         6     China National Petroleum Corporation             Oil and gas   \n",
       "6         7          China Petrochemical Corporation             Oil and gas   \n",
       "8         9                                    Apple             Electronics   \n",
       "10       11                       UnitedHealth Group              Healthcare   \n",
       "11       12                               CVS Health              Healthcare   \n",
       "13       14     China State Construction Engineering            Construction   \n",
       "14       15                       Berkshire Hathaway              Financials   \n",
       "15       16                         Volkswagen Group              Automotive   \n",
       "17       18                                 Alphabet  Information technology   \n",
       "19       20                                   Toyota              Automotive   \n",
       "20       21                            TotalEnergies             Oil and gas   \n",
       "25       26                      Samsung Electronics             Electronics   \n",
       "26       27                                   Costco                  Retail   \n",
       "27       28                                  Foxconn             Electronics   \n",
       "28       29  Industrial and Commercial Bank of China              Financials   \n",
       "29       30                                Microsoft  Information technology   \n",
       "30       31                  China Construction Bank              Financials   \n",
       "31       32                               Stellantis              Automotive   \n",
       "32       33               Agricultural Bank of China              Financials   \n",
       "33       34                        Ping An Insurance              Financials   \n",
       "38       39                                 Sinochem               Chemicals   \n",
       "39       40    China Railway Engineering Corporation            Construction   \n",
       "41       42                                  Gazprom             Oil and gas   \n",
       "44       45   China Railway Construction Corporation            Construction   \n",
       "45       46                                    Baowu                   Steel   \n",
       "48       49                       Ford Motor Company              Automotive   \n",
       "49       50                      Mercedes-Benz Group              Automotive   \n",
       "\n",
       "    Revenue ($)  Profit ($)  Employees   Headquarters  State-owned  \n",
       "0      611289.0     11680.0    2100000  United States          NaN  \n",
       "2      574785.0     30425.0    1525000  United States          NaN  \n",
       "3      530009.0      8192.0     870287          China          NaN  \n",
       "5      483019.0     21080.0    1087049          China          NaN  \n",
       "6      471154.0      9657.0     527487          China          NaN  \n",
       "8      394328.0     99803.0     164000  United States          NaN  \n",
       "10     324162.0     20120.0     400000  United States          NaN  \n",
       "11     322467.0      4149.0     259500  United States          NaN  \n",
       "13     305885.0      4234.0     382492          China          NaN  \n",
       "14     302089.0     22819.0     383000  United States          NaN  \n",
       "15     293685.0     15233.0     675805        Germany          NaN  \n",
       "17     282836.0     59972.0     190234  United States          NaN  \n",
       "19     274491.0     18110.0     375235          Japan          NaN  \n",
       "20     263310.0     20526.0     101279         France          NaN  \n",
       "25     234129.0     42398.0     270372    South Korea          NaN  \n",
       "26     226954.0      5844.0     304000  United States          NaN  \n",
       "27     222535.0      4751.0     767062         Taiwan          NaN  \n",
       "28     214766.0     53589.0     427587          China          NaN  \n",
       "29     211915.0     73307.0     221000  United States          NaN  \n",
       "30     202753.0     48145.0     376682          China          NaN  \n",
       "31     188888.0     17669.0     272367    Netherlands          NaN  \n",
       "32     187061.0     38524.0     452258          China          NaN  \n",
       "33     181566.0     12454.0     344223          China          NaN  \n",
       "38     173834.0         1.0     220760          China          NaN  \n",
       "39     171669.0      2035.0     314792          China          NaN  \n",
       "41     167832.0     17641.0     468000         Russia          NaN  \n",
       "44     163037.0      1800.0     342098          China          NaN  \n",
       "45     161698.0      2493.0     245675          China          NaN  \n",
       "48     158057.0      1981.0     173000  United States          NaN  \n",
       "49     157403.0     15252.0     168797        Germany          NaN  "
      ]
     },
     "execution_count": 33,
     "metadata": {},
     "output_type": "execute_result"
    }
   ],
   "source": [
    "emp_data"
   ]
  },
  {
   "cell_type": "code",
   "execution_count": 35,
   "id": "843c117c",
   "metadata": {},
   "outputs": [
    {
     "data": {
      "text/html": [
       "<div>\n",
       "<style scoped>\n",
       "    .dataframe tbody tr th:only-of-type {\n",
       "        vertical-align: middle;\n",
       "    }\n",
       "\n",
       "    .dataframe tbody tr th {\n",
       "        vertical-align: top;\n",
       "    }\n",
       "\n",
       "    .dataframe thead th {\n",
       "        text-align: right;\n",
       "    }\n",
       "</style>\n",
       "<table border=\"1\" class=\"dataframe\">\n",
       "  <thead>\n",
       "    <tr style=\"text-align: right;\">\n",
       "      <th></th>\n",
       "      <th>Ranking</th>\n",
       "      <th>Company Name</th>\n",
       "      <th>Industry</th>\n",
       "      <th>Revenue ($)</th>\n",
       "      <th>Profit ($)</th>\n",
       "      <th>Employees</th>\n",
       "      <th>Headquarters</th>\n",
       "      <th>State-owned</th>\n",
       "    </tr>\n",
       "  </thead>\n",
       "  <tbody>\n",
       "    <tr>\n",
       "      <th>0</th>\n",
       "      <td>1</td>\n",
       "      <td>Walmart</td>\n",
       "      <td>Retail</td>\n",
       "      <td>611289.0</td>\n",
       "      <td>11680.0</td>\n",
       "      <td>2100000</td>\n",
       "      <td>United States</td>\n",
       "      <td>NaN</td>\n",
       "    </tr>\n",
       "    <tr>\n",
       "      <th>1</th>\n",
       "      <td>2</td>\n",
       "      <td>Saudi Aramco</td>\n",
       "      <td>Oil and gas</td>\n",
       "      <td>603651.0</td>\n",
       "      <td>159069.0</td>\n",
       "      <td>70496</td>\n",
       "      <td>Saudi Arabia</td>\n",
       "      <td>NaN</td>\n",
       "    </tr>\n",
       "    <tr>\n",
       "      <th>2</th>\n",
       "      <td>3</td>\n",
       "      <td>Amazon</td>\n",
       "      <td>Retail</td>\n",
       "      <td>574785.0</td>\n",
       "      <td>30425.0</td>\n",
       "      <td>1525000</td>\n",
       "      <td>United States</td>\n",
       "      <td>NaN</td>\n",
       "    </tr>\n",
       "    <tr>\n",
       "      <th>3</th>\n",
       "      <td>4</td>\n",
       "      <td>State Grid Corporation of China</td>\n",
       "      <td>Electricity</td>\n",
       "      <td>530009.0</td>\n",
       "      <td>8192.0</td>\n",
       "      <td>870287</td>\n",
       "      <td>China</td>\n",
       "      <td>NaN</td>\n",
       "    </tr>\n",
       "    <tr>\n",
       "      <th>4</th>\n",
       "      <td>5</td>\n",
       "      <td>Vitol</td>\n",
       "      <td>Commodities</td>\n",
       "      <td>505000.0</td>\n",
       "      <td>15000.0</td>\n",
       "      <td>1560</td>\n",
       "      <td>Switzerland</td>\n",
       "      <td>NaN</td>\n",
       "    </tr>\n",
       "  </tbody>\n",
       "</table>\n",
       "</div>"
      ],
      "text/plain": [
       "   Ranking                     Company Name     Industry  Revenue ($)  \\\n",
       "0        1                          Walmart       Retail     611289.0   \n",
       "1        2                     Saudi Aramco  Oil and gas     603651.0   \n",
       "2        3                           Amazon       Retail     574785.0   \n",
       "3        4  State Grid Corporation of China  Electricity     530009.0   \n",
       "4        5                            Vitol  Commodities     505000.0   \n",
       "\n",
       "   Profit ($)  Employees   Headquarters  State-owned  \n",
       "0     11680.0    2100000  United States          NaN  \n",
       "1    159069.0      70496   Saudi Arabia          NaN  \n",
       "2     30425.0    1525000  United States          NaN  \n",
       "3      8192.0     870287          China          NaN  \n",
       "4     15000.0       1560    Switzerland          NaN  "
      ]
     },
     "execution_count": 35,
     "metadata": {},
     "output_type": "execute_result"
    }
   ],
   "source": [
    "company_data.head()"
   ]
  },
  {
   "cell_type": "code",
   "execution_count": 36,
   "id": "437c26ee",
   "metadata": {},
   "outputs": [
    {
     "data": {
      "text/plain": [
       "48"
      ]
     },
     "execution_count": 36,
     "metadata": {},
     "output_type": "execute_result"
    }
   ],
   "source": [
    "len(company_data)"
   ]
  },
  {
   "cell_type": "code",
   "execution_count": 37,
   "id": "fa601bb8",
   "metadata": {},
   "outputs": [
    {
     "data": {
      "text/html": [
       "<div>\n",
       "<style scoped>\n",
       "    .dataframe tbody tr th:only-of-type {\n",
       "        vertical-align: middle;\n",
       "    }\n",
       "\n",
       "    .dataframe tbody tr th {\n",
       "        vertical-align: top;\n",
       "    }\n",
       "\n",
       "    .dataframe thead th {\n",
       "        text-align: right;\n",
       "    }\n",
       "</style>\n",
       "<table border=\"1\" class=\"dataframe\">\n",
       "  <thead>\n",
       "    <tr style=\"text-align: right;\">\n",
       "      <th></th>\n",
       "      <th>Ranking</th>\n",
       "      <th>Company Name</th>\n",
       "      <th>Industry</th>\n",
       "      <th>Revenue ($)</th>\n",
       "      <th>Profit ($)</th>\n",
       "      <th>Employees</th>\n",
       "      <th>Headquarters</th>\n",
       "      <th>State-owned</th>\n",
       "    </tr>\n",
       "  </thead>\n",
       "  <tbody>\n",
       "    <tr>\n",
       "      <th>44</th>\n",
       "      <td>45</td>\n",
       "      <td>China Railway Construction Corporation</td>\n",
       "      <td>Construction</td>\n",
       "      <td>163037.0</td>\n",
       "      <td>1800.0</td>\n",
       "      <td>342098</td>\n",
       "      <td>China</td>\n",
       "      <td>NaN</td>\n",
       "    </tr>\n",
       "    <tr>\n",
       "      <th>45</th>\n",
       "      <td>46</td>\n",
       "      <td>Baowu</td>\n",
       "      <td>Steel</td>\n",
       "      <td>161698.0</td>\n",
       "      <td>2493.0</td>\n",
       "      <td>245675</td>\n",
       "      <td>China</td>\n",
       "      <td>NaN</td>\n",
       "    </tr>\n",
       "    <tr>\n",
       "      <th>47</th>\n",
       "      <td>48</td>\n",
       "      <td>Mitsubishi Group</td>\n",
       "      <td>Conglomerate</td>\n",
       "      <td>159371.0</td>\n",
       "      <td>8723.0</td>\n",
       "      <td>79706</td>\n",
       "      <td>Japan</td>\n",
       "      <td>NaN</td>\n",
       "    </tr>\n",
       "    <tr>\n",
       "      <th>48</th>\n",
       "      <td>49</td>\n",
       "      <td>Ford Motor Company</td>\n",
       "      <td>Automotive</td>\n",
       "      <td>158057.0</td>\n",
       "      <td>1981.0</td>\n",
       "      <td>173000</td>\n",
       "      <td>United States</td>\n",
       "      <td>NaN</td>\n",
       "    </tr>\n",
       "    <tr>\n",
       "      <th>49</th>\n",
       "      <td>50</td>\n",
       "      <td>Mercedes-Benz Group</td>\n",
       "      <td>Automotive</td>\n",
       "      <td>157403.0</td>\n",
       "      <td>15252.0</td>\n",
       "      <td>168797</td>\n",
       "      <td>Germany</td>\n",
       "      <td>NaN</td>\n",
       "    </tr>\n",
       "  </tbody>\n",
       "</table>\n",
       "</div>"
      ],
      "text/plain": [
       "    Ranking                            Company Name      Industry  \\\n",
       "44       45  China Railway Construction Corporation  Construction   \n",
       "45       46                                   Baowu         Steel   \n",
       "47       48                        Mitsubishi Group  Conglomerate   \n",
       "48       49                      Ford Motor Company    Automotive   \n",
       "49       50                     Mercedes-Benz Group    Automotive   \n",
       "\n",
       "    Revenue ($)  Profit ($)  Employees   Headquarters  State-owned  \n",
       "44     163037.0      1800.0     342098          China          NaN  \n",
       "45     161698.0      2493.0     245675          China          NaN  \n",
       "47     159371.0      8723.0      79706          Japan          NaN  \n",
       "48     158057.0      1981.0     173000  United States          NaN  \n",
       "49     157403.0     15252.0     168797        Germany          NaN  "
      ]
     },
     "execution_count": 37,
     "metadata": {},
     "output_type": "execute_result"
    }
   ],
   "source": [
    "company_data.tail()"
   ]
  },
  {
   "cell_type": "code",
   "execution_count": 38,
   "id": "2476c835",
   "metadata": {},
   "outputs": [
    {
     "data": {
      "text/plain": [
       "50"
      ]
     },
     "execution_count": 38,
     "metadata": {},
     "output_type": "execute_result"
    }
   ],
   "source": [
    "emp_data['Ranking'].max()"
   ]
  },
  {
   "cell_type": "markdown",
   "id": "be89f96d",
   "metadata": {},
   "source": [
    "# Grouping and Aggregating data"
   ]
  },
  {
   "cell_type": "code",
   "execution_count": null,
   "id": "4f7a5dbd",
   "metadata": {},
   "outputs": [],
   "source": [
    "#Under Understanding Group\n",
    "#detailed usage \n",
    "#and examples, including splitting an object into groups, \n",
    "#iterating through groups, selecting a group, aggregation, and more.\n",
    "#example 1: df = pd.DataFrame({'Animal': ['Falcon', 'Falcon','Parrot', 'Parrot'],'Max Speed': [380., 370., 24., 26.]})\n",
    "#df.groupby(['Animal']).mean() Max Speed"
   ]
  },
  {
   "cell_type": "code",
   "execution_count": 44,
   "id": "84719ad8",
   "metadata": {},
   "outputs": [
    {
     "data": {
      "text/plain": [
       "<pandas.core.groupby.generic.DataFrameGroupBy object at 0x00000145D3901510>"
      ]
     },
     "execution_count": 44,
     "metadata": {},
     "output_type": "execute_result"
    }
   ],
   "source": [
    "company_data.groupby(\"Industry\")"
   ]
  },
  {
   "cell_type": "code",
   "execution_count": 45,
   "id": "b6bb7ad9",
   "metadata": {},
   "outputs": [],
   "source": [
    "by_industry = company_data.groupby(\"Industry\")"
   ]
  },
  {
   "cell_type": "code",
   "execution_count": 51,
   "id": "af2ef356",
   "metadata": {},
   "outputs": [
    {
     "data": {
      "text/html": [
       "<div>\n",
       "<style scoped>\n",
       "    .dataframe tbody tr th:only-of-type {\n",
       "        vertical-align: middle;\n",
       "    }\n",
       "\n",
       "    .dataframe tbody tr th {\n",
       "        vertical-align: top;\n",
       "    }\n",
       "\n",
       "    .dataframe thead th {\n",
       "        text-align: right;\n",
       "    }\n",
       "</style>\n",
       "<table border=\"1\" class=\"dataframe\">\n",
       "  <thead>\n",
       "    <tr style=\"text-align: right;\">\n",
       "      <th></th>\n",
       "      <th>Ranking</th>\n",
       "      <th>Company Name</th>\n",
       "      <th>Industry</th>\n",
       "      <th>Revenue ($)</th>\n",
       "      <th>Profit ($)</th>\n",
       "      <th>Employees</th>\n",
       "      <th>Headquarters</th>\n",
       "      <th>State-owned</th>\n",
       "    </tr>\n",
       "  </thead>\n",
       "  <tbody>\n",
       "    <tr>\n",
       "      <th>1</th>\n",
       "      <td>2</td>\n",
       "      <td>Saudi Aramco</td>\n",
       "      <td>Oil and gas</td>\n",
       "      <td>603651.0</td>\n",
       "      <td>159069.0</td>\n",
       "      <td>70496</td>\n",
       "      <td>Saudi Arabia</td>\n",
       "      <td>NaN</td>\n",
       "    </tr>\n",
       "    <tr>\n",
       "      <th>5</th>\n",
       "      <td>6</td>\n",
       "      <td>China National Petroleum Corporation</td>\n",
       "      <td>Oil and gas</td>\n",
       "      <td>483019.0</td>\n",
       "      <td>21080.0</td>\n",
       "      <td>1087049</td>\n",
       "      <td>China</td>\n",
       "      <td>NaN</td>\n",
       "    </tr>\n",
       "    <tr>\n",
       "      <th>6</th>\n",
       "      <td>7</td>\n",
       "      <td>China Petrochemical Corporation</td>\n",
       "      <td>Oil and gas</td>\n",
       "      <td>471154.0</td>\n",
       "      <td>9657.0</td>\n",
       "      <td>527487</td>\n",
       "      <td>China</td>\n",
       "      <td>NaN</td>\n",
       "    </tr>\n",
       "    <tr>\n",
       "      <th>7</th>\n",
       "      <td>8</td>\n",
       "      <td>ExxonMobil</td>\n",
       "      <td>Oil and gas</td>\n",
       "      <td>413680.0</td>\n",
       "      <td>55740.0</td>\n",
       "      <td>63000</td>\n",
       "      <td>United States</td>\n",
       "      <td>NaN</td>\n",
       "    </tr>\n",
       "    <tr>\n",
       "      <th>9</th>\n",
       "      <td>10</td>\n",
       "      <td>Shell</td>\n",
       "      <td>Oil and gas</td>\n",
       "      <td>386201.0</td>\n",
       "      <td>20120.0</td>\n",
       "      <td>93000</td>\n",
       "      <td>United Kingdom</td>\n",
       "      <td>NaN</td>\n",
       "    </tr>\n",
       "    <tr>\n",
       "      <th>20</th>\n",
       "      <td>21</td>\n",
       "      <td>TotalEnergies</td>\n",
       "      <td>Oil and gas</td>\n",
       "      <td>263310.0</td>\n",
       "      <td>20526.0</td>\n",
       "      <td>101279</td>\n",
       "      <td>France</td>\n",
       "      <td>NaN</td>\n",
       "    </tr>\n",
       "    <tr>\n",
       "      <th>22</th>\n",
       "      <td>23</td>\n",
       "      <td>BP</td>\n",
       "      <td>Oil and gas</td>\n",
       "      <td>248891.0</td>\n",
       "      <td>2487.0</td>\n",
       "      <td>67600</td>\n",
       "      <td>United Kingdom</td>\n",
       "      <td>NaN</td>\n",
       "    </tr>\n",
       "    <tr>\n",
       "      <th>23</th>\n",
       "      <td>24</td>\n",
       "      <td>Chevron</td>\n",
       "      <td>Oil and gas</td>\n",
       "      <td>246252.0</td>\n",
       "      <td>35465.0</td>\n",
       "      <td>43846</td>\n",
       "      <td>United States</td>\n",
       "      <td>NaN</td>\n",
       "    </tr>\n",
       "    <tr>\n",
       "      <th>36</th>\n",
       "      <td>37</td>\n",
       "      <td>Marathon Petroleum</td>\n",
       "      <td>Oil and gas</td>\n",
       "      <td>180012.0</td>\n",
       "      <td>14516.0</td>\n",
       "      <td>17800</td>\n",
       "      <td>United States</td>\n",
       "      <td>NaN</td>\n",
       "    </tr>\n",
       "    <tr>\n",
       "      <th>37</th>\n",
       "      <td>38</td>\n",
       "      <td>Phillips 66</td>\n",
       "      <td>Oil and gas</td>\n",
       "      <td>175702.0</td>\n",
       "      <td>11024.0</td>\n",
       "      <td>13000</td>\n",
       "      <td>United States</td>\n",
       "      <td>NaN</td>\n",
       "    </tr>\n",
       "    <tr>\n",
       "      <th>40</th>\n",
       "      <td>41</td>\n",
       "      <td>Valero Energy</td>\n",
       "      <td>Oil and gas</td>\n",
       "      <td>171189.0</td>\n",
       "      <td>11528.0</td>\n",
       "      <td>9743</td>\n",
       "      <td>United States</td>\n",
       "      <td>NaN</td>\n",
       "    </tr>\n",
       "    <tr>\n",
       "      <th>41</th>\n",
       "      <td>42</td>\n",
       "      <td>Gazprom</td>\n",
       "      <td>Oil and gas</td>\n",
       "      <td>167832.0</td>\n",
       "      <td>17641.0</td>\n",
       "      <td>468000</td>\n",
       "      <td>Russia</td>\n",
       "      <td>NaN</td>\n",
       "    </tr>\n",
       "    <tr>\n",
       "      <th>43</th>\n",
       "      <td>44</td>\n",
       "      <td>China National Offshore Oil Corporation</td>\n",
       "      <td>Oil and gas</td>\n",
       "      <td>164762.0</td>\n",
       "      <td>16988.0</td>\n",
       "      <td>81775</td>\n",
       "      <td>China</td>\n",
       "      <td>NaN</td>\n",
       "    </tr>\n",
       "  </tbody>\n",
       "</table>\n",
       "</div>"
      ],
      "text/plain": [
       "    Ranking                             Company Name     Industry  \\\n",
       "1         2                             Saudi Aramco  Oil and gas   \n",
       "5         6     China National Petroleum Corporation  Oil and gas   \n",
       "6         7          China Petrochemical Corporation  Oil and gas   \n",
       "7         8                               ExxonMobil  Oil and gas   \n",
       "9        10                                    Shell  Oil and gas   \n",
       "20       21                            TotalEnergies  Oil and gas   \n",
       "22       23                                       BP  Oil and gas   \n",
       "23       24                                  Chevron  Oil and gas   \n",
       "36       37                       Marathon Petroleum  Oil and gas   \n",
       "37       38                              Phillips 66  Oil and gas   \n",
       "40       41                            Valero Energy  Oil and gas   \n",
       "41       42                                  Gazprom  Oil and gas   \n",
       "43       44  China National Offshore Oil Corporation  Oil and gas   \n",
       "\n",
       "    Revenue ($)  Profit ($)  Employees    Headquarters  State-owned  \n",
       "1      603651.0    159069.0      70496    Saudi Arabia          NaN  \n",
       "5      483019.0     21080.0    1087049           China          NaN  \n",
       "6      471154.0      9657.0     527487           China          NaN  \n",
       "7      413680.0     55740.0      63000   United States          NaN  \n",
       "9      386201.0     20120.0      93000  United Kingdom          NaN  \n",
       "20     263310.0     20526.0     101279          France          NaN  \n",
       "22     248891.0      2487.0      67600  United Kingdom          NaN  \n",
       "23     246252.0     35465.0      43846   United States          NaN  \n",
       "36     180012.0     14516.0      17800   United States          NaN  \n",
       "37     175702.0     11024.0      13000   United States          NaN  \n",
       "40     171189.0     11528.0       9743   United States          NaN  \n",
       "41     167832.0     17641.0     468000          Russia          NaN  \n",
       "43     164762.0     16988.0      81775           China          NaN  "
      ]
     },
     "execution_count": 51,
     "metadata": {},
     "output_type": "execute_result"
    }
   ],
   "source": [
    "by_industry.groups['Oil and gas']\n",
    "by_industry.get_group('Oil and gas')"
   ]
  },
  {
   "cell_type": "markdown",
   "id": "7f9680d6",
   "metadata": {},
   "source": [
    "# MISSING VALUE & DATA"
   ]
  },
  {
   "cell_type": "code",
   "execution_count": 40,
   "id": "dc42c6f6",
   "metadata": {},
   "outputs": [],
   "source": [
    "titanic = pd.read_csv ('titanic.csv')"
   ]
  },
  {
   "cell_type": "code",
   "execution_count": 52,
   "id": "868f94fa",
   "metadata": {},
   "outputs": [
    {
     "data": {
      "text/html": [
       "<div>\n",
       "<style scoped>\n",
       "    .dataframe tbody tr th:only-of-type {\n",
       "        vertical-align: middle;\n",
       "    }\n",
       "\n",
       "    .dataframe tbody tr th {\n",
       "        vertical-align: top;\n",
       "    }\n",
       "\n",
       "    .dataframe thead th {\n",
       "        text-align: right;\n",
       "    }\n",
       "</style>\n",
       "<table border=\"1\" class=\"dataframe\">\n",
       "  <thead>\n",
       "    <tr style=\"text-align: right;\">\n",
       "      <th></th>\n",
       "      <th>PassengerId</th>\n",
       "      <th>Survived</th>\n",
       "      <th>Pclass</th>\n",
       "      <th>Name</th>\n",
       "      <th>Sex</th>\n",
       "      <th>Age</th>\n",
       "      <th>SibSp</th>\n",
       "      <th>Parch</th>\n",
       "      <th>Ticket</th>\n",
       "      <th>Fare</th>\n",
       "      <th>Cabin</th>\n",
       "      <th>Embarked</th>\n",
       "    </tr>\n",
       "  </thead>\n",
       "  <tbody>\n",
       "    <tr>\n",
       "      <th>0</th>\n",
       "      <td>1</td>\n",
       "      <td>0</td>\n",
       "      <td>3</td>\n",
       "      <td>Braund, Mr. Owen Harris</td>\n",
       "      <td>male</td>\n",
       "      <td>22.0</td>\n",
       "      <td>1</td>\n",
       "      <td>0</td>\n",
       "      <td>A/5 21171</td>\n",
       "      <td>7.2500</td>\n",
       "      <td>NaN</td>\n",
       "      <td>S</td>\n",
       "    </tr>\n",
       "    <tr>\n",
       "      <th>1</th>\n",
       "      <td>2</td>\n",
       "      <td>1</td>\n",
       "      <td>1</td>\n",
       "      <td>Cumings, Mrs. John Bradley (Florence Briggs Th...</td>\n",
       "      <td>female</td>\n",
       "      <td>38.0</td>\n",
       "      <td>1</td>\n",
       "      <td>0</td>\n",
       "      <td>PC 17599</td>\n",
       "      <td>71.2833</td>\n",
       "      <td>C85</td>\n",
       "      <td>C</td>\n",
       "    </tr>\n",
       "    <tr>\n",
       "      <th>2</th>\n",
       "      <td>3</td>\n",
       "      <td>1</td>\n",
       "      <td>3</td>\n",
       "      <td>Heikkinen, Miss. Laina</td>\n",
       "      <td>female</td>\n",
       "      <td>26.0</td>\n",
       "      <td>0</td>\n",
       "      <td>0</td>\n",
       "      <td>STON/O2. 3101282</td>\n",
       "      <td>7.9250</td>\n",
       "      <td>NaN</td>\n",
       "      <td>S</td>\n",
       "    </tr>\n",
       "    <tr>\n",
       "      <th>3</th>\n",
       "      <td>4</td>\n",
       "      <td>1</td>\n",
       "      <td>1</td>\n",
       "      <td>Futrelle, Mrs. Jacques Heath (Lily May Peel)</td>\n",
       "      <td>female</td>\n",
       "      <td>35.0</td>\n",
       "      <td>1</td>\n",
       "      <td>0</td>\n",
       "      <td>113803</td>\n",
       "      <td>53.1000</td>\n",
       "      <td>C123</td>\n",
       "      <td>S</td>\n",
       "    </tr>\n",
       "    <tr>\n",
       "      <th>4</th>\n",
       "      <td>5</td>\n",
       "      <td>0</td>\n",
       "      <td>3</td>\n",
       "      <td>Allen, Mr. William Henry</td>\n",
       "      <td>male</td>\n",
       "      <td>35.0</td>\n",
       "      <td>0</td>\n",
       "      <td>0</td>\n",
       "      <td>373450</td>\n",
       "      <td>8.0500</td>\n",
       "      <td>NaN</td>\n",
       "      <td>S</td>\n",
       "    </tr>\n",
       "  </tbody>\n",
       "</table>\n",
       "</div>"
      ],
      "text/plain": [
       "   PassengerId  Survived  Pclass  \\\n",
       "0            1         0       3   \n",
       "1            2         1       1   \n",
       "2            3         1       3   \n",
       "3            4         1       1   \n",
       "4            5         0       3   \n",
       "\n",
       "                                                Name     Sex   Age  SibSp  \\\n",
       "0                            Braund, Mr. Owen Harris    male  22.0      1   \n",
       "1  Cumings, Mrs. John Bradley (Florence Briggs Th...  female  38.0      1   \n",
       "2                             Heikkinen, Miss. Laina  female  26.0      0   \n",
       "3       Futrelle, Mrs. Jacques Heath (Lily May Peel)  female  35.0      1   \n",
       "4                           Allen, Mr. William Henry    male  35.0      0   \n",
       "\n",
       "   Parch            Ticket     Fare Cabin Embarked  \n",
       "0      0         A/5 21171   7.2500   NaN        S  \n",
       "1      0          PC 17599  71.2833   C85        C  \n",
       "2      0  STON/O2. 3101282   7.9250   NaN        S  \n",
       "3      0            113803  53.1000  C123        S  \n",
       "4      0            373450   8.0500   NaN        S  "
      ]
     },
     "execution_count": 52,
     "metadata": {},
     "output_type": "execute_result"
    }
   ],
   "source": [
    "titanic.head()"
   ]
  },
  {
   "cell_type": "code",
   "execution_count": 53,
   "id": "adc86bd1",
   "metadata": {},
   "outputs": [
    {
     "data": {
      "text/plain": [
       "(891, 12)"
      ]
     },
     "execution_count": 53,
     "metadata": {},
     "output_type": "execute_result"
    }
   ],
   "source": [
    "titanic.shape"
   ]
  },
  {
   "cell_type": "markdown",
   "id": "e1b0bf3c",
   "metadata": {},
   "source": [
    "# Complete Case Analysis- titanic1"
   ]
  },
  {
   "cell_type": "code",
   "execution_count": 62,
   "id": "67e92545",
   "metadata": {},
   "outputs": [],
   "source": [
    "#making a copy of Titanic data\n",
    "titanic1 = titanic.copy()"
   ]
  },
  {
   "cell_type": "code",
   "execution_count": 63,
   "id": "5c732b05",
   "metadata": {},
   "outputs": [
    {
     "data": {
      "text/plain": [
       "PassengerId      0\n",
       "Survived         0\n",
       "Pclass           0\n",
       "Name             0\n",
       "Sex              0\n",
       "Age            177\n",
       "SibSp            0\n",
       "Parch            0\n",
       "Ticket           0\n",
       "Fare             0\n",
       "Cabin          687\n",
       "Embarked         2\n",
       "dtype: int64"
      ]
     },
     "execution_count": 63,
     "metadata": {},
     "output_type": "execute_result"
    }
   ],
   "source": [
    "titanic1.isnull().sum()"
   ]
  },
  {
   "cell_type": "code",
   "execution_count": 64,
   "id": "835119da",
   "metadata": {},
   "outputs": [
    {
     "data": {
      "text/plain": [
       "Index(['PassengerId', 'Survived', 'Pclass', 'Name', 'Sex', 'Age', 'SibSp',\n",
       "       'Parch', 'Ticket', 'Fare', 'Cabin', 'Embarked'],\n",
       "      dtype='object')"
      ]
     },
     "execution_count": 64,
     "metadata": {},
     "output_type": "execute_result"
    }
   ],
   "source": [
    "titanic1.columns"
   ]
  },
  {
   "cell_type": "code",
   "execution_count": 65,
   "id": "dfe8826d",
   "metadata": {},
   "outputs": [],
   "source": [
    "#omitting columns with missing data\n",
    "titanic1 = titanic1[['PassengerId', 'Survived', 'Pclass', 'Name', 'Sex','SibSp',\n",
    "       'Parch', 'Ticket', 'Fare',]]"
   ]
  },
  {
   "cell_type": "code",
   "execution_count": 66,
   "id": "193c7e9f",
   "metadata": {},
   "outputs": [
    {
     "data": {
      "text/html": [
       "<div>\n",
       "<style scoped>\n",
       "    .dataframe tbody tr th:only-of-type {\n",
       "        vertical-align: middle;\n",
       "    }\n",
       "\n",
       "    .dataframe tbody tr th {\n",
       "        vertical-align: top;\n",
       "    }\n",
       "\n",
       "    .dataframe thead th {\n",
       "        text-align: right;\n",
       "    }\n",
       "</style>\n",
       "<table border=\"1\" class=\"dataframe\">\n",
       "  <thead>\n",
       "    <tr style=\"text-align: right;\">\n",
       "      <th></th>\n",
       "      <th>PassengerId</th>\n",
       "      <th>Survived</th>\n",
       "      <th>Pclass</th>\n",
       "      <th>Name</th>\n",
       "      <th>Sex</th>\n",
       "      <th>SibSp</th>\n",
       "      <th>Parch</th>\n",
       "      <th>Ticket</th>\n",
       "      <th>Fare</th>\n",
       "    </tr>\n",
       "  </thead>\n",
       "  <tbody>\n",
       "    <tr>\n",
       "      <th>0</th>\n",
       "      <td>1</td>\n",
       "      <td>0</td>\n",
       "      <td>3</td>\n",
       "      <td>Braund, Mr. Owen Harris</td>\n",
       "      <td>male</td>\n",
       "      <td>1</td>\n",
       "      <td>0</td>\n",
       "      <td>A/5 21171</td>\n",
       "      <td>7.2500</td>\n",
       "    </tr>\n",
       "    <tr>\n",
       "      <th>1</th>\n",
       "      <td>2</td>\n",
       "      <td>1</td>\n",
       "      <td>1</td>\n",
       "      <td>Cumings, Mrs. John Bradley (Florence Briggs Th...</td>\n",
       "      <td>female</td>\n",
       "      <td>1</td>\n",
       "      <td>0</td>\n",
       "      <td>PC 17599</td>\n",
       "      <td>71.2833</td>\n",
       "    </tr>\n",
       "    <tr>\n",
       "      <th>2</th>\n",
       "      <td>3</td>\n",
       "      <td>1</td>\n",
       "      <td>3</td>\n",
       "      <td>Heikkinen, Miss. Laina</td>\n",
       "      <td>female</td>\n",
       "      <td>0</td>\n",
       "      <td>0</td>\n",
       "      <td>STON/O2. 3101282</td>\n",
       "      <td>7.9250</td>\n",
       "    </tr>\n",
       "    <tr>\n",
       "      <th>3</th>\n",
       "      <td>4</td>\n",
       "      <td>1</td>\n",
       "      <td>1</td>\n",
       "      <td>Futrelle, Mrs. Jacques Heath (Lily May Peel)</td>\n",
       "      <td>female</td>\n",
       "      <td>1</td>\n",
       "      <td>0</td>\n",
       "      <td>113803</td>\n",
       "      <td>53.1000</td>\n",
       "    </tr>\n",
       "    <tr>\n",
       "      <th>4</th>\n",
       "      <td>5</td>\n",
       "      <td>0</td>\n",
       "      <td>3</td>\n",
       "      <td>Allen, Mr. William Henry</td>\n",
       "      <td>male</td>\n",
       "      <td>0</td>\n",
       "      <td>0</td>\n",
       "      <td>373450</td>\n",
       "      <td>8.0500</td>\n",
       "    </tr>\n",
       "  </tbody>\n",
       "</table>\n",
       "</div>"
      ],
      "text/plain": [
       "   PassengerId  Survived  Pclass  \\\n",
       "0            1         0       3   \n",
       "1            2         1       1   \n",
       "2            3         1       3   \n",
       "3            4         1       1   \n",
       "4            5         0       3   \n",
       "\n",
       "                                                Name     Sex  SibSp  Parch  \\\n",
       "0                            Braund, Mr. Owen Harris    male      1      0   \n",
       "1  Cumings, Mrs. John Bradley (Florence Briggs Th...  female      1      0   \n",
       "2                             Heikkinen, Miss. Laina  female      0      0   \n",
       "3       Futrelle, Mrs. Jacques Heath (Lily May Peel)  female      1      0   \n",
       "4                           Allen, Mr. William Henry    male      0      0   \n",
       "\n",
       "             Ticket     Fare  \n",
       "0         A/5 21171   7.2500  \n",
       "1          PC 17599  71.2833  \n",
       "2  STON/O2. 3101282   7.9250  \n",
       "3            113803  53.1000  \n",
       "4            373450   8.0500  "
      ]
     },
     "execution_count": 66,
     "metadata": {},
     "output_type": "execute_result"
    }
   ],
   "source": [
    "titanic1.head()"
   ]
  },
  {
   "cell_type": "markdown",
   "id": "40c3185d",
   "metadata": {},
   "source": [
    "# Available case Analysis - titanic"
   ]
  },
  {
   "cell_type": "code",
   "execution_count": 67,
   "id": "599327cd",
   "metadata": {},
   "outputs": [
    {
     "data": {
      "text/plain": [
       "PassengerId      0\n",
       "Survived         0\n",
       "Pclass           0\n",
       "Name             0\n",
       "Sex              0\n",
       "Age            177\n",
       "SibSp            0\n",
       "Parch            0\n",
       "Ticket           0\n",
       "Fare             0\n",
       "Cabin          687\n",
       "Embarked         2\n",
       "dtype: int64"
      ]
     },
     "execution_count": 67,
     "metadata": {},
     "output_type": "execute_result"
    }
   ],
   "source": [
    "#Ignoring the missing data and reporting that we ignored them.\n",
    "titanic.isna().sum()"
   ]
  },
  {
   "cell_type": "markdown",
   "id": "cd925a7a",
   "metadata": {},
   "source": [
    "# Dropping the variables -titanic2"
   ]
  },
  {
   "cell_type": "code",
   "execution_count": 68,
   "id": "f2f232c4",
   "metadata": {},
   "outputs": [],
   "source": [
    "#dropping missing data\n",
    "titanic2 = titanic.copy()"
   ]
  },
  {
   "cell_type": "code",
   "execution_count": 70,
   "id": "796f4732",
   "metadata": {},
   "outputs": [],
   "source": [
    "#dropping cabin column\n",
    "titanic2.drop(columns = 'Cabin', axis = 1, inplace = True)"
   ]
  },
  {
   "cell_type": "code",
   "execution_count": 71,
   "id": "af785b0b",
   "metadata": {},
   "outputs": [
    {
     "data": {
      "text/html": [
       "<div>\n",
       "<style scoped>\n",
       "    .dataframe tbody tr th:only-of-type {\n",
       "        vertical-align: middle;\n",
       "    }\n",
       "\n",
       "    .dataframe tbody tr th {\n",
       "        vertical-align: top;\n",
       "    }\n",
       "\n",
       "    .dataframe thead th {\n",
       "        text-align: right;\n",
       "    }\n",
       "</style>\n",
       "<table border=\"1\" class=\"dataframe\">\n",
       "  <thead>\n",
       "    <tr style=\"text-align: right;\">\n",
       "      <th></th>\n",
       "      <th>PassengerId</th>\n",
       "      <th>Survived</th>\n",
       "      <th>Pclass</th>\n",
       "      <th>Name</th>\n",
       "      <th>Sex</th>\n",
       "      <th>Age</th>\n",
       "      <th>SibSp</th>\n",
       "      <th>Parch</th>\n",
       "      <th>Ticket</th>\n",
       "      <th>Fare</th>\n",
       "      <th>Embarked</th>\n",
       "    </tr>\n",
       "  </thead>\n",
       "  <tbody>\n",
       "    <tr>\n",
       "      <th>0</th>\n",
       "      <td>1</td>\n",
       "      <td>0</td>\n",
       "      <td>3</td>\n",
       "      <td>Braund, Mr. Owen Harris</td>\n",
       "      <td>male</td>\n",
       "      <td>22.0</td>\n",
       "      <td>1</td>\n",
       "      <td>0</td>\n",
       "      <td>A/5 21171</td>\n",
       "      <td>7.2500</td>\n",
       "      <td>S</td>\n",
       "    </tr>\n",
       "    <tr>\n",
       "      <th>1</th>\n",
       "      <td>2</td>\n",
       "      <td>1</td>\n",
       "      <td>1</td>\n",
       "      <td>Cumings, Mrs. John Bradley (Florence Briggs Th...</td>\n",
       "      <td>female</td>\n",
       "      <td>38.0</td>\n",
       "      <td>1</td>\n",
       "      <td>0</td>\n",
       "      <td>PC 17599</td>\n",
       "      <td>71.2833</td>\n",
       "      <td>C</td>\n",
       "    </tr>\n",
       "    <tr>\n",
       "      <th>2</th>\n",
       "      <td>3</td>\n",
       "      <td>1</td>\n",
       "      <td>3</td>\n",
       "      <td>Heikkinen, Miss. Laina</td>\n",
       "      <td>female</td>\n",
       "      <td>26.0</td>\n",
       "      <td>0</td>\n",
       "      <td>0</td>\n",
       "      <td>STON/O2. 3101282</td>\n",
       "      <td>7.9250</td>\n",
       "      <td>S</td>\n",
       "    </tr>\n",
       "    <tr>\n",
       "      <th>3</th>\n",
       "      <td>4</td>\n",
       "      <td>1</td>\n",
       "      <td>1</td>\n",
       "      <td>Futrelle, Mrs. Jacques Heath (Lily May Peel)</td>\n",
       "      <td>female</td>\n",
       "      <td>35.0</td>\n",
       "      <td>1</td>\n",
       "      <td>0</td>\n",
       "      <td>113803</td>\n",
       "      <td>53.1000</td>\n",
       "      <td>S</td>\n",
       "    </tr>\n",
       "    <tr>\n",
       "      <th>4</th>\n",
       "      <td>5</td>\n",
       "      <td>0</td>\n",
       "      <td>3</td>\n",
       "      <td>Allen, Mr. William Henry</td>\n",
       "      <td>male</td>\n",
       "      <td>35.0</td>\n",
       "      <td>0</td>\n",
       "      <td>0</td>\n",
       "      <td>373450</td>\n",
       "      <td>8.0500</td>\n",
       "      <td>S</td>\n",
       "    </tr>\n",
       "  </tbody>\n",
       "</table>\n",
       "</div>"
      ],
      "text/plain": [
       "   PassengerId  Survived  Pclass  \\\n",
       "0            1         0       3   \n",
       "1            2         1       1   \n",
       "2            3         1       3   \n",
       "3            4         1       1   \n",
       "4            5         0       3   \n",
       "\n",
       "                                                Name     Sex   Age  SibSp  \\\n",
       "0                            Braund, Mr. Owen Harris    male  22.0      1   \n",
       "1  Cumings, Mrs. John Bradley (Florence Briggs Th...  female  38.0      1   \n",
       "2                             Heikkinen, Miss. Laina  female  26.0      0   \n",
       "3       Futrelle, Mrs. Jacques Heath (Lily May Peel)  female  35.0      1   \n",
       "4                           Allen, Mr. William Henry    male  35.0      0   \n",
       "\n",
       "   Parch            Ticket     Fare Embarked  \n",
       "0      0         A/5 21171   7.2500        S  \n",
       "1      0          PC 17599  71.2833        C  \n",
       "2      0  STON/O2. 3101282   7.9250        S  \n",
       "3      0            113803  53.1000        S  \n",
       "4      0            373450   8.0500        S  "
      ]
     },
     "execution_count": 71,
     "metadata": {},
     "output_type": "execute_result"
    }
   ],
   "source": [
    "titanic2.head()"
   ]
  },
  {
   "cell_type": "markdown",
   "id": "0d767c0e",
   "metadata": {},
   "source": [
    "# DATA IMPUTATION"
   ]
  },
  {
   "cell_type": "code",
   "execution_count": 72,
   "id": "68f1ff36",
   "metadata": {},
   "outputs": [],
   "source": [
    "#make a copy\n",
    "titanic3 = titanic.copy()"
   ]
  },
  {
   "cell_type": "code",
   "execution_count": 73,
   "id": "8431d683",
   "metadata": {},
   "outputs": [
    {
     "data": {
      "text/plain": [
       "PassengerId      0\n",
       "Survived         0\n",
       "Pclass           0\n",
       "Name             0\n",
       "Sex              0\n",
       "Age            177\n",
       "SibSp            0\n",
       "Parch            0\n",
       "Ticket           0\n",
       "Fare             0\n",
       "Cabin          687\n",
       "Embarked         2\n",
       "dtype: int64"
      ]
     },
     "execution_count": 73,
     "metadata": {},
     "output_type": "execute_result"
    }
   ],
   "source": [
    "titanic3.isnull().sum()"
   ]
  },
  {
   "cell_type": "code",
   "execution_count": 74,
   "id": "bb622257",
   "metadata": {},
   "outputs": [
    {
     "data": {
      "text/plain": [
       "dtype('float64')"
      ]
     },
     "execution_count": 74,
     "metadata": {},
     "output_type": "execute_result"
    }
   ],
   "source": [
    "titanic3['Age'].dtypes"
   ]
  },
  {
   "cell_type": "code",
   "execution_count": 75,
   "id": "f084dea6",
   "metadata": {},
   "outputs": [
    {
     "data": {
      "text/plain": [
       "29.69911764705882"
      ]
     },
     "execution_count": 75,
     "metadata": {},
     "output_type": "execute_result"
    }
   ],
   "source": [
    "mean_age = titanic3.Age.mean()\n",
    "mean_age"
   ]
  },
  {
   "cell_type": "code",
   "execution_count": 76,
   "id": "1df18967",
   "metadata": {},
   "outputs": [
    {
     "data": {
      "text/plain": [
       "28.0"
      ]
     },
     "execution_count": 76,
     "metadata": {},
     "output_type": "execute_result"
    }
   ],
   "source": [
    "median_age = titanic3.Age.median()\n",
    "median_age"
   ]
  },
  {
   "cell_type": "code",
   "execution_count": 78,
   "id": "03df75d7",
   "metadata": {},
   "outputs": [
    {
     "data": {
      "text/plain": [
       "0    24.0\n",
       "Name: Age, dtype: float64"
      ]
     },
     "execution_count": 78,
     "metadata": {},
     "output_type": "execute_result"
    }
   ],
   "source": [
    "mode_age = titanic3.Age.mode()\n",
    "mode_age"
   ]
  },
  {
   "cell_type": "code",
   "execution_count": 80,
   "id": "39a044c8",
   "metadata": {},
   "outputs": [
    {
     "data": {
      "text/plain": [
       "24.0"
      ]
     },
     "execution_count": 80,
     "metadata": {},
     "output_type": "execute_result"
    }
   ],
   "source": [
    "mode_age = mode_age.mean()\n",
    "mode_age"
   ]
  },
  {
   "cell_type": "code",
   "execution_count": 81,
   "id": "6b682a2f",
   "metadata": {},
   "outputs": [
    {
     "data": {
      "text/plain": [
       "0     22.0\n",
       "1     38.0\n",
       "2     26.0\n",
       "3     35.0\n",
       "4     35.0\n",
       "5      NaN\n",
       "6     54.0\n",
       "7      2.0\n",
       "8     27.0\n",
       "9     14.0\n",
       "10     4.0\n",
       "11    58.0\n",
       "12    20.0\n",
       "13    39.0\n",
       "14    14.0\n",
       "15    55.0\n",
       "16     2.0\n",
       "17     NaN\n",
       "18    31.0\n",
       "19     NaN\n",
       "Name: Age, dtype: float64"
      ]
     },
     "execution_count": 81,
     "metadata": {},
     "output_type": "execute_result"
    }
   ],
   "source": [
    "titanic3['Age'].head(20)"
   ]
  },
  {
   "cell_type": "code",
   "execution_count": 85,
   "id": "42569eb4",
   "metadata": {},
   "outputs": [
    {
     "data": {
      "text/plain": [
       "0    22.0\n",
       "1    38.0\n",
       "2    26.0\n",
       "3    35.0\n",
       "4    35.0\n",
       "Name: Age, dtype: float64"
      ]
     },
     "execution_count": 85,
     "metadata": {},
     "output_type": "execute_result"
    }
   ],
   "source": [
    "#pandas method for filling values\n",
    "titanic3['Age'].fillna(value = mean_age).head()"
   ]
  },
  {
   "cell_type": "code",
   "execution_count": 86,
   "id": "c21721e3",
   "metadata": {},
   "outputs": [
    {
     "data": {
      "text/plain": [
       "0    22.0\n",
       "1    38.0\n",
       "2    26.0\n",
       "3    35.0\n",
       "4    35.0\n",
       "Name: Age, dtype: float64"
      ]
     },
     "execution_count": 86,
     "metadata": {},
     "output_type": "execute_result"
    }
   ],
   "source": [
    "#using mode\n",
    "titanic3['Age'].fillna(value = mode_age).head()"
   ]
  },
  {
   "cell_type": "code",
   "execution_count": 87,
   "id": "8215b116",
   "metadata": {},
   "outputs": [
    {
     "data": {
      "text/plain": [
       "0    22.0\n",
       "1    38.0\n",
       "2    26.0\n",
       "3    35.0\n",
       "4    35.0\n",
       "Name: Age, dtype: float64"
      ]
     },
     "execution_count": 87,
     "metadata": {},
     "output_type": "execute_result"
    }
   ],
   "source": [
    "#using median\n",
    "titanic3['Age'].fillna(value = median_age).head()"
   ]
  },
  {
   "cell_type": "markdown",
   "id": "002a9c9d",
   "metadata": {},
   "source": [
    "# IMPUTATION: RETAIN ALL DATA FOR ANALYSIS (LOCF & NOCB)"
   ]
  },
  {
   "cell_type": "markdown",
   "id": "8a431909",
   "metadata": {},
   "source": [
    "Last Observation Carried Forward (LOCF)"
   ]
  },
  {
   "cell_type": "code",
   "execution_count": 89,
   "id": "4c1fd412",
   "metadata": {},
   "outputs": [
    {
     "data": {
      "text/plain": [
       "0    22.0\n",
       "1    38.0\n",
       "2    26.0\n",
       "3    35.0\n",
       "4    35.0\n",
       "5     NaN\n",
       "6    54.0\n",
       "7     2.0\n",
       "8    27.0\n",
       "9    14.0\n",
       "Name: Age, dtype: float64"
      ]
     },
     "execution_count": 89,
     "metadata": {},
     "output_type": "execute_result"
    }
   ],
   "source": [
    "titanic3['Age'].head(10)"
   ]
  },
  {
   "cell_type": "code",
   "execution_count": 91,
   "id": "7de8598e",
   "metadata": {},
   "outputs": [
    {
     "data": {
      "text/plain": [
       "0    22.0\n",
       "1    38.0\n",
       "2    26.0\n",
       "3    35.0\n",
       "4    35.0\n",
       "5    35.0\n",
       "6    54.0\n",
       "7     2.0\n",
       "8    27.0\n",
       "9    14.0\n",
       "Name: Age, dtype: float64"
      ]
     },
     "execution_count": 91,
     "metadata": {},
     "output_type": "execute_result"
    }
   ],
   "source": [
    "titanic3.Age.ffill().head(10)"
   ]
  },
  {
   "cell_type": "markdown",
   "id": "a5490528",
   "metadata": {},
   "source": [
    "Next Observation Carried Backward (NOCB)"
   ]
  },
  {
   "cell_type": "code",
   "execution_count": 93,
   "id": "3c83e587",
   "metadata": {},
   "outputs": [
    {
     "data": {
      "text/plain": [
       "0    22.0\n",
       "1    38.0\n",
       "2    26.0\n",
       "3    35.0\n",
       "4    35.0\n",
       "5    54.0\n",
       "6    54.0\n",
       "7     2.0\n",
       "8    27.0\n",
       "9    14.0\n",
       "Name: Age, dtype: float64"
      ]
     },
     "execution_count": 93,
     "metadata": {},
     "output_type": "execute_result"
    }
   ],
   "source": [
    "titanic3.Age.bfill().head(10)"
   ]
  },
  {
   "cell_type": "markdown",
   "id": "073c903f",
   "metadata": {},
   "source": [
    "# DATA IMPUTATION: LINEAR INTERPOLATION & ARBITARY VALUES"
   ]
  },
  {
   "cell_type": "code",
   "execution_count": 95,
   "id": "c1dbefc2",
   "metadata": {},
   "outputs": [],
   "source": [
    "#import numerical python package\n",
    "import numpy as np"
   ]
  },
  {
   "cell_type": "code",
   "execution_count": 106,
   "id": "bf680d2d",
   "metadata": {},
   "outputs": [
    {
     "name": "stdout",
     "output_type": "stream",
     "text": [
      "0    0.0\n",
      "1    1.0\n",
      "2    NaN\n",
      "3    3.0\n",
      "dtype: float64\n"
     ]
    }
   ],
   "source": [
    "import pandas as pd\n",
    "\n",
    "# Creating a series with missing values\n",
    "S = pd.Series([0, 1, np.nan, 3])\n",
    "print(S)"
   ]
  },
  {
   "cell_type": "code",
   "execution_count": 113,
   "id": "57f1aafb",
   "metadata": {},
   "outputs": [
    {
     "name": "stdout",
     "output_type": "stream",
     "text": [
      "0    0.0\n",
      "1    1.0\n",
      "2    2.0\n",
      "3    3.0\n",
      "dtype: float64\n"
     ]
    }
   ],
   "source": [
    "# Perform linear interpolation to fill missing values\n",
    "S_interpolated = S.interpolate(method='linear')\n",
    "\n",
    "print(S_interpolated)"
   ]
  },
  {
   "cell_type": "markdown",
   "id": "cfd10417",
   "metadata": {},
   "source": [
    "Arbitary Value Imputation"
   ]
  },
  {
   "cell_type": "code",
   "execution_count": 116,
   "id": "3a981ae8",
   "metadata": {},
   "outputs": [
    {
     "data": {
      "text/plain": [
       "881     33.0\n",
       "882     22.0\n",
       "883     28.0\n",
       "884     25.0\n",
       "885     39.0\n",
       "886     27.0\n",
       "887     19.0\n",
       "888   -999.0\n",
       "889     26.0\n",
       "890     32.0\n",
       "Name: Age, dtype: float64"
      ]
     },
     "execution_count": 116,
     "metadata": {},
     "output_type": "execute_result"
    }
   ],
   "source": [
    "titanic3['Age'].fillna(-999).tail(10)"
   ]
  },
  {
   "cell_type": "markdown",
   "id": "d0990016",
   "metadata": {},
   "source": [
    "# OUTLIERS"
   ]
  },
  {
   "cell_type": "code",
   "execution_count": 117,
   "id": "e20eb58f",
   "metadata": {},
   "outputs": [
    {
     "data": {
      "text/plain": [
       "30000.0"
      ]
     },
     "execution_count": 117,
     "metadata": {},
     "output_type": "execute_result"
    }
   ],
   "source": [
    "salary = [23000, 27000, 35000,26000,39000]\n",
    "#finding the average\n",
    "np.mean(salary)"
   ]
  },
  {
   "cell_type": "code",
   "execution_count": 118,
   "id": "85467544",
   "metadata": {},
   "outputs": [
    {
     "data": {
      "text/plain": [
       "191666.66666666666"
      ]
     },
     "execution_count": 118,
     "metadata": {},
     "output_type": "execute_result"
    }
   ],
   "source": [
    "salary = [23000, 27000, 35000,26000,39000,1000000]\n",
    "#finding the average\n",
    "np.mean(salary)"
   ]
  },
  {
   "cell_type": "markdown",
   "id": "d470df22",
   "metadata": {},
   "source": [
    "Detecting Outliers"
   ]
  },
  {
   "cell_type": "code",
   "execution_count": 119,
   "id": "1ba0a29e",
   "metadata": {},
   "outputs": [
    {
     "data": {
      "text/html": [
       "<div>\n",
       "<style scoped>\n",
       "    .dataframe tbody tr th:only-of-type {\n",
       "        vertical-align: middle;\n",
       "    }\n",
       "\n",
       "    .dataframe tbody tr th {\n",
       "        vertical-align: top;\n",
       "    }\n",
       "\n",
       "    .dataframe thead th {\n",
       "        text-align: right;\n",
       "    }\n",
       "</style>\n",
       "<table border=\"1\" class=\"dataframe\">\n",
       "  <thead>\n",
       "    <tr style=\"text-align: right;\">\n",
       "      <th></th>\n",
       "      <th>PassengerId</th>\n",
       "      <th>Survived</th>\n",
       "      <th>Pclass</th>\n",
       "      <th>Name</th>\n",
       "      <th>Sex</th>\n",
       "      <th>Age</th>\n",
       "      <th>SibSp</th>\n",
       "      <th>Parch</th>\n",
       "      <th>Ticket</th>\n",
       "      <th>Fare</th>\n",
       "      <th>Cabin</th>\n",
       "      <th>Embarked</th>\n",
       "    </tr>\n",
       "  </thead>\n",
       "  <tbody>\n",
       "    <tr>\n",
       "      <th>0</th>\n",
       "      <td>1</td>\n",
       "      <td>0</td>\n",
       "      <td>3</td>\n",
       "      <td>Braund, Mr. Owen Harris</td>\n",
       "      <td>male</td>\n",
       "      <td>22.0</td>\n",
       "      <td>1</td>\n",
       "      <td>0</td>\n",
       "      <td>A/5 21171</td>\n",
       "      <td>7.2500</td>\n",
       "      <td>NaN</td>\n",
       "      <td>S</td>\n",
       "    </tr>\n",
       "    <tr>\n",
       "      <th>1</th>\n",
       "      <td>2</td>\n",
       "      <td>1</td>\n",
       "      <td>1</td>\n",
       "      <td>Cumings, Mrs. John Bradley (Florence Briggs Th...</td>\n",
       "      <td>female</td>\n",
       "      <td>38.0</td>\n",
       "      <td>1</td>\n",
       "      <td>0</td>\n",
       "      <td>PC 17599</td>\n",
       "      <td>71.2833</td>\n",
       "      <td>C85</td>\n",
       "      <td>C</td>\n",
       "    </tr>\n",
       "  </tbody>\n",
       "</table>\n",
       "</div>"
      ],
      "text/plain": [
       "   PassengerId  Survived  Pclass  \\\n",
       "0            1         0       3   \n",
       "1            2         1       1   \n",
       "\n",
       "                                                Name     Sex   Age  SibSp  \\\n",
       "0                            Braund, Mr. Owen Harris    male  22.0      1   \n",
       "1  Cumings, Mrs. John Bradley (Florence Briggs Th...  female  38.0      1   \n",
       "\n",
       "   Parch     Ticket     Fare Cabin Embarked  \n",
       "0      0  A/5 21171   7.2500   NaN        S  \n",
       "1      0   PC 17599  71.2833   C85        C  "
      ]
     },
     "execution_count": 119,
     "metadata": {},
     "output_type": "execute_result"
    }
   ],
   "source": [
    "titanic.head(2)"
   ]
  },
  {
   "cell_type": "code",
   "execution_count": 121,
   "id": "8bb241d1",
   "metadata": {},
   "outputs": [
    {
     "data": {
      "text/plain": [
       "0    22.0\n",
       "1    38.0\n",
       "2    26.0\n",
       "3    35.0\n",
       "4    35.0\n",
       "Name: Age, dtype: float64"
      ]
     },
     "execution_count": 121,
     "metadata": {},
     "output_type": "execute_result"
    }
   ],
   "source": [
    "titanic['Age'].head()"
   ]
  },
  {
   "cell_type": "code",
   "execution_count": 123,
   "id": "ff974994",
   "metadata": {},
   "outputs": [
    {
     "data": {
      "image/png": "[encoded data removed]",
      "text/plain": [
       "<Figure size 640x480 with 1 Axes>"
      ]
     },
     "metadata": {},
     "output_type": "display_data"
    }
   ],
   "source": [
    "#import visualisation libararies\n",
    "import seaborn as sns\n",
    "sns.boxplot (data = titanic, x='Age');"
   ]
  },
  {
   "cell_type": "code",
   "execution_count": 124,
   "id": "1a1926f3",
   "metadata": {},
   "outputs": [
    {
     "data": {
      "text/plain": [
       "count    714.000000\n",
       "mean      29.699118\n",
       "std       14.526497\n",
       "min        0.420000\n",
       "25%       20.125000\n",
       "50%       28.000000\n",
       "75%       38.000000\n",
       "max       80.000000\n",
       "Name: Age, dtype: float64"
      ]
     },
     "execution_count": 124,
     "metadata": {},
     "output_type": "execute_result"
    }
   ],
   "source": [
    "titanic['Age'].describe()"
   ]
  },
  {
   "cell_type": "code",
   "execution_count": 125,
   "id": "de948e2c",
   "metadata": {},
   "outputs": [
    {
     "name": "stderr",
     "output_type": "stream",
     "text": [
      "C:\\Users\\RASHEEDAT\\anaconda3\\Lib\\site-packages\\seaborn\\axisgrid.py:118: UserWarning: The figure layout has changed to tight\n",
      "  self._figure.tight_layout(*args, **kwargs)\n"
     ]
    },
    {
     "data": {
      "text/plain": [
       "<seaborn.axisgrid.FacetGrid at 0x145e279e790>"
      ]
     },
     "execution_count": 125,
     "metadata": {},
     "output_type": "execute_result"
    },
    {
     "data": {
      "image/png": "[encoded data removed]",
      "text/plain": [
       "<Figure size 500x500 with 1 Axes>"
      ]
     },
     "metadata": {},
     "output_type": "display_data"
    }
   ],
   "source": [
    "sns.displot (data = titanic, x='Age', bins = 10, kde = False)"
   ]
  },
  {
   "cell_type": "code",
   "execution_count": 126,
   "id": "28e69878",
   "metadata": {},
   "outputs": [
    {
     "data": {
      "text/plain": [
       "<Axes: xlabel='Age', ylabel='Fare'>"
      ]
     },
     "execution_count": 126,
     "metadata": {},
     "output_type": "execute_result"
    },
    {
     "data": {
      "image/png": "[encoded data removed]",
      "text/plain": [
       "<Figure size 640x480 with 1 Axes>"
      ]
     },
     "metadata": {},
     "output_type": "display_data"
    }
   ],
   "source": [
    "sns.scatterplot(data = titanic, x= 'Age', y= 'Fare', hue= 'Sex')"
   ]
  },
  {
   "cell_type": "code",
   "execution_count": 127,
   "id": "3f0885b3",
   "metadata": {},
   "outputs": [
    {
     "data": {
      "text/plain": [
       "(891, 12)"
      ]
     },
     "execution_count": 127,
     "metadata": {},
     "output_type": "execute_result"
    }
   ],
   "source": [
    "titanic.shape"
   ]
  },
  {
   "cell_type": "code",
   "execution_count": 131,
   "id": "864a42da",
   "metadata": {},
   "outputs": [
    {
     "name": "stdout",
     "output_type": "stream",
     "text": [
      "Lower Limit: -6.6875\n",
      "Upper Limit: 64.8125\n"
     ]
    }
   ],
   "source": [
    "# Calculate Q1 and Q3\n",
    "Q1 = titanic['Age'].quantile(0.25)\n",
    "Q3 = titanic['Age'].quantile(0.75)\n",
    "\n",
    "# Calculate the interquartile range (IQR)\n",
    "IQR = Q3 - Q1\n",
    "\n",
    "# Calculate the lower and upper limits using Tukey's rule\n",
    "lower_limit = Q1 - 1.5 * IQR\n",
    "upper_limit = Q3 + 1.5 * IQR\n",
    "\n",
    "print(\"Lower Limit:\", lower_limit)\n",
    "print(\"Upper Limit:\", upper_limit)"
   ]
  },
  {
   "cell_type": "code",
   "execution_count": 136,
   "id": "1826a51c",
   "metadata": {},
   "outputs": [],
   "source": [
    "outlier_upper = (titanic['Age'] > upper_limit)"
   ]
  },
  {
   "cell_type": "code",
   "execution_count": 138,
   "id": "86e7354a",
   "metadata": {},
   "outputs": [
    {
     "data": {
      "text/plain": [
       "891"
      ]
     },
     "execution_count": 138,
     "metadata": {},
     "output_type": "execute_result"
    }
   ],
   "source": [
    "len(titanic['Age']- len(titanic['Age'][outlier_upper]))"
   ]
  },
  {
   "cell_type": "code",
   "execution_count": 140,
   "id": "6473fd44",
   "metadata": {},
   "outputs": [
    {
     "data": {
      "text/plain": [
       "891"
      ]
     },
     "execution_count": 140,
     "metadata": {},
     "output_type": "execute_result"
    }
   ],
   "source": [
    "outlier_lower = (titanic['Age'] > lower_limit)\n",
    "len(titanic['Age']- len(titanic['Age'][outlier_lower]))"
   ]
  },
  {
   "cell_type": "code",
   "execution_count": 141,
   "id": "e1539696",
   "metadata": {},
   "outputs": [
    {
     "data": {
      "text/plain": [
       "(880, 12)"
      ]
     },
     "execution_count": 141,
     "metadata": {},
     "output_type": "execute_result"
    }
   ],
   "source": [
    "titanic_N = titanic[-(outlier_upper)]\n",
    "titanic_N.shape"
   ]
  },
  {
   "cell_type": "code",
   "execution_count": 142,
   "id": "e9840e5c",
   "metadata": {},
   "outputs": [
    {
     "data": {
      "text/html": [
       "<div>\n",
       "<style scoped>\n",
       "    .dataframe tbody tr th:only-of-type {\n",
       "        vertical-align: middle;\n",
       "    }\n",
       "\n",
       "    .dataframe tbody tr th {\n",
       "        vertical-align: top;\n",
       "    }\n",
       "\n",
       "    .dataframe thead th {\n",
       "        text-align: right;\n",
       "    }\n",
       "</style>\n",
       "<table border=\"1\" class=\"dataframe\">\n",
       "  <thead>\n",
       "    <tr style=\"text-align: right;\">\n",
       "      <th></th>\n",
       "      <th>PassengerId</th>\n",
       "      <th>Survived</th>\n",
       "      <th>Pclass</th>\n",
       "      <th>Name</th>\n",
       "      <th>Sex</th>\n",
       "      <th>Age</th>\n",
       "      <th>SibSp</th>\n",
       "      <th>Parch</th>\n",
       "      <th>Ticket</th>\n",
       "      <th>Fare</th>\n",
       "      <th>Cabin</th>\n",
       "      <th>Embarked</th>\n",
       "    </tr>\n",
       "  </thead>\n",
       "  <tbody>\n",
       "    <tr>\n",
       "      <th>0</th>\n",
       "      <td>1</td>\n",
       "      <td>0</td>\n",
       "      <td>3</td>\n",
       "      <td>Braund, Mr. Owen Harris</td>\n",
       "      <td>male</td>\n",
       "      <td>22.0</td>\n",
       "      <td>1</td>\n",
       "      <td>0</td>\n",
       "      <td>A/5 21171</td>\n",
       "      <td>7.2500</td>\n",
       "      <td>NaN</td>\n",
       "      <td>S</td>\n",
       "    </tr>\n",
       "    <tr>\n",
       "      <th>1</th>\n",
       "      <td>2</td>\n",
       "      <td>1</td>\n",
       "      <td>1</td>\n",
       "      <td>Cumings, Mrs. John Bradley (Florence Briggs Th...</td>\n",
       "      <td>female</td>\n",
       "      <td>38.0</td>\n",
       "      <td>1</td>\n",
       "      <td>0</td>\n",
       "      <td>PC 17599</td>\n",
       "      <td>71.2833</td>\n",
       "      <td>C85</td>\n",
       "      <td>C</td>\n",
       "    </tr>\n",
       "    <tr>\n",
       "      <th>2</th>\n",
       "      <td>3</td>\n",
       "      <td>1</td>\n",
       "      <td>3</td>\n",
       "      <td>Heikkinen, Miss. Laina</td>\n",
       "      <td>female</td>\n",
       "      <td>26.0</td>\n",
       "      <td>0</td>\n",
       "      <td>0</td>\n",
       "      <td>STON/O2. 3101282</td>\n",
       "      <td>7.9250</td>\n",
       "      <td>NaN</td>\n",
       "      <td>S</td>\n",
       "    </tr>\n",
       "    <tr>\n",
       "      <th>3</th>\n",
       "      <td>4</td>\n",
       "      <td>1</td>\n",
       "      <td>1</td>\n",
       "      <td>Futrelle, Mrs. Jacques Heath (Lily May Peel)</td>\n",
       "      <td>female</td>\n",
       "      <td>35.0</td>\n",
       "      <td>1</td>\n",
       "      <td>0</td>\n",
       "      <td>113803</td>\n",
       "      <td>53.1000</td>\n",
       "      <td>C123</td>\n",
       "      <td>S</td>\n",
       "    </tr>\n",
       "    <tr>\n",
       "      <th>4</th>\n",
       "      <td>5</td>\n",
       "      <td>0</td>\n",
       "      <td>3</td>\n",
       "      <td>Allen, Mr. William Henry</td>\n",
       "      <td>male</td>\n",
       "      <td>35.0</td>\n",
       "      <td>0</td>\n",
       "      <td>0</td>\n",
       "      <td>373450</td>\n",
       "      <td>8.0500</td>\n",
       "      <td>NaN</td>\n",
       "      <td>S</td>\n",
       "    </tr>\n",
       "  </tbody>\n",
       "</table>\n",
       "</div>"
      ],
      "text/plain": [
       "   PassengerId  Survived  Pclass  \\\n",
       "0            1         0       3   \n",
       "1            2         1       1   \n",
       "2            3         1       3   \n",
       "3            4         1       1   \n",
       "4            5         0       3   \n",
       "\n",
       "                                                Name     Sex   Age  SibSp  \\\n",
       "0                            Braund, Mr. Owen Harris    male  22.0      1   \n",
       "1  Cumings, Mrs. John Bradley (Florence Briggs Th...  female  38.0      1   \n",
       "2                             Heikkinen, Miss. Laina  female  26.0      0   \n",
       "3       Futrelle, Mrs. Jacques Heath (Lily May Peel)  female  35.0      1   \n",
       "4                           Allen, Mr. William Henry    male  35.0      0   \n",
       "\n",
       "   Parch            Ticket     Fare Cabin Embarked  \n",
       "0      0         A/5 21171   7.2500   NaN        S  \n",
       "1      0          PC 17599  71.2833   C85        C  \n",
       "2      0  STON/O2. 3101282   7.9250   NaN        S  \n",
       "3      0            113803  53.1000  C123        S  \n",
       "4      0            373450   8.0500   NaN        S  "
      ]
     },
     "execution_count": 142,
     "metadata": {},
     "output_type": "execute_result"
    }
   ],
   "source": [
    "titanic_N.head()"
   ]
  },
  {
   "cell_type": "code",
   "execution_count": 144,
   "id": "d14148dd",
   "metadata": {},
   "outputs": [
    {
     "data": {
      "text/plain": [
       "33     66.0\n",
       "54     65.0\n",
       "96     71.0\n",
       "116    70.5\n",
       "280    65.0\n",
       "Name: Age, dtype: float64"
      ]
     },
     "execution_count": 144,
     "metadata": {},
     "output_type": "execute_result"
    }
   ],
   "source": [
    "titanic['Age'][outlier_upper].head()"
   ]
  },
  {
   "cell_type": "markdown",
   "id": "1a150a9b",
   "metadata": {},
   "source": [
    "The expression `titanic['Age'][outlier_upper]` will return a subset of the 'Age' column from the Titanic dataset where the values are greater than the upper limit calculated using Tukey's rule.\n",
    "\n",
    "In other words, it will select only those age values from the 'Age' column that are identified as outliers based on the upper limit calculated using Tukey's rule. This subset will contain only the age values that exceed the upper limit, effectively isolating the outliers in the 'Age' column of the Titanic dataset."
   ]
  },
  {
   "cell_type": "code",
   "execution_count": 145,
   "id": "dfe1a767",
   "metadata": {},
   "outputs": [
    {
     "data": {
      "text/plain": [
       "<Axes: xlabel='Age'>"
      ]
     },
     "execution_count": 145,
     "metadata": {},
     "output_type": "execute_result"
    },
    {
     "data": {
      "image/png": "[encoded data removed]",
      "text/plain": [
       "<Figure size 640x480 with 1 Axes>"
      ]
     },
     "metadata": {},
     "output_type": "display_data"
    }
   ],
   "source": [
    "#Visualizing data without outliers\n",
    "sns.boxplot(data = titanic_N, x= 'Age')"
   ]
  },
  {
   "cell_type": "code",
   "execution_count": 146,
   "id": "ec550c81",
   "metadata": {},
   "outputs": [],
   "source": [
    "#Import Libraries\n",
    "import pandas as pd\n",
    "import numpy as np\n",
    "import seaborn as sns\n",
    "import matplotlib.pyplot as plt\n",
    "import statistics as st"
   ]
  },
  {
   "cell_type": "code",
   "execution_count": 147,
   "id": "f7a2ead2",
   "metadata": {},
   "outputs": [
    {
     "data": {
      "text/plain": [
       "['anagrams',\n",
       " 'anscombe',\n",
       " 'attention',\n",
       " 'brain_networks',\n",
       " 'car_crashes',\n",
       " 'diamonds',\n",
       " 'dots',\n",
       " 'dowjones',\n",
       " 'exercise',\n",
       " 'flights',\n",
       " 'fmri',\n",
       " 'geyser',\n",
       " 'glue',\n",
       " 'healthexp',\n",
       " 'iris',\n",
       " 'mpg',\n",
       " 'penguins',\n",
       " 'planets',\n",
       " 'seaice',\n",
       " 'taxis',\n",
       " 'tips',\n",
       " 'titanic',\n",
       " 'anagrams',\n",
       " 'anagrams',\n",
       " 'anscombe',\n",
       " 'anscombe',\n",
       " 'attention',\n",
       " 'attention',\n",
       " 'brain_networks',\n",
       " 'brain_networks',\n",
       " 'car_crashes',\n",
       " 'car_crashes',\n",
       " 'diamonds',\n",
       " 'diamonds',\n",
       " 'dots',\n",
       " 'dots',\n",
       " 'dowjones',\n",
       " 'dowjones',\n",
       " 'exercise',\n",
       " 'exercise',\n",
       " 'flights',\n",
       " 'flights',\n",
       " 'fmri',\n",
       " 'fmri',\n",
       " 'geyser',\n",
       " 'geyser',\n",
       " 'glue',\n",
       " 'glue',\n",
       " 'healthexp',\n",
       " 'healthexp',\n",
       " 'iris',\n",
       " 'iris',\n",
       " 'mpg',\n",
       " 'mpg',\n",
       " 'penguins',\n",
       " 'penguins',\n",
       " 'planets',\n",
       " 'planets',\n",
       " 'seaice',\n",
       " 'seaice',\n",
       " 'taxis',\n",
       " 'taxis',\n",
       " 'tips',\n",
       " 'tips',\n",
       " 'titanic',\n",
       " 'titanic',\n",
       " 'anagrams',\n",
       " 'anscombe',\n",
       " 'attention',\n",
       " 'brain_networks',\n",
       " 'car_crashes',\n",
       " 'diamonds',\n",
       " 'dots',\n",
       " 'dowjones',\n",
       " 'exercise',\n",
       " 'flights',\n",
       " 'fmri',\n",
       " 'geyser',\n",
       " 'glue',\n",
       " 'healthexp',\n",
       " 'iris',\n",
       " 'mpg',\n",
       " 'penguins',\n",
       " 'planets',\n",
       " 'seaice',\n",
       " 'taxis',\n",
       " 'tips',\n",
       " 'titanic']"
      ]
     },
     "execution_count": 147,
     "metadata": {},
     "output_type": "execute_result"
    }
   ],
   "source": [
    "sns.get_dataset_names()"
   ]
  },
  {
   "cell_type": "code",
   "execution_count": 151,
   "id": "df062606",
   "metadata": {},
   "outputs": [],
   "source": [
    "tip= sns.load_dataset('tips')"
   ]
  },
  {
   "cell_type": "code",
   "execution_count": 152,
   "id": "785b524c",
   "metadata": {},
   "outputs": [
    {
     "data": {
      "text/plain": [
       "pandas.core.frame.DataFrame"
      ]
     },
     "execution_count": 152,
     "metadata": {},
     "output_type": "execute_result"
    }
   ],
   "source": [
    "type(tip)"
   ]
  },
  {
   "cell_type": "code",
   "execution_count": 153,
   "id": "8e7a48f6",
   "metadata": {},
   "outputs": [
    {
     "data": {
      "text/plain": [
       "(244, 7)"
      ]
     },
     "execution_count": 153,
     "metadata": {},
     "output_type": "execute_result"
    }
   ],
   "source": [
    "tip.shape"
   ]
  },
  {
   "cell_type": "code",
   "execution_count": 154,
   "id": "8c9f15b1",
   "metadata": {},
   "outputs": [
    {
     "data": {
      "text/plain": [
       "Index(['total_bill', 'tip', 'sex', 'smoker', 'day', 'time', 'size'], dtype='object')"
      ]
     },
     "execution_count": 154,
     "metadata": {},
     "output_type": "execute_result"
    }
   ],
   "source": [
    "tip.columns"
   ]
  },
  {
   "cell_type": "code",
   "execution_count": 155,
   "id": "52be9838",
   "metadata": {},
   "outputs": [
    {
     "name": "stdout",
     "output_type": "stream",
     "text": [
      "<class 'pandas.core.frame.DataFrame'>\n",
      "RangeIndex: 244 entries, 0 to 243\n",
      "Data columns (total 7 columns):\n",
      " #   Column      Non-Null Count  Dtype   \n",
      "---  ------      --------------  -----   \n",
      " 0   total_bill  244 non-null    float64 \n",
      " 1   tip         244 non-null    float64 \n",
      " 2   sex         244 non-null    category\n",
      " 3   smoker      244 non-null    category\n",
      " 4   day         244 non-null    category\n",
      " 5   time        244 non-null    category\n",
      " 6   size        244 non-null    int64   \n",
      "dtypes: category(4), float64(2), int64(1)\n",
      "memory usage: 7.4 KB\n"
     ]
    }
   ],
   "source": [
    "tip.info()"
   ]
  },
  {
   "cell_type": "code",
   "execution_count": 158,
   "id": "d9558b84",
   "metadata": {},
   "outputs": [
    {
     "data": {
      "text/plain": [
       "<bound method NDFrame.describe of      total_bill   tip     sex smoker   day    time  size\n",
       "0         16.99  1.01  Female     No   Sun  Dinner     2\n",
       "1         10.34  1.66    Male     No   Sun  Dinner     3\n",
       "2         21.01  3.50    Male     No   Sun  Dinner     3\n",
       "3         23.68  3.31    Male     No   Sun  Dinner     2\n",
       "4         24.59  3.61  Female     No   Sun  Dinner     4\n",
       "..          ...   ...     ...    ...   ...     ...   ...\n",
       "239       29.03  5.92    Male     No   Sat  Dinner     3\n",
       "240       27.18  2.00  Female    Yes   Sat  Dinner     2\n",
       "241       22.67  2.00    Male    Yes   Sat  Dinner     2\n",
       "242       17.82  1.75    Male     No   Sat  Dinner     2\n",
       "243       18.78  3.00  Female     No  Thur  Dinner     2\n",
       "\n",
       "[244 rows x 7 columns]>"
      ]
     },
     "execution_count": 158,
     "metadata": {},
     "output_type": "execute_result"
    }
   ],
   "source": [
    "tip.describe"
   ]
  },
  {
   "cell_type": "code",
   "execution_count": 161,
   "id": "e2e86510",
   "metadata": {},
   "outputs": [
    {
     "name": "stderr",
     "output_type": "stream",
     "text": [
      "C:\\Users\\RASHEEDAT\\anaconda3\\Lib\\site-packages\\seaborn\\axisgrid.py:118: UserWarning: The figure layout has changed to tight\n",
      "  self._figure.tight_layout(*args, **kwargs)\n"
     ]
    },
    {
     "data": {
      "text/plain": [
       "<seaborn.axisgrid.FacetGrid at 0x145e4e6ed10>"
      ]
     },
     "execution_count": 161,
     "metadata": {},
     "output_type": "execute_result"
    },
    {
     "data": {
      "image/png": "[encoded data removed]",
      "text/plain": [
       "<Figure size 500x500 with 1 Axes>"
      ]
     },
     "metadata": {},
     "output_type": "display_data"
    }
   ],
   "source": [
    "#Distribution\n",
    "sns.displot(data = tip, x = 'total_bill', bins = 10, kde = False)"
   ]
  },
  {
   "cell_type": "code",
   "execution_count": 162,
   "id": "7048686b",
   "metadata": {},
   "outputs": [
    {
     "data": {
      "text/html": [
       "<div>\n",
       "<style scoped>\n",
       "    .dataframe tbody tr th:only-of-type {\n",
       "        vertical-align: middle;\n",
       "    }\n",
       "\n",
       "    .dataframe tbody tr th {\n",
       "        vertical-align: top;\n",
       "    }\n",
       "\n",
       "    .dataframe thead th {\n",
       "        text-align: right;\n",
       "    }\n",
       "</style>\n",
       "<table border=\"1\" class=\"dataframe\">\n",
       "  <thead>\n",
       "    <tr style=\"text-align: right;\">\n",
       "      <th></th>\n",
       "      <th>total_bill</th>\n",
       "      <th>tip</th>\n",
       "      <th>sex</th>\n",
       "      <th>smoker</th>\n",
       "      <th>day</th>\n",
       "      <th>time</th>\n",
       "      <th>size</th>\n",
       "    </tr>\n",
       "  </thead>\n",
       "  <tbody>\n",
       "    <tr>\n",
       "      <th>count</th>\n",
       "      <td>244.000000</td>\n",
       "      <td>244.000000</td>\n",
       "      <td>244</td>\n",
       "      <td>244</td>\n",
       "      <td>244</td>\n",
       "      <td>244</td>\n",
       "      <td>244.000000</td>\n",
       "    </tr>\n",
       "    <tr>\n",
       "      <th>unique</th>\n",
       "      <td>NaN</td>\n",
       "      <td>NaN</td>\n",
       "      <td>2</td>\n",
       "      <td>2</td>\n",
       "      <td>4</td>\n",
       "      <td>2</td>\n",
       "      <td>NaN</td>\n",
       "    </tr>\n",
       "    <tr>\n",
       "      <th>top</th>\n",
       "      <td>NaN</td>\n",
       "      <td>NaN</td>\n",
       "      <td>Male</td>\n",
       "      <td>No</td>\n",
       "      <td>Sat</td>\n",
       "      <td>Dinner</td>\n",
       "      <td>NaN</td>\n",
       "    </tr>\n",
       "    <tr>\n",
       "      <th>freq</th>\n",
       "      <td>NaN</td>\n",
       "      <td>NaN</td>\n",
       "      <td>157</td>\n",
       "      <td>151</td>\n",
       "      <td>87</td>\n",
       "      <td>176</td>\n",
       "      <td>NaN</td>\n",
       "    </tr>\n",
       "    <tr>\n",
       "      <th>mean</th>\n",
       "      <td>19.785943</td>\n",
       "      <td>2.998279</td>\n",
       "      <td>NaN</td>\n",
       "      <td>NaN</td>\n",
       "      <td>NaN</td>\n",
       "      <td>NaN</td>\n",
       "      <td>2.569672</td>\n",
       "    </tr>\n",
       "    <tr>\n",
       "      <th>std</th>\n",
       "      <td>8.902412</td>\n",
       "      <td>1.383638</td>\n",
       "      <td>NaN</td>\n",
       "      <td>NaN</td>\n",
       "      <td>NaN</td>\n",
       "      <td>NaN</td>\n",
       "      <td>0.951100</td>\n",
       "    </tr>\n",
       "    <tr>\n",
       "      <th>min</th>\n",
       "      <td>3.070000</td>\n",
       "      <td>1.000000</td>\n",
       "      <td>NaN</td>\n",
       "      <td>NaN</td>\n",
       "      <td>NaN</td>\n",
       "      <td>NaN</td>\n",
       "      <td>1.000000</td>\n",
       "    </tr>\n",
       "    <tr>\n",
       "      <th>25%</th>\n",
       "      <td>13.347500</td>\n",
       "      <td>2.000000</td>\n",
       "      <td>NaN</td>\n",
       "      <td>NaN</td>\n",
       "      <td>NaN</td>\n",
       "      <td>NaN</td>\n",
       "      <td>2.000000</td>\n",
       "    </tr>\n",
       "    <tr>\n",
       "      <th>50%</th>\n",
       "      <td>17.795000</td>\n",
       "      <td>2.900000</td>\n",
       "      <td>NaN</td>\n",
       "      <td>NaN</td>\n",
       "      <td>NaN</td>\n",
       "      <td>NaN</td>\n",
       "      <td>2.000000</td>\n",
       "    </tr>\n",
       "    <tr>\n",
       "      <th>75%</th>\n",
       "      <td>24.127500</td>\n",
       "      <td>3.562500</td>\n",
       "      <td>NaN</td>\n",
       "      <td>NaN</td>\n",
       "      <td>NaN</td>\n",
       "      <td>NaN</td>\n",
       "      <td>3.000000</td>\n",
       "    </tr>\n",
       "    <tr>\n",
       "      <th>max</th>\n",
       "      <td>50.810000</td>\n",
       "      <td>10.000000</td>\n",
       "      <td>NaN</td>\n",
       "      <td>NaN</td>\n",
       "      <td>NaN</td>\n",
       "      <td>NaN</td>\n",
       "      <td>6.000000</td>\n",
       "    </tr>\n",
       "  </tbody>\n",
       "</table>\n",
       "</div>"
      ],
      "text/plain": [
       "        total_bill         tip   sex smoker  day    time        size\n",
       "count   244.000000  244.000000   244    244  244     244  244.000000\n",
       "unique         NaN         NaN     2      2    4       2         NaN\n",
       "top            NaN         NaN  Male     No  Sat  Dinner         NaN\n",
       "freq           NaN         NaN   157    151   87     176         NaN\n",
       "mean     19.785943    2.998279   NaN    NaN  NaN     NaN    2.569672\n",
       "std       8.902412    1.383638   NaN    NaN  NaN     NaN    0.951100\n",
       "min       3.070000    1.000000   NaN    NaN  NaN     NaN    1.000000\n",
       "25%      13.347500    2.000000   NaN    NaN  NaN     NaN    2.000000\n",
       "50%      17.795000    2.900000   NaN    NaN  NaN     NaN    2.000000\n",
       "75%      24.127500    3.562500   NaN    NaN  NaN     NaN    3.000000\n",
       "max      50.810000   10.000000   NaN    NaN  NaN     NaN    6.000000"
      ]
     },
     "execution_count": 162,
     "metadata": {},
     "output_type": "execute_result"
    }
   ],
   "source": [
    "tip.describe(include = 'all')"
   ]
  },
  {
   "cell_type": "code",
   "execution_count": 163,
   "id": "7d0c8e0f",
   "metadata": {},
   "outputs": [
    {
     "data": {
      "text/plain": [
       "2.99827868852459"
      ]
     },
     "execution_count": 163,
     "metadata": {},
     "output_type": "execute_result"
    }
   ],
   "source": [
    "tip['tip'].mean()"
   ]
  },
  {
   "cell_type": "code",
   "execution_count": 164,
   "id": "903c9214",
   "metadata": {},
   "outputs": [
    {
     "data": {
      "text/plain": [
       "2.9"
      ]
     },
     "execution_count": 164,
     "metadata": {},
     "output_type": "execute_result"
    }
   ],
   "source": [
    "tip['tip'].median()"
   ]
  },
  {
   "cell_type": "code",
   "execution_count": 166,
   "id": "73c2642a",
   "metadata": {},
   "outputs": [
    {
     "name": "stderr",
     "output_type": "stream",
     "text": [
      "C:\\Users\\RASHEEDAT\\anaconda3\\Lib\\site-packages\\seaborn\\axisgrid.py:118: UserWarning: The figure layout has changed to tight\n",
      "  self._figure.tight_layout(*args, **kwargs)\n"
     ]
    },
    {
     "data": {
      "text/plain": [
       "<seaborn.axisgrid.FacetGrid at 0x145e5f5c1d0>"
      ]
     },
     "execution_count": 166,
     "metadata": {},
     "output_type": "execute_result"
    },
    {
     "data": {
      "image/png": "[encoded data removed]",
      "text/plain": [
       "<Figure size 500x500 with 1 Axes>"
      ]
     },
     "metadata": {},
     "output_type": "display_data"
    }
   ],
   "source": [
    "#Visualize the tops column\n",
    "sns.displot(data = tip, x = 'tip', bins = 10, kde = False)"
   ]
  },
  {
   "cell_type": "code",
   "execution_count": 168,
   "id": "653806df",
   "metadata": {},
   "outputs": [
    {
     "data": {
      "text/plain": [
       "4.5"
      ]
     },
     "execution_count": 168,
     "metadata": {},
     "output_type": "execute_result"
    }
   ],
   "source": [
    "#Create A list\n",
    "median_list = [2,3,4,5,6,7]\n",
    "np.median(median_list)"
   ]
  },
  {
   "cell_type": "code",
   "execution_count": 169,
   "id": "e8f22b92",
   "metadata": {},
   "outputs": [
    {
     "data": {
      "text/plain": [
       "5.0"
      ]
     },
     "execution_count": 169,
     "metadata": {},
     "output_type": "execute_result"
    }
   ],
   "source": [
    "#Create Another list\n",
    "median_list = [2,3,4,5,6,7,2000]\n",
    "np.median(median_list)"
   ]
  },
  {
   "cell_type": "code",
   "execution_count": 170,
   "id": "8c62b5a1",
   "metadata": {},
   "outputs": [],
   "source": [
    "tip1 = tip.copy()"
   ]
  },
  {
   "cell_type": "code",
   "execution_count": 172,
   "id": "f904b745",
   "metadata": {},
   "outputs": [
    {
     "name": "stderr",
     "output_type": "stream",
     "text": [
      "C:\\Users\\RASHEEDAT\\AppData\\Local\\Temp\\ipykernel_9168\\2177429527.py:1: SettingWithCopyWarning: \n",
      "A value is trying to be set on a copy of a slice from a DataFrame\n",
      "\n",
      "See the caveats in the documentation: https://pandas.pydata.org/pandas-docs/stable/user_guide/indexing.html#returning-a-view-versus-a-copy\n",
      "  tip1['tip'][3] = np.nan\n"
     ]
    },
    {
     "data": {
      "text/plain": [
       "0    1.01\n",
       "1    1.66\n",
       "2    3.50\n",
       "3     NaN\n",
       "4    3.61\n",
       "Name: tip, dtype: float64"
      ]
     },
     "execution_count": 172,
     "metadata": {},
     "output_type": "execute_result"
    }
   ],
   "source": [
    "tip1['tip'][3] = np.nan\n",
    "tip1['tip'].head()"
   ]
  },
  {
   "cell_type": "code",
   "execution_count": 173,
   "id": "9b8fd419",
   "metadata": {},
   "outputs": [
    {
     "data": {
      "text/plain": [
       "0    1.01\n",
       "1    1.66\n",
       "2    3.50\n",
       "3    2.88\n",
       "4    3.61\n",
       "5    4.71\n",
       "6    2.00\n",
       "7    3.12\n",
       "8    1.96\n",
       "9    3.23\n",
       "Name: tip, dtype: float64"
      ]
     },
     "execution_count": 173,
     "metadata": {},
     "output_type": "execute_result"
    }
   ],
   "source": [
    "tip1['tip'].fillna(tip1['tip'].median()).head(10)"
   ]
  },
  {
   "cell_type": "code",
   "execution_count": 175,
   "id": "d4b2711e",
   "metadata": {},
   "outputs": [
    {
     "data": {
      "text/plain": [
       "0    1.010000\n",
       "1    1.660000\n",
       "2    3.500000\n",
       "3    2.996996\n",
       "4    3.610000\n",
       "5    4.710000\n",
       "6    2.000000\n",
       "7    3.120000\n",
       "8    1.960000\n",
       "9    3.230000\n",
       "Name: tip, dtype: float64"
      ]
     },
     "execution_count": 175,
     "metadata": {},
     "output_type": "execute_result"
    }
   ],
   "source": [
    "tip1['tip'].fillna(tip1['tip'].mean()).head(10)"
   ]
  },
  {
   "cell_type": "code",
   "execution_count": 176,
   "id": "e0c0c997",
   "metadata": {},
   "outputs": [
    {
     "data": {
      "text/plain": [
       "count    243.000000\n",
       "mean       2.996996\n",
       "std        1.386349\n",
       "min        1.000000\n",
       "25%        2.000000\n",
       "50%        2.880000\n",
       "75%        3.575000\n",
       "max       10.000000\n",
       "Name: tip, dtype: float64"
      ]
     },
     "execution_count": 176,
     "metadata": {},
     "output_type": "execute_result"
    }
   ],
   "source": [
    "tip1['tip'].describe()"
   ]
  },
  {
   "cell_type": "code",
   "execution_count": 178,
   "id": "9e0c825b",
   "metadata": {},
   "outputs": [
    {
     "data": {
      "text/plain": [
       "20.7"
      ]
     },
     "execution_count": 178,
     "metadata": {},
     "output_type": "execute_result"
    }
   ],
   "source": [
    "age_list =[23,12,14,13,21,26,25,20,28,25]\n",
    "np.mean(age_list)"
   ]
  },
  {
   "cell_type": "code",
   "execution_count": 179,
   "id": "1dcd4b92",
   "metadata": {},
   "outputs": [
    {
     "data": {
      "text/plain": [
       "25"
      ]
     },
     "execution_count": 179,
     "metadata": {},
     "output_type": "execute_result"
    }
   ],
   "source": [
    "age_list = [23,12,14,13,21,26,25,20,28,25,68]\n",
    "st.mean(age_list)"
   ]
  },
  {
   "cell_type": "code",
   "execution_count": 180,
   "id": "7d5e684a",
   "metadata": {},
   "outputs": [
    {
     "data": {
      "text/plain": [
       "19.78594262295082"
      ]
     },
     "execution_count": 180,
     "metadata": {},
     "output_type": "execute_result"
    }
   ],
   "source": [
    "tip['total_bill'].mean()"
   ]
  },
  {
   "cell_type": "code",
   "execution_count": 181,
   "id": "25bdb811",
   "metadata": {},
   "outputs": [
    {
     "data": {
      "text/html": [
       "<div>\n",
       "<style scoped>\n",
       "    .dataframe tbody tr th:only-of-type {\n",
       "        vertical-align: middle;\n",
       "    }\n",
       "\n",
       "    .dataframe tbody tr th {\n",
       "        vertical-align: top;\n",
       "    }\n",
       "\n",
       "    .dataframe thead th {\n",
       "        text-align: right;\n",
       "    }\n",
       "</style>\n",
       "<table border=\"1\" class=\"dataframe\">\n",
       "  <thead>\n",
       "    <tr style=\"text-align: right;\">\n",
       "      <th></th>\n",
       "      <th>total_bill</th>\n",
       "      <th>tip</th>\n",
       "      <th>sex</th>\n",
       "      <th>smoker</th>\n",
       "      <th>day</th>\n",
       "      <th>time</th>\n",
       "      <th>size</th>\n",
       "    </tr>\n",
       "  </thead>\n",
       "  <tbody>\n",
       "    <tr>\n",
       "      <th>0</th>\n",
       "      <td>16.99</td>\n",
       "      <td>1.01</td>\n",
       "      <td>Female</td>\n",
       "      <td>No</td>\n",
       "      <td>Sun</td>\n",
       "      <td>Dinner</td>\n",
       "      <td>2</td>\n",
       "    </tr>\n",
       "    <tr>\n",
       "      <th>1</th>\n",
       "      <td>10.34</td>\n",
       "      <td>1.66</td>\n",
       "      <td>Male</td>\n",
       "      <td>No</td>\n",
       "      <td>Sun</td>\n",
       "      <td>Dinner</td>\n",
       "      <td>3</td>\n",
       "    </tr>\n",
       "    <tr>\n",
       "      <th>2</th>\n",
       "      <td>21.01</td>\n",
       "      <td>3.50</td>\n",
       "      <td>Male</td>\n",
       "      <td>No</td>\n",
       "      <td>Sun</td>\n",
       "      <td>Dinner</td>\n",
       "      <td>3</td>\n",
       "    </tr>\n",
       "    <tr>\n",
       "      <th>3</th>\n",
       "      <td>23.68</td>\n",
       "      <td>3.31</td>\n",
       "      <td>Male</td>\n",
       "      <td>No</td>\n",
       "      <td>Sun</td>\n",
       "      <td>Dinner</td>\n",
       "      <td>2</td>\n",
       "    </tr>\n",
       "    <tr>\n",
       "      <th>4</th>\n",
       "      <td>24.59</td>\n",
       "      <td>3.61</td>\n",
       "      <td>Female</td>\n",
       "      <td>No</td>\n",
       "      <td>Sun</td>\n",
       "      <td>Dinner</td>\n",
       "      <td>4</td>\n",
       "    </tr>\n",
       "  </tbody>\n",
       "</table>\n",
       "</div>"
      ],
      "text/plain": [
       "   total_bill   tip     sex smoker  day    time  size\n",
       "0       16.99  1.01  Female     No  Sun  Dinner     2\n",
       "1       10.34  1.66    Male     No  Sun  Dinner     3\n",
       "2       21.01  3.50    Male     No  Sun  Dinner     3\n",
       "3       23.68  3.31    Male     No  Sun  Dinner     2\n",
       "4       24.59  3.61  Female     No  Sun  Dinner     4"
      ]
     },
     "execution_count": 181,
     "metadata": {},
     "output_type": "execute_result"
    }
   ],
   "source": [
    "tip.head()"
   ]
  },
  {
   "cell_type": "code",
   "execution_count": 182,
   "id": "b107a8e8",
   "metadata": {},
   "outputs": [
    {
     "name": "stderr",
     "output_type": "stream",
     "text": [
      "C:\\Users\\RASHEEDAT\\anaconda3\\Lib\\site-packages\\seaborn\\axisgrid.py:118: UserWarning: The figure layout has changed to tight\n",
      "  self._figure.tight_layout(*args, **kwargs)\n"
     ]
    },
    {
     "data": {
      "text/plain": [
       "<seaborn.axisgrid.FacetGrid at 0x145e5fe3050>"
      ]
     },
     "execution_count": 182,
     "metadata": {},
     "output_type": "execute_result"
    },
    {
     "data": {
      "image/png": "[encoded data removed]",
      "text/plain": [
       "<Figure size 500x500 with 1 Axes>"
      ]
     },
     "metadata": {},
     "output_type": "display_data"
    }
   ],
   "source": [
    "#Visualize the tops column\n",
    "sns.displot(data = tip, x = 'size', bins = 10, kde = False)"
   ]
  },
  {
   "cell_type": "code",
   "execution_count": 184,
   "id": "9850c854",
   "metadata": {},
   "outputs": [
    {
     "data": {
      "text/plain": [
       "0    2\n",
       "Name: size, dtype: int64"
      ]
     },
     "execution_count": 184,
     "metadata": {},
     "output_type": "execute_result"
    }
   ],
   "source": [
    "#Find mode\n",
    "tip['size'].mode()"
   ]
  },
  {
   "cell_type": "code",
   "execution_count": 186,
   "id": "9bd51bf3",
   "metadata": {},
   "outputs": [
    {
     "data": {
      "text/plain": [
       "24.0"
      ]
     },
     "execution_count": 186,
     "metadata": {},
     "output_type": "execute_result"
    }
   ],
   "source": [
    "mode = mode.mean()\n",
    "mode"
   ]
  },
  {
   "cell_type": "code",
   "execution_count": 188,
   "id": "7c8a4b28",
   "metadata": {},
   "outputs": [],
   "source": [
    "#Sampling\n",
    "tip_sample=tip.sample(frac = 0.3, replace = True, random_state = 1)"
   ]
  },
  {
   "cell_type": "code",
   "execution_count": 189,
   "id": "21601216",
   "metadata": {},
   "outputs": [
    {
     "data": {
      "text/plain": [
       "(73, 7)"
      ]
     },
     "execution_count": 189,
     "metadata": {},
     "output_type": "execute_result"
    }
   ],
   "source": [
    "tip_sample.shape"
   ]
  },
  {
   "cell_type": "code",
   "execution_count": 190,
   "id": "8771aa77",
   "metadata": {},
   "outputs": [
    {
     "data": {
      "text/plain": [
       "<bound method NDFrame._add_numeric_operations.<locals>.mean of 37     16.93\n",
       "235    10.07\n",
       "140    17.47\n",
       "72     26.86\n",
       "137    14.15\n",
       "       ...  \n",
       "26     13.37\n",
       "52     34.81\n",
       "80     19.44\n",
       "109    14.31\n",
       "115    17.31\n",
       "Name: total_bill, Length: 73, dtype: float64>"
      ]
     },
     "execution_count": 190,
     "metadata": {},
     "output_type": "execute_result"
    }
   ],
   "source": [
    "tip_sample['total_bill'].mean"
   ]
  },
  {
   "cell_type": "code",
   "execution_count": 191,
   "id": "199e45a6",
   "metadata": {},
   "outputs": [
    {
     "data": {
      "text/plain": [
       "<bound method NDFrame._add_numeric_operations.<locals>.std of 37     16.93\n",
       "235    10.07\n",
       "140    17.47\n",
       "72     26.86\n",
       "137    14.15\n",
       "       ...  \n",
       "26     13.37\n",
       "52     34.81\n",
       "80     19.44\n",
       "109    14.31\n",
       "115    17.31\n",
       "Name: total_bill, Length: 73, dtype: float64>"
      ]
     },
     "execution_count": 191,
     "metadata": {},
     "output_type": "execute_result"
    }
   ],
   "source": [
    "tip_sample['total_bill'].std"
   ]
  },
  {
   "cell_type": "code",
   "execution_count": 192,
   "id": "b17f74fb",
   "metadata": {},
   "outputs": [
    {
     "name": "stderr",
     "output_type": "stream",
     "text": [
      "C:\\Users\\RASHEEDAT\\anaconda3\\Lib\\site-packages\\seaborn\\axisgrid.py:118: UserWarning: The figure layout has changed to tight\n",
      "  self._figure.tight_layout(*args, **kwargs)\n"
     ]
    },
    {
     "data": {
      "text/plain": [
       "<seaborn.axisgrid.FacetGrid at 0x145e60573d0>"
      ]
     },
     "execution_count": 192,
     "metadata": {},
     "output_type": "execute_result"
    },
    {
     "data": {
      "image/png": "[encoded data removed]",
      "text/plain": [
       "<Figure size 500x500 with 1 Axes>"
      ]
     },
     "metadata": {},
     "output_type": "display_data"
    }
   ],
   "source": [
    "sns.displot(data = tip_sample, x ='total_bill', bins = 10, kde = False)"
   ]
  },
  {
   "cell_type": "code",
   "execution_count": 193,
   "id": "45d1165f",
   "metadata": {},
   "outputs": [
    {
     "data": {
      "text/plain": [
       "<Axes: xlabel='total_bill', ylabel='tip'>"
      ]
     },
     "execution_count": 193,
     "metadata": {},
     "output_type": "execute_result"
    },
    {
     "data": {
      "image/png": "[encoded data removed]",
      "text/plain": [
       "<Figure size 640x480 with 1 Axes>"
      ]
     },
     "metadata": {},
     "output_type": "display_data"
    }
   ],
   "source": [
    "sns.scatterplot(data = tip_sample, x = 'total_bill', y = 'tip', hue = 'sex')"
   ]
  },
  {
   "cell_type": "markdown",
   "id": "1c77fdcb",
   "metadata": {},
   "source": [
    "# NUMPY"
   ]
  },
  {
   "cell_type": "code",
   "execution_count": 194,
   "id": "a3f9fe71",
   "metadata": {},
   "outputs": [],
   "source": [
    "import numpy as np"
   ]
  },
  {
   "cell_type": "code",
   "execution_count": 197,
   "id": "1e9cd980",
   "metadata": {},
   "outputs": [
    {
     "name": "stdout",
     "output_type": "stream",
     "text": [
      "[0.66329096 0.48368742 0.37900934 ... 0.10384022 0.51604879 0.55127561]\n"
     ]
    }
   ],
   "source": [
    "x = np.random.random (1000000) \n",
    "(print(x))"
   ]
  },
  {
   "cell_type": "code",
   "execution_count": 198,
   "id": "d271bc4e",
   "metadata": {},
   "outputs": [
    {
     "data": {
      "text/plain": [
       "numpy.ndarray"
      ]
     },
     "execution_count": 198,
     "metadata": {},
     "output_type": "execute_result"
    }
   ],
   "source": [
    "type(x)"
   ]
  },
  {
   "cell_type": "code",
   "execution_count": 203,
   "id": "7ad5863c",
   "metadata": {},
   "outputs": [],
   "source": [
    "import time"
   ]
  },
  {
   "cell_type": "code",
   "execution_count": 204,
   "id": "68031163",
   "metadata": {},
   "outputs": [
    {
     "name": "stdout",
     "output_type": "stream",
     "text": [
      "0.17393136024475098\n"
     ]
    }
   ],
   "source": [
    "start_time = time.time()\n",
    "sum(x)/len(x)\n",
    "print (time.time() - start_time)"
   ]
  },
  {
   "cell_type": "code",
   "execution_count": 201,
   "id": "b14cca96",
   "metadata": {},
   "outputs": [],
   "source": [
    "#For Numpy speed"
   ]
  },
  {
   "cell_type": "code",
   "execution_count": 205,
   "id": "cf87c2c9",
   "metadata": {},
   "outputs": [
    {
     "name": "stdout",
     "output_type": "stream",
     "text": [
      "0.002003908157348633\n"
     ]
    }
   ],
   "source": [
    "start_time = time.time()\n",
    "np.mean(x)\n",
    "print (time.time() - start_time)"
   ]
  },
  {
   "cell_type": "code",
   "execution_count": 206,
   "id": "86e54f17",
   "metadata": {},
   "outputs": [
    {
     "name": "stdout",
     "output_type": "stream",
     "text": [
      "[10  9  8  7  6  5  4  3  2  1]\n"
     ]
    }
   ],
   "source": [
    "x = np.array([10,9,8,7,6,5,4,3,2,1])\n",
    "print (x)"
   ]
  },
  {
   "cell_type": "code",
   "execution_count": 207,
   "id": "94135028",
   "metadata": {},
   "outputs": [
    {
     "data": {
      "text/plain": [
       "numpy.ndarray"
      ]
     },
     "execution_count": 207,
     "metadata": {},
     "output_type": "execute_result"
    }
   ],
   "source": [
    "type(x)"
   ]
  },
  {
   "cell_type": "code",
   "execution_count": 208,
   "id": "9c3ffcbd",
   "metadata": {},
   "outputs": [
    {
     "data": {
      "text/plain": [
       "dtype('int32')"
      ]
     },
     "execution_count": 208,
     "metadata": {},
     "output_type": "execute_result"
    }
   ],
   "source": [
    "x.dtype"
   ]
  },
  {
   "cell_type": "code",
   "execution_count": 209,
   "id": "8d152ae2",
   "metadata": {},
   "outputs": [
    {
     "data": {
      "text/plain": [
       "(10,)"
      ]
     },
     "execution_count": 209,
     "metadata": {},
     "output_type": "execute_result"
    }
   ],
   "source": [
    "x.shape"
   ]
  },
  {
   "cell_type": "code",
   "execution_count": 210,
   "id": "d46e8ec5",
   "metadata": {},
   "outputs": [
    {
     "data": {
      "text/plain": [
       "10"
      ]
     },
     "execution_count": 210,
     "metadata": {},
     "output_type": "execute_result"
    }
   ],
   "source": [
    "x.size"
   ]
  },
  {
   "cell_type": "code",
   "execution_count": 216,
   "id": "b1e620b1",
   "metadata": {},
   "outputs": [
    {
     "name": "stdout",
     "output_type": "stream",
     "text": [
      "[ 0  1  2  3  4  5  6  7  8  9 10 11 12 13 14 15 16 17 18 19]\n"
     ]
    }
   ],
   "source": [
    "import numpy as np\n",
    "\n",
    "w = np.arange(0, 20)\n",
    "print(w)"
   ]
  },
  {
   "cell_type": "code",
   "execution_count": 218,
   "id": "7b877446",
   "metadata": {},
   "outputs": [
    {
     "name": "stdout",
     "output_type": "stream",
     "text": [
      "[ 2.          2.28571429  2.57142857  2.85714286  3.14285714  3.42857143\n",
      "  3.71428571  4.          4.28571429  4.57142857  4.85714286  5.14285714\n",
      "  5.42857143  5.71428571  6.          6.28571429  6.57142857  6.85714286\n",
      "  7.14285714  7.42857143  7.71428571  8.          8.28571429  8.57142857\n",
      "  8.85714286  9.14285714  9.42857143  9.71428571 10.         10.28571429\n",
      " 10.57142857 10.85714286 11.14285714 11.42857143 11.71428571 12.\n",
      " 12.28571429 12.57142857 12.85714286 13.14285714 13.42857143 13.71428571\n",
      " 14.         14.28571429 14.57142857 14.85714286 15.14285714 15.42857143\n",
      " 15.71428571 16.        ]\n"
     ]
    }
   ],
   "source": [
    "t = np.linspace(2,16)\n",
    "print(t)"
   ]
  },
  {
   "cell_type": "code",
   "execution_count": 221,
   "id": "8421b4f0",
   "metadata": {},
   "outputs": [
    {
     "name": "stdout",
     "output_type": "stream",
     "text": [
      "[[-2.   1. ]\n",
      " [ 1.5 -0.5]]\n"
     ]
    }
   ],
   "source": [
    "import numpy as np\n",
    "\n",
    "# Define a matrix A\n",
    "A = np.array([[1, 2], [3, 4]])\n",
    "\n",
    "# Calculate the inverse of matrix A\n",
    "A_inv = np.linalg.inv(A)\n",
    "print(A_inv)\n"
   ]
  },
  {
   "cell_type": "code",
   "execution_count": 139,
   "id": "5dc2d380",
   "metadata": {},
   "outputs": [],
   "source": [
    "# Filter the 'Age' column to identify outliers using the upper limit\n",
    "#outlier_upper = titanic['Age'] > upper_limit\n",
    "\n",
    "# Count the number of outliers\n",
    "#num_outliers = len(titanic[outlier_upper])\n",
    "\n",
    "#print(\"Number of outliers above the upper limit:\", num_outliers)\n",
    "\n",
    "# Generate random ages between 18 and 65 for each row in the DataFrame\n",
    "#ra_demographics['age'] = np.random.randint(18, 66, size=len(ra_demographics))\n"
   ]
  },
  {
   "cell_type": "markdown",
   "id": "5782816b",
   "metadata": {},
   "source": [
    "# THANK YOU ALT SCHOOL"
   ]
  }
 ],
 "metadata": {
  "kernelspec": {
   "display_name": "Python 3 (ipykernel)",
   "language": "python",
   "name": "python3"
  },
  "language_info": {
   "codemirror_mode": {
    "name": "ipython",
    "version": 3
   },
   "file_extension": ".py",
   "mimetype": "text/x-python",
   "name": "python",
   "nbconvert_exporter": "python",
   "pygments_lexer": "ipython3",
   "version": "3.11.5"
  },
  "widgets": {
   "application/vnd.jupyter.widget-state+json": {
    "state": {},
    "version_major": 2,
    "version_minor": 0
   }
  }
 },
 "nbformat": 4,
 "nbformat_minor": 5
}
